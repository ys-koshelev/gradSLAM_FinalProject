{
 "cells": [
  {
   "cell_type": "code",
   "execution_count": 5,
   "metadata": {},
   "outputs": [
    {
     "name": "stdout",
     "output_type": "stream",
     "text": [
      "The autoreload extension is already loaded. To reload it, use:\n",
      "  %reload_ext autoreload\n"
     ]
    }
   ],
   "source": [
    "%load_ext autoreload\n",
    "%autoreload 2"
   ]
  },
  {
   "cell_type": "code",
   "execution_count": 6,
   "metadata": {},
   "outputs": [],
   "source": [
    "import os\n",
    "import open3d as o3d\n",
    "import numpy as np\n",
    "import matplotlib.pyplot as plt\n",
    "%matplotlib inline\n",
    "import OpenEXR as exr, Imath\n",
    "from tqdm import tqdm\n",
    "from glob import glob\n",
    "import cv2\n",
    "\n",
    "import torch\n",
    "import torch.nn as nn\n",
    "import torch.optim as optim\n",
    "import torch.nn.functional as F\n",
    "\n",
    "from utils.cloud import Cloud\n",
    "from pose_est import PoseEst, create_rot_from_angle, transform_pc, extrinsics_from_rot_transl, get_params_from_rot_and_transl\n",
    "from params_est import optim_step_ICP, optim_step_neighbors"
   ]
  },
  {
   "cell_type": "code",
   "execution_count": 7,
   "metadata": {},
   "outputs": [],
   "source": [
    "ksize = 10\n",
    "depth_dir = f'../data/synthetic/stylized-ww01-plane/blender_renders_depth4_3x_more_frames_mblur_{ksize}/'\n",
    "gt_extrinsics_dir = f'../data/synthetic/stylized-ww01-plane/blender_render_depth4_3x_more_frames_/'\n",
    "gt_depth_dir = '../data/synthetic/stylized-ww01-plane/blender_render_depth4_3x_more_frames_'\n",
    "shared_K_path = f'../data/synthetic/stylized-ww01-plane/blender_render_depth4_3x_more_frames_/K_0.txt'"
   ]
  },
  {
   "cell_type": "code",
   "execution_count": 8,
   "metadata": {},
   "outputs": [],
   "source": [
    "K = torch.tensor(np.loadtxt(shared_K_path)).double()"
   ]
  },
  {
   "cell_type": "code",
   "execution_count": 9,
   "metadata": {},
   "outputs": [
    {
     "data": {
      "text/plain": [
       "tensor([[2.6667e+03, 0.0000e+00, 9.6000e+02],\n",
       "        [0.0000e+00, 2.6667e+03, 5.4000e+02],\n",
       "        [0.0000e+00, 0.0000e+00, 1.0000e+00]], dtype=torch.float64)"
      ]
     },
     "execution_count": 9,
     "metadata": {},
     "output_type": "execute_result"
    }
   ],
   "source": [
    "K"
   ]
  },
  {
   "cell_type": "code",
   "execution_count": 10,
   "metadata": {},
   "outputs": [],
   "source": [
    "def load_data(depth_dir, gt_extrinsics_dir, indices, gt_depth_dir=None):\n",
    "    # indices: array-like of int\n",
    "    depth_all, RT_all, gt_depth_all = [], [], []\n",
    "    for ind in indices:\n",
    "        depth = np.load(os.path.join(depth_dir, f'{ind}.npy'))\n",
    "        RT = np.loadtxt(os.path.join(gt_extrinsics_dir, f'RT_{ind}.txt'))\n",
    "        depth_all.append(depth)\n",
    "        RT_all.append(RT)\n",
    "        if gt_depth_dir is not None:\n",
    "            gt_depth = np.load(os.path.join(gt_depth_dir, f'{ind}.npy'))\n",
    "            if len(gt_depth.shape) == 3 and gt_depth.shape[2] == 1:\n",
    "                gt_depth = gt_depth[..., 0]\n",
    "            gt_depth_all.append(gt_depth)\n",
    "    \n",
    "    depth_all = torch.tensor(np.stack(depth_all)).double()\n",
    "    RT_all = torch.tensor(np.stack(RT_all)).double()\n",
    "    if gt_depth_dir is not None:\n",
    "        gt_depth_all = torch.tensor(np.stack(gt_depth_all)).double()\n",
    "        return depth_all, RT_all, gt_depth_all\n",
    "    return depth_all, RT_all"
   ]
  },
  {
   "cell_type": "code",
   "execution_count": 11,
   "metadata": {},
   "outputs": [],
   "source": [
    "depth, extr, gt_depth = load_data(depth_dir, gt_extrinsics_dir, indices=[10, 50], gt_depth_dir=gt_depth_dir)"
   ]
  },
  {
   "cell_type": "code",
   "execution_count": null,
   "metadata": {},
   "outputs": [],
   "source": [
    "depth[0].min(), depth[0].max()"
   ]
  },
  {
   "cell_type": "code",
   "execution_count": null,
   "metadata": {},
   "outputs": [],
   "source": [
    "depth[1].min(), depth[1].max()"
   ]
  },
  {
   "cell_type": "code",
   "execution_count": null,
   "metadata": {},
   "outputs": [],
   "source": [
    "depth.shape, extr.shape, gt_depth.shape"
   ]
  },
  {
   "cell_type": "markdown",
   "metadata": {},
   "source": [
    "### Testing visualization"
   ]
  },
  {
   "cell_type": "code",
   "execution_count": 3,
   "metadata": {},
   "outputs": [
    {
     "ename": "NameError",
     "evalue": "name 'depth' is not defined",
     "output_type": "error",
     "traceback": [
      "\u001b[0;31m---------------------------------------------------------------------------\u001b[0m",
      "\u001b[0;31mNameError\u001b[0m                                 Traceback (most recent call last)",
      "\u001b[0;32m<ipython-input-3-47ec3f66897c>\u001b[0m in \u001b[0;36m<module>\u001b[0;34m\u001b[0m\n\u001b[0;32m----> 1\u001b[0;31m \u001b[0mpc1\u001b[0m \u001b[0;34m=\u001b[0m \u001b[0mCloud\u001b[0m\u001b[0;34m.\u001b[0m\u001b[0mfrom_tensors\u001b[0m\u001b[0;34m(\u001b[0m\u001b[0mdepth\u001b[0m\u001b[0;34m[\u001b[0m\u001b[0;36m0\u001b[0m\u001b[0;34m]\u001b[0m\u001b[0;34m,\u001b[0m \u001b[0mK\u001b[0m\u001b[0;34m,\u001b[0m \u001b[0mextr\u001b[0m\u001b[0;34m[\u001b[0m\u001b[0;36m0\u001b[0m\u001b[0;34m]\u001b[0m\u001b[0;34m,\u001b[0m \u001b[0mignore\u001b[0m\u001b[0;34m=\u001b[0m\u001b[0;34m'max'\u001b[0m\u001b[0;34m)\u001b[0m\u001b[0;34m\u001b[0m\u001b[0;34m\u001b[0m\u001b[0m\n\u001b[0m",
      "\u001b[0;31mNameError\u001b[0m: name 'depth' is not defined"
     ]
    }
   ],
   "source": [
    "pc1 = Cloud.from_tensors(depth[0], K, extr[0], ignore='max')"
   ]
  },
  {
   "cell_type": "code",
   "execution_count": 12,
   "metadata": {},
   "outputs": [
    {
     "data": {
      "text/plain": [
       "tensor([[ 1.6526, -0.7546, 14.1700],\n",
       "        [ 1.6093, -0.7325, 13.7550],\n",
       "        [ 1.5657, -0.7103, 13.3393],\n",
       "        ...,\n",
       "        [ 0.0976,  1.6636, 13.0099],\n",
       "        [ 0.1087,  1.7655, 13.8064],\n",
       "        [ 0.1205,  1.8673, 14.6023]], dtype=torch.float64)"
      ]
     },
     "execution_count": 12,
     "metadata": {},
     "output_type": "execute_result"
    }
   ],
   "source": [
    "pc1.points"
   ]
  },
  {
   "cell_type": "code",
   "execution_count": 11,
   "metadata": {},
   "outputs": [],
   "source": [
    "def visualize_pcd(*cloud_objs):\n",
    "    all_pc_o3d = []\n",
    "    for cloud in cloud_objs:\n",
    "        cloud_pts = cloud.points.cpu().data.numpy()\n",
    "        pc_o3d = o3d.geometry.PointCloud(o3d.utility.Vector3dVector(cloud_pts))\n",
    "        all_pc_o3d.append(pc_o3d)\n",
    "    o3d.visualization.draw_geometries(all_pc_o3d)"
   ]
  },
  {
   "cell_type": "code",
   "execution_count": 15,
   "metadata": {},
   "outputs": [],
   "source": [
    "visualize_pcd(pc1)"
   ]
  },
  {
   "cell_type": "markdown",
   "metadata": {},
   "source": [
    "### Testing params estimation (ICP correspondence set till convergence + LM till convergence)"
   ]
  },
  {
   "cell_type": "code",
   "execution_count": 38,
   "metadata": {},
   "outputs": [],
   "source": [
    "depth, extr, gt_depth = load_data(depth_dir, gt_extrinsics_dir, indices=[80, 120], gt_depth_dir=gt_depth_dir)"
   ]
  },
  {
   "cell_type": "code",
   "execution_count": 39,
   "metadata": {},
   "outputs": [],
   "source": [
    "# pc0 = Cloud.from_tensors(depth[0], K, torch.eye(4), ignore='max')\n",
    "# pc1 = Cloud.from_tensors(depth[1], K, torch.eye(4), ignore='max')\n",
    "pc0 = Cloud.from_tensors(gt_depth[0], K, torch.eye(4), ignore='max')\n",
    "pc1 = Cloud.from_tensors(gt_depth[1], K, torch.eye(4), ignore='max')"
   ]
  },
  {
   "cell_type": "code",
   "execution_count": 40,
   "metadata": {},
   "outputs": [],
   "source": [
    "visualize_pcd(pc0, pc1)"
   ]
  },
  {
   "cell_type": "code",
   "execution_count": 41,
   "metadata": {},
   "outputs": [
    {
     "name": "stderr",
     "output_type": "stream",
     "text": [
      "  0%|          | 0/100 [00:00<?, ?it/s]"
     ]
    },
    {
     "name": "stdout",
     "output_type": "stream",
     "text": [
      "Correspondence set estimation...\n",
      "Extrinsics estimation...\n"
     ]
    },
    {
     "name": "stderr",
     "output_type": "stream",
     "text": [
      "  0%|          | 0/100 [00:01<?, ?it/s]\n"
     ]
    },
    {
     "data": {
      "text/plain": [
       "tensor([-1.8034,  0.0841, -0.0755,  0.0127,  0.2649,  0.0294],\n",
       "       dtype=torch.float64)"
      ]
     },
     "execution_count": 41,
     "metadata": {},
     "output_type": "execute_result"
    }
   ],
   "source": [
    "# optimization step & pc0 update:\n",
    "\n",
    "params = optim_step_ICP(pc0, pc1, max_iter=100, icp_max_iter=30, verbose=1)\n",
    "transl, angle = params.split([3, 3], dim=-1)\n",
    "rot = create_rot_from_angle(angle.unsqueeze(0)).squeeze(0)\n",
    "pc0.points = transform_pc(pc0.points, rot, transl).squeeze(1)\n",
    "params"
   ]
  },
  {
   "cell_type": "code",
   "execution_count": 42,
   "metadata": {},
   "outputs": [],
   "source": [
    "visualize_pcd(pc0, pc1)"
   ]
  },
  {
   "cell_type": "code",
   "execution_count": 35,
   "metadata": {},
   "outputs": [
    {
     "data": {
      "text/plain": [
       "tensor([-0.3203,  0.5003,  0.1535], dtype=torch.float64)"
      ]
     },
     "execution_count": 35,
     "metadata": {},
     "output_type": "execute_result"
    }
   ],
   "source": [
    "transl"
   ]
  },
  {
   "cell_type": "code",
   "execution_count": 43,
   "metadata": {},
   "outputs": [
    {
     "data": {
      "text/plain": [
       "tensor([[ 0.9647, -0.0274,  0.2620, -1.8034],\n",
       "        [ 0.0307,  0.9995, -0.0087,  0.0841],\n",
       "        [-0.2616,  0.0164,  0.9650, -0.0755],\n",
       "        [ 0.0000,  0.0000,  0.0000,  1.0000]], dtype=torch.float64)"
      ]
     },
     "execution_count": 43,
     "metadata": {},
     "output_type": "execute_result"
    }
   ],
   "source": [
    "extrinsics_from_rot_transl(rot, transl)"
   ]
  },
  {
   "cell_type": "code",
   "execution_count": 44,
   "metadata": {},
   "outputs": [
    {
     "data": {
      "text/plain": [
       "tensor([[ 0.9645, -0.0230,  0.2631, -1.8127],\n",
       "        [ 0.0252,  0.9997, -0.0051,  0.0583],\n",
       "        [-0.2629,  0.0116,  0.9647, -0.0723],\n",
       "        [ 0.0000,  0.0000,  0.0000,  1.0000]], dtype=torch.float64)"
      ]
     },
     "execution_count": 44,
     "metadata": {},
     "output_type": "execute_result"
    }
   ],
   "source": [
    "extr[1] @ torch.inverse(extr[0])"
   ]
  },
  {
   "cell_type": "markdown",
   "metadata": {},
   "source": [
    "### Testing params estimation ((ICP correspondence set 1 iteration + LM 1 iteration) x N_iter)"
   ]
  },
  {
   "cell_type": "code",
   "execution_count": 52,
   "metadata": {},
   "outputs": [],
   "source": [
    "depth, extr, gt_depth = load_data(depth_dir, gt_extrinsics_dir, indices=[80, 120], gt_depth_dir=gt_depth_dir)"
   ]
  },
  {
   "cell_type": "code",
   "execution_count": 53,
   "metadata": {},
   "outputs": [],
   "source": [
    "# pc0 = Cloud.from_tensors(depth[0], K, torch.eye(4), ignore='max')\n",
    "# pc1 = Cloud.from_tensors(depth[1], K, torch.eye(4), ignore='max')\n",
    "pc0 = Cloud.from_tensors(gt_depth[0], K, torch.eye(4), ignore='max')\n",
    "pc1 = Cloud.from_tensors(gt_depth[1], K, torch.eye(4), ignore='max')"
   ]
  },
  {
   "cell_type": "code",
   "execution_count": 54,
   "metadata": {},
   "outputs": [],
   "source": [
    "# visualize_pcd(pc0, pc1)"
   ]
  },
  {
   "cell_type": "code",
   "execution_count": 55,
   "metadata": {},
   "outputs": [],
   "source": [
    "def loss_T(T_estim, extr_first, extr_second):\n",
    "    gt_rel_extr = extr_second @ torch.inverse(extr_first)\n",
    "    loss_val = ((gt_rel_extr - T_estim) ** 2).sum()\n",
    "    return loss_val"
   ]
  },
  {
   "cell_type": "code",
   "execution_count": 56,
   "metadata": {},
   "outputs": [],
   "source": [
    "def loss_params(pred_params, extr_first, extr_second):\n",
    "    gt_rel_extr = extr_second @ torch.inverse(extr_first)\n",
    "    gt_params = get_params_from_rot_and_transl(gt_rel_extr[:3, :3], gt_rel_extr[:3, 3])\n",
    "    loss_val = ((pred_params - gt_params) ** 2).sum()\n",
    "    return loss_val"
   ]
  },
  {
   "cell_type": "code",
   "execution_count": null,
   "metadata": {
    "scrolled": true
   },
   "outputs": [
    {
     "name": "stderr",
     "output_type": "stream",
     "text": [
      "\n",
      "\n",
      "\n",
      "\n",
      "\n",
      "\n",
      "\n",
      "\n",
      "  0%|          | 0/100 [00:00<?, ?it/s]\u001b[A\u001b[A\u001b[A\u001b[A\u001b[A\u001b[A\u001b[A\u001b[A"
     ]
    },
    {
     "name": "stdout",
     "output_type": "stream",
     "text": [
      "Correspondence set estimation...\n"
     ]
    },
    {
     "name": "stderr",
     "output_type": "stream",
     "text": [
      "\n",
      "\n",
      "\n",
      "\n",
      "\n",
      "\n",
      "\n",
      "\n",
      "  1%|          | 1/100 [00:02<04:37,  2.80s/it]\u001b[A\u001b[A\u001b[A\u001b[A\u001b[A\u001b[A\u001b[A\u001b[A"
     ]
    },
    {
     "name": "stdout",
     "output_type": "stream",
     "text": [
      "Extrinsics estimation...\n",
      "Did not converge with required tolerance.\n",
      "loss tensor(2.7553, dtype=torch.float64)\n",
      "Correspondence set estimation...\n"
     ]
    },
    {
     "name": "stderr",
     "output_type": "stream",
     "text": [
      "\n",
      "\n",
      "\n",
      "\n",
      "\n",
      "\n",
      "\n",
      "\n",
      "  2%|▏         | 2/100 [00:04<04:15,  2.60s/it]\u001b[A\u001b[A\u001b[A\u001b[A\u001b[A\u001b[A\u001b[A\u001b[A"
     ]
    },
    {
     "name": "stdout",
     "output_type": "stream",
     "text": [
      "Extrinsics estimation...\n",
      "Did not converge with required tolerance.\n",
      "loss tensor(2.3214, dtype=torch.float64)\n",
      "Correspondence set estimation...\n"
     ]
    },
    {
     "name": "stderr",
     "output_type": "stream",
     "text": [
      "\n",
      "\n",
      "\n",
      "\n",
      "\n",
      "\n",
      "\n",
      "\n",
      "  3%|▎         | 3/100 [00:07<03:57,  2.45s/it]\u001b[A\u001b[A\u001b[A\u001b[A\u001b[A\u001b[A\u001b[A\u001b[A"
     ]
    },
    {
     "name": "stdout",
     "output_type": "stream",
     "text": [
      "Extrinsics estimation...\n",
      "Did not converge with required tolerance.\n",
      "loss tensor(2.0223, dtype=torch.float64)\n"
     ]
    },
    {
     "name": "stderr",
     "output_type": "stream",
     "text": [
      "\n",
      "\n",
      "\n",
      "\n",
      "\n",
      "\n",
      "\n",
      "\n",
      "  4%|▍         | 4/100 [00:08<03:34,  2.24s/it]\u001b[A\u001b[A\u001b[A\u001b[A\u001b[A\u001b[A\u001b[A\u001b[A"
     ]
    },
    {
     "name": "stdout",
     "output_type": "stream",
     "text": [
      "Correspondence set estimation...\n",
      "Extrinsics estimation...\n",
      "Did not converge with required tolerance.\n",
      "loss tensor(1.8298, dtype=torch.float64)\n",
      "Correspondence set estimation...\n"
     ]
    },
    {
     "name": "stderr",
     "output_type": "stream",
     "text": [
      "\n",
      "\n",
      "\n",
      "\n",
      "\n",
      "\n",
      "\n",
      "\n",
      "  5%|▌         | 5/100 [00:10<03:22,  2.13s/it]\u001b[A\u001b[A\u001b[A\u001b[A\u001b[A\u001b[A\u001b[A\u001b[A"
     ]
    },
    {
     "name": "stdout",
     "output_type": "stream",
     "text": [
      "Extrinsics estimation...\n",
      "Did not converge with required tolerance.\n",
      "loss tensor(1.6871, dtype=torch.float64)\n",
      "Correspondence set estimation...\n"
     ]
    },
    {
     "name": "stderr",
     "output_type": "stream",
     "text": [
      "\n",
      "\n",
      "\n",
      "\n",
      "\n",
      "\n",
      "\n",
      "\n",
      "  6%|▌         | 6/100 [00:12<03:17,  2.10s/it]\u001b[A\u001b[A\u001b[A\u001b[A\u001b[A\u001b[A\u001b[A\u001b[A"
     ]
    }
   ],
   "source": [
    "gradslam_iter = 100\n",
    "\n",
    "T = torch.eye(4).double()\n",
    "for i in tqdm(range(gradslam_iter)):\n",
    "    params_upd = optim_step_neighbors(pc0, pc1, max_iter=1, neighbors_take_each=1000, verbose=0)\n",
    "    transl_upd, angle_upd = params_upd.split([3, 3], dim=-1)\n",
    "    rot_upd = create_rot_from_angle(angle_upd.unsqueeze(0)).squeeze(0)\n",
    "    pc0.points = transform_pc(pc0.points, rot_upd, transl_upd).squeeze(1)\n",
    "    \n",
    "    T_upd = extrinsics_from_rot_transl(rot_upd, transl_upd).double()\n",
    "    T = T_upd @ T\n",
    "    rot, transl = T[:3, :3], T[:3, 3]\n",
    "    params = get_params_from_rot_and_transl(rot, transl)\n",
    "    # print('loss', loss_T(T, extr[0], extr[1]))\n",
    "    print('loss', loss_params(params, extr[0], extr[1]))\n",
    "\n",
    "params"
   ]
  },
  {
   "cell_type": "code",
   "execution_count": 89,
   "metadata": {
    "scrolled": true
   },
   "outputs": [
    {
     "name": "stderr",
     "output_type": "stream",
     "text": [
      "\n",
      "\n",
      "\n",
      "\n",
      "\n",
      "\n",
      "\n",
      "\n",
      "  0%|          | 0/30 [00:00<?, ?it/s]\u001b[A\u001b[A\u001b[A\u001b[A\u001b[A\u001b[A\u001b[A\u001b[A"
     ]
    },
    {
     "name": "stdout",
     "output_type": "stream",
     "text": [
      "Correspondence set estimation...\n",
      "Extrinsics estimation...\n"
     ]
    },
    {
     "name": "stderr",
     "output_type": "stream",
     "text": [
      "\n",
      "\n",
      "\n",
      "\n",
      "\n",
      "\n",
      "\n",
      "\n",
      "  3%|▎         | 1/30 [00:07<03:43,  7.71s/it]\u001b[A\u001b[A\u001b[A\u001b[A\u001b[A\u001b[A\u001b[A\u001b[A"
     ]
    },
    {
     "name": "stdout",
     "output_type": "stream",
     "text": [
      "Did not converge with required tolerance.\n",
      "loss tensor(1.6056, dtype=torch.float64)\n",
      "Correspondence set estimation...\n",
      "Extrinsics estimation...\n"
     ]
    },
    {
     "name": "stderr",
     "output_type": "stream",
     "text": [
      "\n",
      "\n",
      "\n",
      "\n",
      "\n",
      "\n",
      "\n",
      "\n",
      "  7%|▋         | 2/30 [00:13<03:17,  7.04s/it]\u001b[A\u001b[A\u001b[A\u001b[A\u001b[A\u001b[A\u001b[A\u001b[A"
     ]
    },
    {
     "name": "stdout",
     "output_type": "stream",
     "text": [
      "loss tensor(0.6756, dtype=torch.float64)\n",
      "Correspondence set estimation...\n",
      "Extrinsics estimation...\n"
     ]
    },
    {
     "name": "stderr",
     "output_type": "stream",
     "text": [
      "\n",
      "\n",
      "\n",
      "\n",
      "\n",
      "\n",
      "\n",
      "\n",
      " 10%|█         | 3/30 [00:17<02:48,  6.25s/it]\u001b[A\u001b[A\u001b[A\u001b[A\u001b[A\u001b[A\u001b[A\u001b[A"
     ]
    },
    {
     "name": "stdout",
     "output_type": "stream",
     "text": [
      "loss tensor(0.0787, dtype=torch.float64)\n",
      "Correspondence set estimation...\n",
      "Extrinsics estimation...\n"
     ]
    },
    {
     "name": "stderr",
     "output_type": "stream",
     "text": [
      "\n",
      "\n",
      "\n",
      "\n",
      "\n",
      "\n",
      "\n",
      "\n",
      " 13%|█▎        | 4/30 [00:20<02:18,  5.31s/it]\u001b[A\u001b[A\u001b[A\u001b[A\u001b[A\u001b[A\u001b[A\u001b[A"
     ]
    },
    {
     "name": "stdout",
     "output_type": "stream",
     "text": [
      "loss tensor(0.0166, dtype=torch.float64)\n",
      "Correspondence set estimation...\n",
      "Extrinsics estimation...\n"
     ]
    },
    {
     "name": "stderr",
     "output_type": "stream",
     "text": [
      "\n",
      "\n",
      "\n",
      "\n",
      "\n",
      "\n",
      "\n",
      "\n",
      " 17%|█▋        | 5/30 [00:24<01:58,  4.76s/it]\u001b[A\u001b[A\u001b[A\u001b[A\u001b[A\u001b[A\u001b[A\u001b[A"
     ]
    },
    {
     "name": "stdout",
     "output_type": "stream",
     "text": [
      "Did not converge with required tolerance.\n",
      "loss tensor(0.0085, dtype=torch.float64)\n",
      "Correspondence set estimation...\n",
      "Extrinsics estimation...\n"
     ]
    },
    {
     "name": "stderr",
     "output_type": "stream",
     "text": [
      "\n",
      "\n",
      "\n",
      "\n",
      "\n",
      "\n",
      "\n",
      "\n",
      " 20%|██        | 6/30 [00:27<01:43,  4.33s/it]\u001b[A\u001b[A\u001b[A\u001b[A\u001b[A\u001b[A\u001b[A\u001b[A"
     ]
    },
    {
     "name": "stdout",
     "output_type": "stream",
     "text": [
      "Did not converge with required tolerance.\n",
      "loss tensor(0.0056, dtype=torch.float64)\n",
      "Correspondence set estimation...\n",
      "Extrinsics estimation...\n"
     ]
    },
    {
     "name": "stderr",
     "output_type": "stream",
     "text": [
      "\n",
      "\n",
      "\n",
      "\n",
      "\n",
      "\n",
      "\n",
      "\n",
      " 23%|██▎       | 7/30 [00:30<01:32,  4.01s/it]\u001b[A\u001b[A\u001b[A\u001b[A\u001b[A\u001b[A\u001b[A\u001b[A"
     ]
    },
    {
     "name": "stdout",
     "output_type": "stream",
     "text": [
      "Did not converge with required tolerance.\n",
      "loss tensor(0.0039, dtype=torch.float64)\n",
      "Correspondence set estimation...\n",
      "Extrinsics estimation...\n"
     ]
    },
    {
     "name": "stderr",
     "output_type": "stream",
     "text": [
      "\n",
      "\n",
      "\n",
      "\n",
      "\n",
      "\n",
      "\n",
      "\n",
      " 27%|██▋       | 8/30 [00:33<01:22,  3.75s/it]\u001b[A\u001b[A\u001b[A\u001b[A\u001b[A\u001b[A\u001b[A\u001b[A"
     ]
    },
    {
     "name": "stdout",
     "output_type": "stream",
     "text": [
      "Did not converge with required tolerance.\n",
      "loss tensor(0.0028, dtype=torch.float64)\n",
      "Correspondence set estimation...\n",
      "Extrinsics estimation...\n"
     ]
    },
    {
     "name": "stderr",
     "output_type": "stream",
     "text": [
      "\n",
      "\n",
      "\n",
      "\n",
      "\n",
      "\n",
      "\n",
      "\n",
      " 30%|███       | 9/30 [00:36<01:13,  3.51s/it]\u001b[A\u001b[A\u001b[A\u001b[A\u001b[A\u001b[A\u001b[A\u001b[A"
     ]
    },
    {
     "name": "stdout",
     "output_type": "stream",
     "text": [
      "Did not converge with required tolerance.\n",
      "loss tensor(0.0021, dtype=torch.float64)\n",
      "Correspondence set estimation...\n",
      "Extrinsics estimation...\n"
     ]
    },
    {
     "name": "stderr",
     "output_type": "stream",
     "text": [
      "\n",
      "\n",
      "\n",
      "\n",
      "\n",
      "\n",
      "\n",
      "\n",
      " 33%|███▎      | 10/30 [00:39<01:06,  3.35s/it]\u001b[A\u001b[A\u001b[A\u001b[A\u001b[A\u001b[A\u001b[A\u001b[A"
     ]
    },
    {
     "name": "stdout",
     "output_type": "stream",
     "text": [
      "Did not converge with required tolerance.\n",
      "loss tensor(0.0016, dtype=torch.float64)\n",
      "Correspondence set estimation...\n",
      "Extrinsics estimation...\n"
     ]
    },
    {
     "name": "stderr",
     "output_type": "stream",
     "text": [
      "\n",
      "\n",
      "\n",
      "\n",
      "\n",
      "\n",
      "\n",
      "\n",
      " 37%|███▋      | 11/30 [00:42<01:01,  3.24s/it]\u001b[A\u001b[A\u001b[A\u001b[A\u001b[A\u001b[A\u001b[A\u001b[A"
     ]
    },
    {
     "name": "stdout",
     "output_type": "stream",
     "text": [
      "Did not converge with required tolerance.\n",
      "loss tensor(0.0013, dtype=torch.float64)\n",
      "Correspondence set estimation...\n",
      "Extrinsics estimation...\n"
     ]
    },
    {
     "name": "stderr",
     "output_type": "stream",
     "text": [
      "\n",
      "\n",
      "\n",
      "\n",
      "\n",
      "\n",
      "\n",
      "\n",
      " 40%|████      | 12/30 [00:45<00:56,  3.12s/it]\u001b[A\u001b[A\u001b[A\u001b[A\u001b[A\u001b[A\u001b[A\u001b[A"
     ]
    },
    {
     "name": "stdout",
     "output_type": "stream",
     "text": [
      "Did not converge with required tolerance.\n",
      "loss tensor(0.0011, dtype=torch.float64)\n",
      "Correspondence set estimation...\n",
      "Extrinsics estimation...\n"
     ]
    },
    {
     "name": "stderr",
     "output_type": "stream",
     "text": [
      "\n",
      "\n",
      "\n",
      "\n",
      "\n",
      "\n",
      "\n",
      "\n",
      " 43%|████▎     | 13/30 [00:48<00:51,  3.02s/it]\u001b[A\u001b[A\u001b[A\u001b[A\u001b[A\u001b[A\u001b[A\u001b[A"
     ]
    },
    {
     "name": "stdout",
     "output_type": "stream",
     "text": [
      "Did not converge with required tolerance.\n",
      "loss tensor(0.0010, dtype=torch.float64)\n",
      "Correspondence set estimation...\n",
      "Extrinsics estimation...\n"
     ]
    },
    {
     "name": "stderr",
     "output_type": "stream",
     "text": [
      "\n",
      "\n",
      "\n",
      "\n",
      "\n",
      "\n",
      "\n",
      "\n",
      " 47%|████▋     | 14/30 [00:51<00:48,  3.05s/it]\u001b[A\u001b[A\u001b[A\u001b[A\u001b[A\u001b[A\u001b[A\u001b[A"
     ]
    },
    {
     "name": "stdout",
     "output_type": "stream",
     "text": [
      "Did not converge with required tolerance.\n",
      "loss tensor(0.0009, dtype=torch.float64)\n",
      "Correspondence set estimation...\n",
      "Extrinsics estimation...\n"
     ]
    },
    {
     "name": "stderr",
     "output_type": "stream",
     "text": [
      "\n",
      "\n",
      "\n",
      "\n",
      "\n",
      "\n",
      "\n",
      "\n",
      " 50%|█████     | 15/30 [00:54<00:45,  3.03s/it]\u001b[A\u001b[A\u001b[A\u001b[A\u001b[A\u001b[A\u001b[A\u001b[A"
     ]
    },
    {
     "name": "stdout",
     "output_type": "stream",
     "text": [
      "Did not converge with required tolerance.\n",
      "loss tensor(0.0008, dtype=torch.float64)\n",
      "Correspondence set estimation...\n",
      "Extrinsics estimation...\n"
     ]
    },
    {
     "name": "stderr",
     "output_type": "stream",
     "text": [
      "\n",
      "\n",
      "\n",
      "\n",
      "\n",
      "\n",
      "\n",
      "\n",
      " 53%|█████▎    | 16/30 [00:57<00:43,  3.11s/it]\u001b[A\u001b[A\u001b[A\u001b[A\u001b[A\u001b[A\u001b[A\u001b[A"
     ]
    },
    {
     "name": "stdout",
     "output_type": "stream",
     "text": [
      "Did not converge with required tolerance.\n",
      "loss tensor(0.0008, dtype=torch.float64)\n",
      "Correspondence set estimation...\n",
      "Extrinsics estimation...\n"
     ]
    },
    {
     "name": "stderr",
     "output_type": "stream",
     "text": [
      "\n",
      "\n",
      "\n",
      "\n",
      "\n",
      "\n",
      "\n",
      "\n",
      " 57%|█████▋    | 17/30 [01:00<00:40,  3.10s/it]\u001b[A\u001b[A\u001b[A\u001b[A\u001b[A\u001b[A\u001b[A\u001b[A"
     ]
    },
    {
     "name": "stdout",
     "output_type": "stream",
     "text": [
      "Did not converge with required tolerance.\n",
      "loss tensor(0.0008, dtype=torch.float64)\n",
      "Correspondence set estimation...\n",
      "Extrinsics estimation...\n"
     ]
    },
    {
     "name": "stderr",
     "output_type": "stream",
     "text": [
      "\n",
      "\n",
      "\n",
      "\n",
      "\n",
      "\n",
      "\n",
      "\n",
      " 60%|██████    | 18/30 [01:03<00:36,  3.01s/it]\u001b[A\u001b[A\u001b[A\u001b[A\u001b[A\u001b[A\u001b[A\u001b[A"
     ]
    },
    {
     "name": "stdout",
     "output_type": "stream",
     "text": [
      "Did not converge with required tolerance.\n",
      "loss tensor(0.0008, dtype=torch.float64)\n",
      "Correspondence set estimation...\n",
      "Extrinsics estimation...\n"
     ]
    },
    {
     "name": "stderr",
     "output_type": "stream",
     "text": [
      "\n",
      "\n",
      "\n",
      "\n",
      "\n",
      "\n",
      "\n",
      "\n",
      " 63%|██████▎   | 19/30 [01:06<00:32,  2.97s/it]\u001b[A\u001b[A\u001b[A\u001b[A\u001b[A\u001b[A\u001b[A\u001b[A"
     ]
    },
    {
     "name": "stdout",
     "output_type": "stream",
     "text": [
      "Did not converge with required tolerance.\n",
      "loss tensor(0.0007, dtype=torch.float64)\n",
      "Correspondence set estimation...\n",
      "Extrinsics estimation...\n"
     ]
    },
    {
     "name": "stderr",
     "output_type": "stream",
     "text": [
      "\n",
      "\n",
      "\n",
      "\n",
      "\n",
      "\n",
      "\n",
      "\n",
      " 67%|██████▋   | 20/30 [01:09<00:29,  2.94s/it]\u001b[A\u001b[A\u001b[A\u001b[A\u001b[A\u001b[A\u001b[A\u001b[A"
     ]
    },
    {
     "name": "stdout",
     "output_type": "stream",
     "text": [
      "Did not converge with required tolerance.\n",
      "loss tensor(0.0007, dtype=torch.float64)\n",
      "Correspondence set estimation...\n",
      "Extrinsics estimation...\n"
     ]
    },
    {
     "name": "stderr",
     "output_type": "stream",
     "text": [
      "\n",
      "\n",
      "\n",
      "\n",
      "\n",
      "\n",
      "\n",
      "\n",
      " 70%|███████   | 21/30 [01:12<00:26,  2.92s/it]\u001b[A\u001b[A\u001b[A\u001b[A\u001b[A\u001b[A\u001b[A\u001b[A"
     ]
    },
    {
     "name": "stdout",
     "output_type": "stream",
     "text": [
      "Did not converge with required tolerance.\n",
      "loss tensor(0.0007, dtype=torch.float64)\n",
      "Correspondence set estimation...\n",
      "Extrinsics estimation...\n"
     ]
    },
    {
     "name": "stderr",
     "output_type": "stream",
     "text": [
      "\n",
      "\n",
      "\n",
      "\n",
      "\n",
      "\n",
      "\n",
      "\n",
      " 73%|███████▎  | 22/30 [01:15<00:23,  2.93s/it]\u001b[A\u001b[A\u001b[A\u001b[A\u001b[A\u001b[A\u001b[A\u001b[A"
     ]
    },
    {
     "name": "stdout",
     "output_type": "stream",
     "text": [
      "Did not converge with required tolerance.\n",
      "loss tensor(0.0007, dtype=torch.float64)\n",
      "Correspondence set estimation...\n",
      "Extrinsics estimation...\n"
     ]
    },
    {
     "name": "stderr",
     "output_type": "stream",
     "text": [
      "\n",
      "\n",
      "\n",
      "\n",
      "\n",
      "\n",
      "\n",
      "\n",
      " 77%|███████▋  | 23/30 [01:18<00:20,  2.93s/it]\u001b[A\u001b[A\u001b[A\u001b[A\u001b[A\u001b[A\u001b[A\u001b[A"
     ]
    },
    {
     "name": "stdout",
     "output_type": "stream",
     "text": [
      "Did not converge with required tolerance.\n",
      "loss tensor(0.0007, dtype=torch.float64)\n",
      "Correspondence set estimation...\n",
      "Extrinsics estimation...\n"
     ]
    },
    {
     "name": "stderr",
     "output_type": "stream",
     "text": [
      "\n",
      "\n",
      "\n",
      "\n",
      "\n",
      "\n",
      "\n",
      "\n",
      " 80%|████████  | 24/30 [01:21<00:17,  2.95s/it]\u001b[A\u001b[A\u001b[A\u001b[A\u001b[A\u001b[A\u001b[A\u001b[A"
     ]
    },
    {
     "name": "stdout",
     "output_type": "stream",
     "text": [
      "loss tensor(0.0007, dtype=torch.float64)\n",
      "Correspondence set estimation...\n",
      "Extrinsics estimation...\n"
     ]
    },
    {
     "name": "stderr",
     "output_type": "stream",
     "text": [
      "\n",
      "\n",
      "\n",
      "\n",
      "\n",
      "\n",
      "\n",
      "\n",
      " 83%|████████▎ | 25/30 [01:24<00:14,  2.96s/it]\u001b[A\u001b[A\u001b[A\u001b[A\u001b[A\u001b[A\u001b[A\u001b[A"
     ]
    },
    {
     "name": "stdout",
     "output_type": "stream",
     "text": [
      "loss tensor(0.0007, dtype=torch.float64)\n",
      "Correspondence set estimation...\n",
      "Extrinsics estimation...\n"
     ]
    },
    {
     "name": "stderr",
     "output_type": "stream",
     "text": [
      "\n",
      "\n",
      "\n",
      "\n",
      "\n",
      "\n",
      "\n",
      "\n",
      " 87%|████████▋ | 26/30 [01:27<00:11,  2.95s/it]\u001b[A\u001b[A\u001b[A\u001b[A\u001b[A\u001b[A\u001b[A\u001b[A"
     ]
    },
    {
     "name": "stdout",
     "output_type": "stream",
     "text": [
      "loss tensor(0.0007, dtype=torch.float64)\n",
      "Correspondence set estimation...\n",
      "Extrinsics estimation...\n"
     ]
    },
    {
     "name": "stderr",
     "output_type": "stream",
     "text": [
      "\n",
      "\n",
      "\n",
      "\n",
      "\n",
      "\n",
      "\n",
      "\n",
      " 90%|█████████ | 27/30 [01:30<00:08,  2.96s/it]\u001b[A\u001b[A\u001b[A\u001b[A\u001b[A\u001b[A\u001b[A\u001b[A"
     ]
    },
    {
     "name": "stdout",
     "output_type": "stream",
     "text": [
      "loss tensor(0.0007, dtype=torch.float64)\n",
      "Correspondence set estimation...\n",
      "Extrinsics estimation...\n"
     ]
    },
    {
     "name": "stderr",
     "output_type": "stream",
     "text": [
      "\n",
      "\n",
      "\n",
      "\n",
      "\n",
      "\n",
      "\n",
      "\n",
      " 93%|█████████▎| 28/30 [01:32<00:05,  2.89s/it]\u001b[A\u001b[A\u001b[A\u001b[A\u001b[A\u001b[A\u001b[A\u001b[A"
     ]
    },
    {
     "name": "stdout",
     "output_type": "stream",
     "text": [
      "loss tensor(0.0007, dtype=torch.float64)\n",
      "Correspondence set estimation...\n",
      "Extrinsics estimation...\n"
     ]
    },
    {
     "name": "stderr",
     "output_type": "stream",
     "text": [
      "\n",
      "\n",
      "\n",
      "\n",
      "\n",
      "\n",
      "\n",
      "\n",
      " 97%|█████████▋| 29/30 [01:35<00:02,  2.81s/it]\u001b[A\u001b[A\u001b[A\u001b[A\u001b[A\u001b[A\u001b[A\u001b[A"
     ]
    },
    {
     "name": "stdout",
     "output_type": "stream",
     "text": [
      "loss tensor(0.0007, dtype=torch.float64)\n",
      "Correspondence set estimation...\n",
      "Extrinsics estimation...\n"
     ]
    },
    {
     "name": "stderr",
     "output_type": "stream",
     "text": [
      "\n",
      "\n",
      "\n",
      "\n",
      "\n",
      "\n",
      "\n",
      "\n",
      "100%|██████████| 30/30 [01:38<00:00,  3.27s/it]\u001b[A\u001b[A\u001b[A\u001b[A\u001b[A\u001b[A\u001b[A\u001b[A"
     ]
    },
    {
     "name": "stdout",
     "output_type": "stream",
     "text": [
      "loss tensor(0.0007, dtype=torch.float64)\n"
     ]
    },
    {
     "name": "stderr",
     "output_type": "stream",
     "text": [
      "\n"
     ]
    },
    {
     "data": {
      "text/plain": [
       "tensor([-1.8059,  0.0833, -0.0752,  0.0126,  0.2652,  0.0296],\n",
       "       dtype=torch.float64)"
      ]
     },
     "execution_count": 89,
     "metadata": {},
     "output_type": "execute_result"
    }
   ],
   "source": [
    "gradslam_iter = 30\n",
    "\n",
    "T = torch.eye(4).double()\n",
    "for i in tqdm(range(gradslam_iter)):\n",
    "    params_upd = optim_step_ICP(pc0, pc1, max_iter=10, icp_max_iter=1, verbose=0)\n",
    "    transl_upd, angle_upd = params_upd.split([3, 3], dim=-1)\n",
    "    rot_upd = create_rot_from_angle(angle_upd.unsqueeze(0)).squeeze(0)\n",
    "    pc0.points = transform_pc(pc0.points, rot_upd, transl_upd).squeeze(1)\n",
    "    \n",
    "    T_upd = extrinsics_from_rot_transl(rot_upd, transl_upd).double()\n",
    "    T = T_upd @ T\n",
    "    rot, transl = T[:3, :3], T[:3, 3]\n",
    "    params = get_params_from_rot_and_transl(rot, transl)\n",
    "    # print('loss', loss_T(T, extr[0], extr[1]))\n",
    "    print('loss', loss_params(params, extr[0], extr[1]))\n",
    "\n",
    "params"
   ]
  },
  {
   "cell_type": "code",
   "execution_count": 69,
   "metadata": {},
   "outputs": [
    {
     "data": {
      "text/plain": [
       "tensor([-1.8034,  0.0841, -0.0755,  0.0127,  0.2649,  0.0294],\n",
       "       dtype=torch.float64)"
      ]
     },
     "execution_count": 69,
     "metadata": {},
     "output_type": "execute_result"
    }
   ],
   "source": [
    "params_upd"
   ]
  },
  {
   "cell_type": "code",
   "execution_count": 70,
   "metadata": {},
   "outputs": [
    {
     "data": {
      "text/plain": [
       "tensor([[ 1.0000e+00, -5.1284e-05,  1.0130e-04, -8.1367e-04],\n",
       "        [ 5.1281e-05,  1.0000e+00,  2.8167e-05, -1.3504e-04],\n",
       "        [-1.0130e-04, -2.8162e-05,  1.0000e+00, -6.1667e-05],\n",
       "        [ 0.0000e+00,  0.0000e+00,  0.0000e+00,  1.0000e+00]],\n",
       "       dtype=torch.float64)"
      ]
     },
     "execution_count": 70,
     "metadata": {},
     "output_type": "execute_result"
    }
   ],
   "source": [
    "T"
   ]
  },
  {
   "cell_type": "code",
   "execution_count": null,
   "metadata": {},
   "outputs": [],
   "source": [
    "T"
   ]
  },
  {
   "cell_type": "code",
   "execution_count": 68,
   "metadata": {},
   "outputs": [],
   "source": [
    "visualize_pcd(pc0, pc1)"
   ]
  },
  {
   "cell_type": "code",
   "execution_count": 51,
   "metadata": {},
   "outputs": [
    {
     "data": {
      "text/plain": [
       "tensor([-8.1367e-04, -1.3504e-04, -6.1667e-05], dtype=torch.float64)"
      ]
     },
     "execution_count": 51,
     "metadata": {},
     "output_type": "execute_result"
    }
   ],
   "source": [
    "transl"
   ]
  },
  {
   "cell_type": "code",
   "execution_count": 71,
   "metadata": {},
   "outputs": [
    {
     "data": {
      "text/plain": [
       "tensor([[ 1.0000e+00, -5.1284e-05,  1.0130e-04, -8.1367e-04],\n",
       "        [ 5.1281e-05,  1.0000e+00,  2.8167e-05, -1.3504e-04],\n",
       "        [-1.0130e-04, -2.8162e-05,  1.0000e+00, -6.1667e-05],\n",
       "        [ 0.0000e+00,  0.0000e+00,  0.0000e+00,  1.0000e+00]],\n",
       "       dtype=torch.float64)"
      ]
     },
     "execution_count": 71,
     "metadata": {},
     "output_type": "execute_result"
    }
   ],
   "source": [
    "extrinsics_from_rot_transl(rot, transl)"
   ]
  },
  {
   "cell_type": "code",
   "execution_count": 38,
   "metadata": {},
   "outputs": [
    {
     "data": {
      "text/plain": [
       "tensor([[ 0.9645, -0.0230,  0.2631, -1.8127],\n",
       "        [ 0.0252,  0.9997, -0.0051,  0.0583],\n",
       "        [-0.2629,  0.0116,  0.9647, -0.0723],\n",
       "        [ 0.0000,  0.0000,  0.0000,  1.0000]], dtype=torch.float64)"
      ]
     },
     "execution_count": 38,
     "metadata": {},
     "output_type": "execute_result"
    }
   ],
   "source": [
    "extr[1] @ torch.inverse(extr[0])"
   ]
  },
  {
   "cell_type": "code",
   "execution_count": 39,
   "metadata": {},
   "outputs": [
    {
     "data": {
      "text/plain": [
       "(tensor([[ 0.9647, -0.0274,  0.2620],\n",
       "         [ 0.0307,  0.9995, -0.0087],\n",
       "         [-0.2616,  0.0164,  0.9650]], dtype=torch.float64),\n",
       " tensor([-1.8034,  0.0841, -0.0755], dtype=torch.float64))"
      ]
     },
     "execution_count": 39,
     "metadata": {},
     "output_type": "execute_result"
    }
   ],
   "source": [
    "rot, transl"
   ]
  },
  {
   "cell_type": "code",
   "execution_count": 40,
   "metadata": {},
   "outputs": [
    {
     "data": {
      "text/plain": [
       "tensor([-1.8034,  0.0841, -0.0755,  0.0127,  0.2649,  0.0294],\n",
       "       dtype=torch.float64)"
      ]
     },
     "execution_count": 40,
     "metadata": {},
     "output_type": "execute_result"
    }
   ],
   "source": [
    "params"
   ]
  },
  {
   "cell_type": "code",
   "execution_count": 41,
   "metadata": {},
   "outputs": [
    {
     "data": {
      "text/plain": [
       "tensor([-1.8127,  0.0583, -0.0723,  0.0084,  0.2662,  0.0244],\n",
       "       dtype=torch.float64)"
      ]
     },
     "execution_count": 41,
     "metadata": {},
     "output_type": "execute_result"
    }
   ],
   "source": [
    "gt_rel_extr = extr[1] @ torch.inverse(extr[0])\n",
    "get_params_from_rot_and_transl(gt_rel_extr[:3, :3], gt_rel_extr[:3, 3])"
   ]
  },
  {
   "cell_type": "markdown",
   "metadata": {},
   "source": [
    "### GradOdometry"
   ]
  },
  {
   "cell_type": "code",
   "execution_count": 91,
   "metadata": {},
   "outputs": [],
   "source": [
    "depth, extr, gt_depth = load_data(depth_dir, gt_extrinsics_dir, indices=[10, 50], gt_depth_dir=gt_depth_dir)\n",
    "# depth = depth.requires_grad_()\n",
    "depth_first = depth[0].clone()\n",
    "depth_second = depth[1].clone()\n",
    "_ = depth_first.requires_grad_()"
   ]
  },
  {
   "cell_type": "code",
   "execution_count": 92,
   "metadata": {},
   "outputs": [
    {
     "data": {
      "text/plain": [
       "torch.Size([2, 1080, 1920])"
      ]
     },
     "execution_count": 92,
     "metadata": {},
     "output_type": "execute_result"
    }
   ],
   "source": [
    "depth.shape"
   ]
  },
  {
   "cell_type": "code",
   "execution_count": 93,
   "metadata": {},
   "outputs": [],
   "source": [
    "pc0 = Cloud.from_tensors(depth_first, K, torch.eye(4), ignore='max')\n",
    "pc1 = Cloud.from_tensors(depth_second, K, torch.eye(4), ignore='max')\n",
    "# pc0 = Cloud.from_tensors(gt_depth[0], K, torch.eye(4), ignore='max')\n",
    "# pc1 = Cloud.from_tensors(gt_depth[1], K, torch.eye(4), ignore='max')"
   ]
  },
  {
   "cell_type": "code",
   "execution_count": 94,
   "metadata": {},
   "outputs": [],
   "source": [
    "gt_pc0 = Cloud.from_tensors(gt_depth[0], K, torch.eye(4), ignore='max')\n",
    "gt_pc1 = Cloud.from_tensors(gt_depth[1], K, torch.eye(4), ignore='max')"
   ]
  },
  {
   "cell_type": "code",
   "execution_count": 95,
   "metadata": {},
   "outputs": [],
   "source": [
    "# pc0.mask = gt_pc0.mask\n",
    "# pc1.mask = gt_pc1.mask\n",
    "# pc0.update_data(pc0.depth, pc0.intrinsic, pc0.extrinsic, update_mask=False)\n",
    "# pc0.update_data(pc1.depth, pc1.intrinsic, pc1.extrinsic, update_mask=False)"
   ]
  },
  {
   "cell_type": "code",
   "execution_count": 96,
   "metadata": {},
   "outputs": [],
   "source": [
    "visualize_pcd(pc0, pc1)"
   ]
  },
  {
   "cell_type": "code",
   "execution_count": 97,
   "metadata": {},
   "outputs": [],
   "source": [
    "def loss(T_estim, extr_first, extr_second):\n",
    "    gt_rel_extr = extr_second @ torch.inverse(extr_first)\n",
    "    loss_val = ((gt_rel_extr - T_estim) ** 2).sum()\n",
    "    return loss_val"
   ]
  },
  {
   "cell_type": "code",
   "execution_count": 100,
   "metadata": {},
   "outputs": [
    {
     "data": {
      "image/png": "[encoded data removed]",
      "text/plain": [
       "<Figure size 720x360 with 2 Axes>"
      ]
     },
     "metadata": {
      "needs_background": "light"
     },
     "output_type": "display_data"
    },
    {
     "name": "stderr",
     "output_type": "stream",
     "text": [
      "\n",
      "\n",
      "\n",
      "\n",
      "\n",
      "\n",
      "\n",
      "\n",
      "\n",
      "\n",
      "  0%|          | 0/30 [00:00<?, ?it/s]\u001b[A\u001b[A\u001b[A\u001b[A\u001b[A\u001b[A\u001b[A\u001b[A\u001b[A\u001b[A"
     ]
    },
    {
     "name": "stdout",
     "output_type": "stream",
     "text": [
      "L1 between depth_first pic with motion blur and GT: 0.09032260967243917\n",
      "Correspondence set estimation...\n",
      "Extrinsics estimation...\n",
      "loss tensor(1.1952, dtype=torch.float64)\n",
      "Correspondence set estimation...\n",
      "Extrinsics estimation...\n",
      "loss tensor(1.0994, dtype=torch.float64)\n",
      "Correspondence set estimation...\n",
      "Extrinsics estimation...\n",
      "loss tensor(0.9676, dtype=torch.float64)\n",
      "Correspondence set estimation...\n",
      "Extrinsics estimation...\n",
      "loss tensor(0.8435, dtype=torch.float64)\n",
      "Correspondence set estimation...\n",
      "Extrinsics estimation...\n",
      "loss tensor(0.7403, dtype=torch.float64)\n",
      "loss tensor(0.7403, dtype=torch.float64, grad_fn=<SumBackward0>)\n"
     ]
    },
    {
     "data": {
      "image/png": "[encoded data removed]",
      "text/plain": [
       "<Figure size 720x360 with 2 Axes>"
      ]
     },
     "metadata": {
      "needs_background": "light"
     },
     "output_type": "display_data"
    },
    {
     "name": "stderr",
     "output_type": "stream",
     "text": [
      "\n",
      "\n",
      "\n",
      "\n",
      "\n",
      "\n",
      "\n",
      "\n",
      "\n",
      "\n",
      "  3%|▎         | 1/30 [01:46<51:29, 106.52s/it]\u001b[A\u001b[A\u001b[A\u001b[A\u001b[A\u001b[A\u001b[A\u001b[A\u001b[A\u001b[A"
     ]
    },
    {
     "name": "stdout",
     "output_type": "stream",
     "text": [
      "L1 between depth_first pic with motion blur and GT: 0.09056854866806327\n",
      "Correspondence set estimation...\n",
      "Extrinsics estimation...\n",
      "loss tensor(1.1875, dtype=torch.float64)\n",
      "Correspondence set estimation...\n",
      "Extrinsics estimation...\n",
      "loss tensor(1.0852, dtype=torch.float64)\n",
      "Correspondence set estimation...\n",
      "Extrinsics estimation...\n",
      "loss tensor(0.9506, dtype=torch.float64)\n",
      "Correspondence set estimation...\n",
      "Extrinsics estimation...\n",
      "loss tensor(0.8252, dtype=torch.float64)\n",
      "Correspondence set estimation...\n",
      "Extrinsics estimation...\n",
      "loss tensor(0.7215, dtype=torch.float64)\n",
      "loss tensor(0.7215, dtype=torch.float64, grad_fn=<SumBackward0>)\n"
     ]
    },
    {
     "data": {
      "image/png": "[encoded data removed]",
      "text/plain": [
       "<Figure size 720x360 with 2 Axes>"
      ]
     },
     "metadata": {
      "needs_background": "light"
     },
     "output_type": "display_data"
    },
    {
     "name": "stderr",
     "output_type": "stream",
     "text": [
      "\n",
      "\n",
      "\n",
      "\n",
      "\n",
      "\n",
      "\n",
      "\n",
      "\n",
      "\n",
      "  7%|▋         | 2/30 [03:24<48:27, 103.85s/it]\u001b[A\u001b[A\u001b[A\u001b[A\u001b[A\u001b[A\u001b[A\u001b[A\u001b[A\u001b[A"
     ]
    },
    {
     "name": "stdout",
     "output_type": "stream",
     "text": [
      "L1 between depth_first pic with motion blur and GT: 0.09103925588707808\n",
      "Correspondence set estimation...\n",
      "Extrinsics estimation...\n",
      "loss tensor(1.1823, dtype=torch.float64)\n",
      "Correspondence set estimation...\n",
      "Extrinsics estimation...\n",
      "loss tensor(1.0729, dtype=torch.float64)\n",
      "Correspondence set estimation...\n",
      "Extrinsics estimation...\n",
      "loss tensor(0.9349, dtype=torch.float64)\n",
      "Correspondence set estimation...\n",
      "Extrinsics estimation...\n",
      "loss tensor(0.8091, dtype=torch.float64)\n",
      "Correspondence set estimation...\n",
      "Extrinsics estimation...\n",
      "loss tensor(0.7065, dtype=torch.float64)\n",
      "loss tensor(0.7065, dtype=torch.float64, grad_fn=<SumBackward0>)\n"
     ]
    },
    {
     "data": {
      "image/png": "[encoded data removed]",
      "text/plain": [
       "<Figure size 720x360 with 2 Axes>"
      ]
     },
     "metadata": {
      "needs_background": "light"
     },
     "output_type": "display_data"
    },
    {
     "name": "stderr",
     "output_type": "stream",
     "text": [
      "\n",
      "\n",
      "\n",
      "\n",
      "\n",
      "\n",
      "\n",
      "\n",
      "\n",
      "\n",
      " 10%|█         | 3/30 [05:03<46:05, 102.43s/it]\u001b[A\u001b[A\u001b[A\u001b[A\u001b[A\u001b[A\u001b[A\u001b[A\u001b[A\u001b[A"
     ]
    },
    {
     "name": "stdout",
     "output_type": "stream",
     "text": [
      "L1 between depth_first pic with motion blur and GT: 0.09156999073724531\n",
      "Correspondence set estimation...\n",
      "Extrinsics estimation...\n",
      "loss tensor(1.1771, dtype=torch.float64)\n",
      "Correspondence set estimation...\n",
      "Extrinsics estimation...\n",
      "loss tensor(1.0615, dtype=torch.float64)\n",
      "Correspondence set estimation...\n",
      "Extrinsics estimation...\n",
      "loss tensor(0.9221, dtype=torch.float64)\n",
      "Correspondence set estimation...\n",
      "Extrinsics estimation...\n",
      "loss tensor(0.7963, dtype=torch.float64)\n",
      "Correspondence set estimation...\n",
      "Extrinsics estimation...\n",
      "loss tensor(0.6956, dtype=torch.float64)\n",
      "loss tensor(0.6956, dtype=torch.float64, grad_fn=<SumBackward0>)\n"
     ]
    },
    {
     "data": {
      "image/png": "[encoded data removed]",
      "text/plain": [
       "<Figure size 720x360 with 2 Axes>"
      ]
     },
     "metadata": {
      "needs_background": "light"
     },
     "output_type": "display_data"
    },
    {
     "name": "stderr",
     "output_type": "stream",
     "text": [
      "\n",
      "\n",
      "\n",
      "\n",
      "\n",
      "\n",
      "\n",
      "\n",
      "\n",
      "\n",
      " 13%|█▎        | 4/30 [06:55<45:41, 105.43s/it]\u001b[A\u001b[A\u001b[A\u001b[A\u001b[A\u001b[A\u001b[A\u001b[A\u001b[A\u001b[A"
     ]
    },
    {
     "name": "stdout",
     "output_type": "stream",
     "text": [
      "L1 between depth_first pic with motion blur and GT: 0.0921192968895841\n",
      "Correspondence set estimation...\n",
      "Extrinsics estimation...\n",
      "loss tensor(1.1716, dtype=torch.float64)\n",
      "Correspondence set estimation...\n",
      "Extrinsics estimation...\n",
      "loss tensor(1.0511, dtype=torch.float64)\n",
      "Correspondence set estimation...\n",
      "Extrinsics estimation...\n",
      "loss tensor(0.9122, dtype=torch.float64)\n",
      "Correspondence set estimation...\n",
      "Extrinsics estimation...\n",
      "loss tensor(0.7864, dtype=torch.float64)\n",
      "Correspondence set estimation...\n",
      "Extrinsics estimation...\n",
      "loss tensor(0.6866, dtype=torch.float64)\n",
      "loss tensor(0.6866, dtype=torch.float64, grad_fn=<SumBackward0>)\n"
     ]
    },
    {
     "data": {
      "image/png": "[encoded data removed]",
      "text/plain": [
       "<Figure size 720x360 with 2 Axes>"
      ]
     },
     "metadata": {
      "needs_background": "light"
     },
     "output_type": "display_data"
    },
    {
     "name": "stderr",
     "output_type": "stream",
     "text": [
      "\n",
      "\n",
      "\n",
      "\n",
      "\n",
      "\n",
      "\n",
      "\n",
      "\n",
      "\n",
      " 17%|█▋        | 5/30 [08:32<42:52, 102.89s/it]\u001b[A\u001b[A\u001b[A\u001b[A\u001b[A\u001b[A\u001b[A\u001b[A\u001b[A\u001b[A"
     ]
    },
    {
     "name": "stdout",
     "output_type": "stream",
     "text": [
      "L1 between depth_first pic with motion blur and GT: 0.09268047848316242\n",
      "Correspondence set estimation...\n",
      "Extrinsics estimation...\n",
      "loss tensor(1.1666, dtype=torch.float64)\n",
      "Correspondence set estimation...\n",
      "Extrinsics estimation...\n",
      "loss tensor(1.0409, dtype=torch.float64)\n",
      "Correspondence set estimation...\n",
      "Extrinsics estimation...\n",
      "loss tensor(0.9018, dtype=torch.float64)\n",
      "Correspondence set estimation...\n",
      "Extrinsics estimation...\n",
      "loss tensor(0.7760, dtype=torch.float64)\n",
      "Correspondence set estimation...\n",
      "Extrinsics estimation...\n",
      "loss tensor(0.6768, dtype=torch.float64)\n",
      "loss tensor(0.6768, dtype=torch.float64, grad_fn=<SumBackward0>)\n"
     ]
    },
    {
     "data": {
      "image/png": "[encoded data removed]",
      "text/plain": [
       "<Figure size 720x360 with 2 Axes>"
      ]
     },
     "metadata": {
      "needs_background": "light"
     },
     "output_type": "display_data"
    },
    {
     "name": "stderr",
     "output_type": "stream",
     "text": [
      "\n",
      "\n",
      "\n",
      "\n",
      "\n",
      "\n",
      "\n",
      "\n",
      "\n",
      "\n",
      " 20%|██        | 6/30 [10:13<40:56, 102.34s/it]\u001b[A\u001b[A\u001b[A\u001b[A\u001b[A\u001b[A\u001b[A\u001b[A\u001b[A\u001b[A"
     ]
    },
    {
     "name": "stdout",
     "output_type": "stream",
     "text": [
      "L1 between depth_first pic with motion blur and GT: 0.09324769719413473\n",
      "Correspondence set estimation...\n",
      "Extrinsics estimation...\n",
      "loss tensor(1.1625, dtype=torch.float64)\n"
     ]
    },
    {
     "ename": "KeyboardInterrupt",
     "evalue": "",
     "output_type": "error",
     "traceback": [
      "\u001b[0;31m---------------------------------------------------------------------------\u001b[0m",
      "\u001b[0;31mKeyboardInterrupt\u001b[0m                         Traceback (most recent call last)",
      "\u001b[0;32m<ipython-input-100-565929b645a8>\u001b[0m in \u001b[0;36m<module>\u001b[0;34m\u001b[0m\n\u001b[1;32m     20\u001b[0m     \u001b[0mT\u001b[0m \u001b[0;34m=\u001b[0m \u001b[0mtorch\u001b[0m\u001b[0;34m.\u001b[0m\u001b[0meye\u001b[0m\u001b[0;34m(\u001b[0m\u001b[0;36m4\u001b[0m\u001b[0;34m)\u001b[0m\u001b[0;34m.\u001b[0m\u001b[0mdouble\u001b[0m\u001b[0;34m(\u001b[0m\u001b[0;34m)\u001b[0m\u001b[0;34m\u001b[0m\u001b[0;34m\u001b[0m\u001b[0m\n\u001b[1;32m     21\u001b[0m     \u001b[0;32mfor\u001b[0m \u001b[0mj\u001b[0m \u001b[0;32min\u001b[0m \u001b[0mrange\u001b[0m\u001b[0;34m(\u001b[0m\u001b[0minternal_iter\u001b[0m\u001b[0;34m)\u001b[0m\u001b[0;34m:\u001b[0m\u001b[0;34m\u001b[0m\u001b[0;34m\u001b[0m\u001b[0m\n\u001b[0;32m---> 22\u001b[0;31m         \u001b[0mparams_upd\u001b[0m \u001b[0;34m=\u001b[0m \u001b[0moptim_step_ICP\u001b[0m\u001b[0;34m(\u001b[0m\u001b[0mpc0\u001b[0m\u001b[0;34m,\u001b[0m \u001b[0mpc1\u001b[0m\u001b[0;34m,\u001b[0m \u001b[0mmax_iter\u001b[0m\u001b[0;34m=\u001b[0m\u001b[0;36m10\u001b[0m\u001b[0;34m,\u001b[0m \u001b[0micp_max_iter\u001b[0m\u001b[0;34m=\u001b[0m\u001b[0;36m1\u001b[0m\u001b[0;34m,\u001b[0m \u001b[0mverbose\u001b[0m\u001b[0;34m=\u001b[0m\u001b[0;36m0\u001b[0m\u001b[0;34m)\u001b[0m\u001b[0;34m\u001b[0m\u001b[0;34m\u001b[0m\u001b[0m\n\u001b[0m\u001b[1;32m     23\u001b[0m         \u001b[0mtransl_upd\u001b[0m\u001b[0;34m,\u001b[0m \u001b[0mangle_upd\u001b[0m \u001b[0;34m=\u001b[0m \u001b[0mparams_upd\u001b[0m\u001b[0;34m.\u001b[0m\u001b[0msplit\u001b[0m\u001b[0;34m(\u001b[0m\u001b[0;34m[\u001b[0m\u001b[0;36m3\u001b[0m\u001b[0;34m,\u001b[0m \u001b[0;36m3\u001b[0m\u001b[0;34m]\u001b[0m\u001b[0;34m,\u001b[0m \u001b[0mdim\u001b[0m\u001b[0;34m=\u001b[0m\u001b[0;34m-\u001b[0m\u001b[0;36m1\u001b[0m\u001b[0;34m)\u001b[0m\u001b[0;34m\u001b[0m\u001b[0;34m\u001b[0m\u001b[0m\n\u001b[1;32m     24\u001b[0m         \u001b[0mrot_upd\u001b[0m \u001b[0;34m=\u001b[0m \u001b[0mcreate_rot_from_angle\u001b[0m\u001b[0;34m(\u001b[0m\u001b[0mangle_upd\u001b[0m\u001b[0;34m.\u001b[0m\u001b[0munsqueeze\u001b[0m\u001b[0;34m(\u001b[0m\u001b[0;36m0\u001b[0m\u001b[0;34m)\u001b[0m\u001b[0;34m)\u001b[0m\u001b[0;34m.\u001b[0m\u001b[0msqueeze\u001b[0m\u001b[0;34m(\u001b[0m\u001b[0;36m0\u001b[0m\u001b[0;34m)\u001b[0m\u001b[0;34m\u001b[0m\u001b[0;34m\u001b[0m\u001b[0m\n",
      "\u001b[0;32m~/Документы/Сколтех, PhD/Perception in Robotics/project/repo/params_est.py\u001b[0m in \u001b[0;36moptim_step_ICP\u001b[0;34m(pc1, pc2, params_old, max_iter, icp_max_iter, verbose)\u001b[0m\n\u001b[1;32m     48\u001b[0m \u001b[0;34m\u001b[0m\u001b[0m\n\u001b[1;32m     49\u001b[0m     \u001b[0mpcB\u001b[0m \u001b[0;34m=\u001b[0m \u001b[0mo3d\u001b[0m\u001b[0;34m.\u001b[0m\u001b[0mgeometry\u001b[0m\u001b[0;34m.\u001b[0m\u001b[0mPointCloud\u001b[0m\u001b[0;34m(\u001b[0m\u001b[0;34m)\u001b[0m\u001b[0;34m\u001b[0m\u001b[0;34m\u001b[0m\u001b[0m\n\u001b[0;32m---> 50\u001b[0;31m     \u001b[0mpcB\u001b[0m\u001b[0;34m.\u001b[0m\u001b[0mpoints\u001b[0m \u001b[0;34m=\u001b[0m \u001b[0mo3d\u001b[0m\u001b[0;34m.\u001b[0m\u001b[0mutility\u001b[0m\u001b[0;34m.\u001b[0m\u001b[0mVector3dVector\u001b[0m\u001b[0;34m(\u001b[0m\u001b[0mpc2\u001b[0m\u001b[0;34m.\u001b[0m\u001b[0mpoints\u001b[0m\u001b[0;34m.\u001b[0m\u001b[0mdetach\u001b[0m\u001b[0;34m(\u001b[0m\u001b[0;34m)\u001b[0m\u001b[0;34m)\u001b[0m\u001b[0;34m\u001b[0m\u001b[0;34m\u001b[0m\u001b[0m\n\u001b[0m\u001b[1;32m     51\u001b[0m \u001b[0;34m\u001b[0m\u001b[0m\n\u001b[1;32m     52\u001b[0m     \u001b[0mprint\u001b[0m\u001b[0;34m(\u001b[0m\u001b[0;34m'Correspondence set estimation...'\u001b[0m\u001b[0;34m)\u001b[0m\u001b[0;34m\u001b[0m\u001b[0;34m\u001b[0m\u001b[0m\n",
      "\u001b[0;32m~/miniconda3/lib/python3.7/site-packages/torch/tensor.py\u001b[0m in \u001b[0;36m<lambda>\u001b[0;34m(i)\u001b[0m\n\u001b[1;32m    460\u001b[0m                           \u001b[0;34m'iterations executed (and might lead to errors or silently give '\u001b[0m\u001b[0;34m\u001b[0m\u001b[0;34m\u001b[0m\u001b[0m\n\u001b[1;32m    461\u001b[0m                           'incorrect results).', category=RuntimeWarning)\n\u001b[0;32m--> 462\u001b[0;31m         \u001b[0;32mreturn\u001b[0m \u001b[0miter\u001b[0m\u001b[0;34m(\u001b[0m\u001b[0mimap\u001b[0m\u001b[0;34m(\u001b[0m\u001b[0;32mlambda\u001b[0m \u001b[0mi\u001b[0m\u001b[0;34m:\u001b[0m \u001b[0mself\u001b[0m\u001b[0;34m[\u001b[0m\u001b[0mi\u001b[0m\u001b[0;34m]\u001b[0m\u001b[0;34m,\u001b[0m \u001b[0mrange\u001b[0m\u001b[0;34m(\u001b[0m\u001b[0mself\u001b[0m\u001b[0;34m.\u001b[0m\u001b[0msize\u001b[0m\u001b[0;34m(\u001b[0m\u001b[0;36m0\u001b[0m\u001b[0;34m)\u001b[0m\u001b[0;34m)\u001b[0m\u001b[0;34m)\u001b[0m\u001b[0;34m)\u001b[0m\u001b[0;34m\u001b[0m\u001b[0;34m\u001b[0m\u001b[0m\n\u001b[0m\u001b[1;32m    463\u001b[0m \u001b[0;34m\u001b[0m\u001b[0m\n\u001b[1;32m    464\u001b[0m     \u001b[0;32mdef\u001b[0m \u001b[0m__hash__\u001b[0m\u001b[0;34m(\u001b[0m\u001b[0mself\u001b[0m\u001b[0;34m)\u001b[0m\u001b[0;34m:\u001b[0m\u001b[0;34m\u001b[0m\u001b[0;34m\u001b[0m\u001b[0m\n",
      "\u001b[0;31mKeyboardInterrupt\u001b[0m: "
     ]
    }
   ],
   "source": [
    "gradslam_iter = 30\n",
    "internal_iter = 5\n",
    "opt = optim.Adam([depth_first], lr=1e-2)\n",
    "\n",
    "depth_history = []\n",
    "loss_history = []\n",
    "internal_loss_history = []\n",
    "\n",
    "depth_first_img = depth_first.cpu().data.numpy()\n",
    "depth_first_img_gt = gt_depth[0].cpu().data.numpy()\n",
    "depth_history.append(depth_first_img)\n",
    "plt.figure(figsize=(10, 5))\n",
    "plt.imshow(depth_first_img, cmap=plt.cm.Greys_r)\n",
    "plt.colorbar()\n",
    "plt.show()\n",
    "print('L1 between depth_first pic with motion blur and GT:', (np.abs(depth_first_img - depth_first_img_gt).mean()))\n",
    "\n",
    "for i in tqdm(range(gradslam_iter)):\n",
    "    pc0 = Cloud.from_tensors(depth_first, K, torch.eye(4), ignore='max')\n",
    "    pc1 = Cloud.from_tensors(depth_second, K, torch.eye(4), ignore='max')\n",
    "    \n",
    "    T = torch.eye(4).double()\n",
    "    for j in range(internal_iter):\n",
    "        params_upd = optim_step_ICP(pc0, pc1, max_iter=10, icp_max_iter=1, verbose=0)\n",
    "        transl_upd, angle_upd = params_upd.split([3, 3], dim=-1)\n",
    "        rot_upd = create_rot_from_angle(angle_upd.unsqueeze(0)).squeeze(0)\n",
    "        pc0.points = transform_pc(pc0.points, rot_upd, transl_upd).squeeze(1)\n",
    "\n",
    "        T_upd = extrinsics_from_rot_transl(rot_upd, transl_upd).double()\n",
    "        T = T_upd @ T\n",
    "        rot, transl = T[:3, :3], T[:3, 3]\n",
    "        params = get_params_from_rot_and_transl(rot, transl)\n",
    "        # print('loss', loss_T(T, extr[0], extr[1]))\n",
    "        loss_val = loss_params(params, extr[0], extr[1]).detach()\n",
    "        internal_loss_history.append(loss_val.item())\n",
    "        print('loss', loss_val)\n",
    "    \n",
    "    opt.zero_grad()\n",
    "    loss_val = loss_params(params, extr[0], extr[1])\n",
    "    loss_history.append(loss_val.item())\n",
    "    print('loss', loss_val)\n",
    "    loss_val.backward()\n",
    "    opt.step()\n",
    "    \n",
    "#     if i % 5 == 0:\n",
    "#         visualize_pcd(pc0, pc1)\n",
    "    \n",
    "    depth_first_img = depth_first.cpu().data.numpy()\n",
    "    depth_first_img_gt = gt_depth[0].cpu().data.numpy()\n",
    "    depth_history.append(depth_first_img)\n",
    "    plt.figure(figsize=(10, 5))\n",
    "    plt.imshow(depth_first_img, cmap=plt.cm.Greys_r)\n",
    "    plt.colorbar()\n",
    "    plt.show()\n",
    "    print('L1 between depth_first pic with motion blur and GT:', (np.abs(depth_first_img - depth_first_img_gt).mean()))"
   ]
  },
  {
   "cell_type": "code",
   "execution_count": 107,
   "metadata": {},
   "outputs": [
    {
     "data": {
      "text/plain": [
       "<matplotlib.image.AxesImage at 0x7fb1ed232590>"
      ]
     },
     "execution_count": 107,
     "metadata": {},
     "output_type": "execute_result"
    },
    {
     "data": {
      "image/png": "[encoded data removed]",
      "text/plain": [
       "<Figure size 720x360 with 2 Axes>"
      ]
     },
     "metadata": {
      "needs_background": "light"
     },
     "output_type": "display_data"
    }
   ],
   "source": [
    "fig, ax = plt.subplots(1, 2, figsize=(10, 5))\n",
    "ax[0].imshow(depth_history[0][400:600, 500:750])\n",
    "ax[1].imshow(depth_history[-1][400:600, 500:750])"
   ]
  },
  {
   "cell_type": "code",
   "execution_count": 110,
   "metadata": {},
   "outputs": [
    {
     "data": {
      "text/plain": [
       "(6.218850410019954, 15.0)"
      ]
     },
     "execution_count": 110,
     "metadata": {},
     "output_type": "execute_result"
    }
   ],
   "source": [
    "depth_history[0].min(), depth_history[0].max()"
   ]
  },
  {
   "cell_type": "code",
   "execution_count": 111,
   "metadata": {},
   "outputs": [
    {
     "data": {
      "text/plain": [
       "(tensor(6.2189, dtype=torch.float64, grad_fn=<MinBackward1>),\n",
       " tensor(15., dtype=torch.float64, grad_fn=<MaxBackward1>))"
      ]
     },
     "execution_count": 111,
     "metadata": {},
     "output_type": "execute_result"
    }
   ],
   "source": [
    "depth_first.min(), depth_first.max()"
   ]
  },
  {
   "cell_type": "code",
   "execution_count": 112,
   "metadata": {},
   "outputs": [
    {
     "data": {
      "text/plain": [
       "(6.15234375, 15.0)"
      ]
     },
     "execution_count": 112,
     "metadata": {},
     "output_type": "execute_result"
    }
   ],
   "source": [
    "depth_first_img_gt.min(), depth_first_img_gt.max()"
   ]
  },
  {
   "cell_type": "code",
   "execution_count": 56,
   "metadata": {},
   "outputs": [
    {
     "data": {
      "text/plain": [
       "<matplotlib.colorbar.Colorbar at 0x7f10a3aafe10>"
      ]
     },
     "execution_count": 56,
     "metadata": {},
     "output_type": "execute_result"
    },
    {
     "data": {
      "image/png": "[encoded data removed]",
      "text/plain": [
       "<Figure size 432x288 with 2 Axes>"
      ]
     },
     "metadata": {
      "needs_background": "light"
     },
     "output_type": "display_data"
    }
   ],
   "source": [
    "plt.imshow(depth_first_img_gt, cmap=plt.cm.Greys_r)\n",
    "plt.colorbar()"
   ]
  },
  {
   "cell_type": "code",
   "execution_count": null,
   "metadata": {},
   "outputs": [],
   "source": []
  }
 ],
 "metadata": {
  "kernelspec": {
   "display_name": "Python 3",
   "language": "python",
   "name": "python3"
  },
  "language_info": {
   "codemirror_mode": {
    "name": "ipython",
    "version": 3
   },
   "file_extension": ".py",
   "mimetype": "text/x-python",
   "name": "python",
   "nbconvert_exporter": "python",
   "pygments_lexer": "ipython3",
   "version": "3.7.4"
  }
 },
 "nbformat": 4,
 "nbformat_minor": 4
}

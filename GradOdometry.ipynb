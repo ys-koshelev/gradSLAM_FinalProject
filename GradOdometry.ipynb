{
 "cells": [
  {
   "cell_type": "code",
   "execution_count": null,
   "metadata": {},
   "outputs": [],
   "source": [
    "%load_ext autoreload\n",
    "%autoreload 2"
   ]
  },
  {
   "cell_type": "code",
   "execution_count": 220,
   "metadata": {},
   "outputs": [],
   "source": [
    "import os\n",
    "import open3d as o3d\n",
    "import numpy as np\n",
    "import matplotlib.pyplot as plt\n",
    "%matplotlib inline\n",
    "import OpenEXR as exr, Imath\n",
    "from tqdm import tqdm\n",
    "from glob import glob\n",
    "import cv2\n",
    "\n",
    "import torch\n",
    "import torch.nn as nn\n",
    "import torch.optim as optim\n",
    "import torch.nn.functional as F\n",
    "\n",
    "from utils.cloud import Cloud\n",
    "from pose_est import PoseEst, create_rot_from_angle, transform_pc, extrinsics_from_rot_transl\n",
    "from params_est import optim_step_ICP"
   ]
  },
  {
   "cell_type": "code",
   "execution_count": 54,
   "metadata": {},
   "outputs": [],
   "source": [
    "ksize = 10\n",
    "depth_dir = f'../data/synthetic/stylized-ww01-plane/blender_renders_depth4_3x_more_frames_mblur_{ksize}/'\n",
    "gt_extrinsics_dir = f'../data/synthetic/stylized-ww01-plane/blender_render_depth4_3x_more_frames_/'\n",
    "gt_depth_dir = '../data/synthetic/stylized-ww01-plane/blender_render_depth4_3x_more_frames_'\n",
    "shared_K_path = f'../data/synthetic/stylized-ww01-plane/blender_render_depth4_3x_more_frames_/K_0.txt'"
   ]
  },
  {
   "cell_type": "code",
   "execution_count": 55,
   "metadata": {},
   "outputs": [],
   "source": [
    "K = torch.tensor(np.loadtxt(shared_K_path)).double()"
   ]
  },
  {
   "cell_type": "code",
   "execution_count": 56,
   "metadata": {},
   "outputs": [
    {
     "data": {
      "text/plain": [
       "tensor([[2.6667e+03, 0.0000e+00, 9.6000e+02],\n",
       "        [0.0000e+00, 2.6667e+03, 5.4000e+02],\n",
       "        [0.0000e+00, 0.0000e+00, 1.0000e+00]], dtype=torch.float64)"
      ]
     },
     "execution_count": 56,
     "metadata": {},
     "output_type": "execute_result"
    }
   ],
   "source": [
    "K"
   ]
  },
  {
   "cell_type": "code",
   "execution_count": 83,
   "metadata": {},
   "outputs": [],
   "source": [
    "def load_data(depth_dir, gt_extrinsics_dir, indices, gt_depth_dir=None):\n",
    "    # indices: array-like of int\n",
    "    depth_all, RT_all, gt_depth_all = [], [], []\n",
    "    for ind in indices:\n",
    "        depth = np.load(os.path.join(depth_dir, f'{ind}.npy'))\n",
    "        RT = np.loadtxt(os.path.join(gt_extrinsics_dir, f'RT_{ind}.txt'))\n",
    "        depth_all.append(depth)\n",
    "        RT_all.append(RT)\n",
    "        if gt_depth_dir is not None:\n",
    "            gt_depth = np.load(os.path.join(gt_depth_dir, f'{ind}.npy'))\n",
    "            if len(gt_depth.shape) == 3 and gt_depth.shape[2] == 1:\n",
    "                gt_depth = gt_depth[..., 0]\n",
    "            gt_depth_all.append(gt_depth)\n",
    "    \n",
    "    depth_all = torch.tensor(np.stack(depth_all)).double()\n",
    "    RT_all = torch.tensor(np.stack(RT_all)).double()\n",
    "    if gt_depth_dir is not None:\n",
    "        gt_depth_all = torch.tensor(np.stack(gt_depth_all)).double()\n",
    "        return depth_all, RT_all, gt_depth_all\n",
    "    return depth_all, RT_all"
   ]
  },
  {
   "cell_type": "code",
   "execution_count": 148,
   "metadata": {},
   "outputs": [],
   "source": [
    "depth, extr, gt_depth = load_data(depth_dir, gt_extrinsics_dir, indices=[10, 50], gt_depth_dir=gt_depth_dir)"
   ]
  },
  {
   "cell_type": "code",
   "execution_count": 149,
   "metadata": {},
   "outputs": [
    {
     "data": {
      "text/plain": [
       "(tensor(6.1587, dtype=torch.float64), tensor(15., dtype=torch.float64))"
      ]
     },
     "execution_count": 149,
     "metadata": {},
     "output_type": "execute_result"
    }
   ],
   "source": [
    "depth[0].min(), depth[0].max()"
   ]
  },
  {
   "cell_type": "code",
   "execution_count": 150,
   "metadata": {},
   "outputs": [
    {
     "data": {
      "text/plain": [
       "(tensor(6.2128, dtype=torch.float64), tensor(15., dtype=torch.float64))"
      ]
     },
     "execution_count": 150,
     "metadata": {},
     "output_type": "execute_result"
    }
   ],
   "source": [
    "depth[1].min(), depth[1].max()"
   ]
  },
  {
   "cell_type": "code",
   "execution_count": 60,
   "metadata": {},
   "outputs": [
    {
     "data": {
      "text/plain": [
       "(torch.Size([2, 1080, 1920]),\n",
       " torch.Size([2, 4, 4]),\n",
       " torch.Size([2, 1080, 1920, 1]))"
      ]
     },
     "execution_count": 60,
     "metadata": {},
     "output_type": "execute_result"
    }
   ],
   "source": [
    "depth.shape, extr.shape, gt_depth.shape"
   ]
  },
  {
   "cell_type": "markdown",
   "metadata": {},
   "source": [
    "### Testing visualization"
   ]
  },
  {
   "cell_type": "code",
   "execution_count": 61,
   "metadata": {},
   "outputs": [],
   "source": [
    "pc1 = Cloud.from_tensors(depth[0], K, extr[0], ignore='max')"
   ]
  },
  {
   "cell_type": "code",
   "execution_count": 62,
   "metadata": {},
   "outputs": [
    {
     "data": {
      "text/plain": [
       "tensor([[ 0.8195, -0.3742,  7.0272],\n",
       "        [ 0.7736, -0.3521,  6.6122],\n",
       "        [ 0.7273, -0.3300,  6.1964],\n",
       "        ...,\n",
       "        [ 0.0440,  0.7502,  5.8670],\n",
       "        [ 0.0525,  0.8521,  6.6635],\n",
       "        [ 0.0615,  0.9539,  7.4594]], dtype=torch.float64)"
      ]
     },
     "execution_count": 62,
     "metadata": {},
     "output_type": "execute_result"
    }
   ],
   "source": [
    "pc1.points"
   ]
  },
  {
   "cell_type": "code",
   "execution_count": 63,
   "metadata": {},
   "outputs": [
    {
     "data": {
      "text/plain": [
       "tensor(7.5268, dtype=torch.float64)"
      ]
     },
     "execution_count": 63,
     "metadata": {},
     "output_type": "execute_result"
    }
   ],
   "source": [
    "pc1.points[:, 2].max()"
   ]
  },
  {
   "cell_type": "code",
   "execution_count": 77,
   "metadata": {},
   "outputs": [],
   "source": [
    "def visualize_pcd(*cloud_objs):\n",
    "    all_pc_o3d = []\n",
    "    for cloud in cloud_objs:\n",
    "        cloud_pts = cloud.points.cpu().data.numpy()\n",
    "        pc_o3d = o3d.geometry.PointCloud(o3d.utility.Vector3dVector(cloud_pts))\n",
    "        all_pc_o3d.append(pc_o3d)\n",
    "    o3d.visualization.draw_geometries(all_pc_o3d)"
   ]
  },
  {
   "cell_type": "code",
   "execution_count": 78,
   "metadata": {},
   "outputs": [],
   "source": [
    "visualize_pcd(pc1)"
   ]
  },
  {
   "cell_type": "markdown",
   "metadata": {},
   "source": [
    "### Testing params estimation"
   ]
  },
  {
   "cell_type": "code",
   "execution_count": 170,
   "metadata": {},
   "outputs": [],
   "source": [
    "depth, extr, gt_depth = load_data(depth_dir, gt_extrinsics_dir, indices=[10, 50], gt_depth_dir=gt_depth_dir)"
   ]
  },
  {
   "cell_type": "code",
   "execution_count": 185,
   "metadata": {},
   "outputs": [],
   "source": [
    "# pc0 = Cloud.from_tensors(depth[0], K, torch.eye(4), ignore='max')\n",
    "# pc1 = Cloud.from_tensors(depth[1], K, torch.eye(4), ignore='max')\n",
    "pc0 = Cloud.from_tensors(gt_depth[0], K, torch.eye(4), ignore='max')\n",
    "pc1 = Cloud.from_tensors(gt_depth[1], K, torch.eye(4), ignore='max')"
   ]
  },
  {
   "cell_type": "code",
   "execution_count": 186,
   "metadata": {},
   "outputs": [],
   "source": [
    "visualize_pcd(pc0, pc1)"
   ]
  },
  {
   "cell_type": "code",
   "execution_count": 188,
   "metadata": {},
   "outputs": [
    {
     "name": "stderr",
     "output_type": "stream",
     "text": [
      "  0%|          | 0/100 [00:00<?, ?it/s]"
     ]
    },
    {
     "name": "stdout",
     "output_type": "stream",
     "text": [
      "Correspondence set estimation...\n",
      "Extrinsics estimation...\n"
     ]
    },
    {
     "name": "stderr",
     "output_type": "stream",
     "text": [
      "  0%|          | 0/100 [00:01<?, ?it/s]\n"
     ]
    },
    {
     "data": {
      "text/plain": [
       "tensor([-1.0645, -0.0400,  0.0527, -0.0089,  0.1371, -0.0186],\n",
       "       dtype=torch.float64)"
      ]
     },
     "execution_count": 188,
     "metadata": {},
     "output_type": "execute_result"
    }
   ],
   "source": [
    "# optimization step & pc0 update:\n",
    "\n",
    "params = optim_step_ICP(pc0, pc1, max_iter=100, icp_max_iter=30, verbose=1)\n",
    "transl, angle = params.split([3, 3], dim=-1)\n",
    "rot = create_rot_from_angle(angle.unsqueeze(0)).squeeze(0)\n",
    "pc0.points = transform_pc(pc0.points, rot, transl).squeeze(1)\n",
    "params"
   ]
  },
  {
   "cell_type": "code",
   "execution_count": 200,
   "metadata": {},
   "outputs": [],
   "source": [
    "visualize_pcd(pc0, pc1)"
   ]
  },
  {
   "cell_type": "code",
   "execution_count": 178,
   "metadata": {},
   "outputs": [
    {
     "data": {
      "text/plain": [
       "tensor([-0.0782,  0.0730,  0.0267], dtype=torch.float64)"
      ]
     },
     "execution_count": 178,
     "metadata": {},
     "output_type": "execute_result"
    }
   ],
   "source": [
    "transl"
   ]
  },
  {
   "cell_type": "code",
   "execution_count": 205,
   "metadata": {},
   "outputs": [
    {
     "data": {
      "text/plain": [
       "tensor([[ 0.9904,  0.0179,  0.1368, -1.0645],\n",
       "        [-0.0191,  0.9998,  0.0076, -0.0400],\n",
       "        [-0.1366, -0.0101,  0.9906,  0.0527],\n",
       "        [ 0.0000,  0.0000,  0.0000,  1.0000]], dtype=torch.float64)"
      ]
     },
     "execution_count": 205,
     "metadata": {},
     "output_type": "execute_result"
    }
   ],
   "source": [
    "extrinsics_from_rot_transl(rot, transl)"
   ]
  },
  {
   "cell_type": "code",
   "execution_count": 199,
   "metadata": {},
   "outputs": [
    {
     "data": {
      "text/plain": [
       "tensor([[ 0.9936,  0.0184, -0.1117,  1.1219],\n",
       "        [-0.0175,  0.9998,  0.0085, -0.0792],\n",
       "        [ 0.1118, -0.0064,  0.9937, -0.0227],\n",
       "        [ 0.0000,  0.0000,  0.0000,  1.0000]], dtype=torch.float64)"
      ]
     },
     "execution_count": 199,
     "metadata": {},
     "output_type": "execute_result"
    }
   ],
   "source": [
    "extr[0] @ torch.inverse(extr[1])"
   ]
  },
  {
   "cell_type": "markdown",
   "metadata": {},
   "source": [
    "### GradOdometry"
   ]
  },
  {
   "cell_type": "code",
   "execution_count": 212,
   "metadata": {},
   "outputs": [],
   "source": [
    "depth, extr, gt_depth = load_data(depth_dir, gt_extrinsics_dir, indices=[10, 50], gt_depth_dir=gt_depth_dir)\n",
    "depth = depth.requires_grad_()"
   ]
  },
  {
   "cell_type": "code",
   "execution_count": 213,
   "metadata": {},
   "outputs": [
    {
     "data": {
      "text/plain": [
       "torch.Size([2, 1080, 1920])"
      ]
     },
     "execution_count": 213,
     "metadata": {},
     "output_type": "execute_result"
    }
   ],
   "source": [
    "depth.shape"
   ]
  },
  {
   "cell_type": "code",
   "execution_count": 214,
   "metadata": {},
   "outputs": [],
   "source": [
    "pc0 = Cloud.from_tensors(depth[0], K, torch.eye(4), ignore='max')\n",
    "pc1 = Cloud.from_tensors(depth[1], K, torch.eye(4), ignore='max')\n",
    "# pc0 = Cloud.from_tensors(gt_depth[0], K, torch.eye(4), ignore='max')\n",
    "# pc1 = Cloud.from_tensors(gt_depth[1], K, torch.eye(4), ignore='max')"
   ]
  },
  {
   "cell_type": "code",
   "execution_count": 215,
   "metadata": {},
   "outputs": [],
   "source": [
    "visualize_pcd(pc0, pc1)"
   ]
  },
  {
   "cell_type": "code",
   "execution_count": 216,
   "metadata": {},
   "outputs": [],
   "source": [
    "def loss(T_estim, extr_first, extr_second):\n",
    "    gt_rel_extr = extr_first @ torch.inverse(extr_second)    # not sure, to be checked!\n",
    "    loss_val = ((gt_rel_extr - T_estim) ** 2).sum()\n",
    "    return loss_val"
   ]
  },
  {
   "cell_type": "code",
   "execution_count": null,
   "metadata": {},
   "outputs": [
    {
     "name": "stderr",
     "output_type": "stream",
     "text": [
      "  0%|          | 0/30 [00:00<?, ?it/s]"
     ]
    },
    {
     "name": "stdout",
     "output_type": "stream",
     "text": [
      "Correspondence set estimation...\n",
      "Extrinsics estimation...\n"
     ]
    }
   ],
   "source": [
    "gradslam_iter = 30\n",
    "\n",
    "opt = optim.Adam([depth], lr=1e-4)    # depth[0] only?\n",
    "\n",
    "for i in tqdm(range(gradslam_iter)):\n",
    "    pc0 = Cloud.from_tensors(depth[0], K, torch.eye(4), ignore='max')\n",
    "    pc1 = Cloud.from_tensors(depth[1], K, torch.eye(4), ignore='max')\n",
    "    \n",
    "    params = optim_step_ICP(pc0, pc1, max_iter=100, icp_max_iter=3)\n",
    "    transl, angle = params.split([3, 3], dim=-1)\n",
    "    rot = create_rot_from_angle(angle.unsqueeze(0)).squeeze(0)\n",
    "    pc0.points = transform_pc(pc0.points, rot, transl).squeeze(1) \n",
    "    T = extrinsics_from_rot_transl(rot, transl)\n",
    "    \n",
    "    loss_val = loss(T, extr[0], extr[1])\n",
    "    loss_val.backward()\n",
    "    opt.step()\n",
    "    \n",
    "    if i % 5 == 0:\n",
    "        visualize_pcd(pc0, pc1)"
   ]
  }
 ],
 "metadata": {
  "kernelspec": {
   "display_name": "Python 3",
   "language": "python",
   "name": "python3"
  },
  "language_info": {
   "codemirror_mode": {
    "name": "ipython",
    "version": 3
   },
   "file_extension": ".py",
   "mimetype": "text/x-python",
   "name": "python",
   "nbconvert_exporter": "python",
   "pygments_lexer": "ipython3",
   "version": "3.7.4"
  }
 },
 "nbformat": 4,
 "nbformat_minor": 4
}

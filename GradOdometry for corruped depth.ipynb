{
 "cells": [
  {
   "cell_type": "code",
   "execution_count": 1,
   "metadata": {},
   "outputs": [],
   "source": [
    "%load_ext autoreload\n",
    "%autoreload 2"
   ]
  },
  {
   "cell_type": "code",
   "execution_count": 2,
   "metadata": {},
   "outputs": [],
   "source": [
    "import os\n",
    "import open3d as o3d\n",
    "import numpy as np\n",
    "import matplotlib.pyplot as plt\n",
    "%matplotlib inline\n",
    "import OpenEXR as exr, Imath\n",
    "from tqdm import tqdm\n",
    "from glob import glob\n",
    "import cv2\n",
    "\n",
    "import torch\n",
    "import torch.nn as nn\n",
    "import torch.optim as optim\n",
    "import torch.nn.functional as F\n",
    "\n",
    "from utils.cloud import Cloud\n",
    "from pose_est import PoseEst, create_rot_from_angle, transform_pc, extrinsics_from_rot_transl, get_params_from_rot_and_transl\n",
    "from params_est import optim_step_ICP, optim_step_neighbors"
   ]
  },
  {
   "cell_type": "code",
   "execution_count": 3,
   "metadata": {},
   "outputs": [],
   "source": [
    "plot_counter = 0"
   ]
  },
  {
   "cell_type": "code",
   "execution_count": 4,
   "metadata": {},
   "outputs": [],
   "source": [
    "ksize = 10\n",
    "gt_extrinsics_dir = f'../data/synthetic/stylized-ww01-plane/blender_render_depth4_3x_more_frames_/'\n",
    "gt_depth_dir = '../data/synthetic/stylized-ww01-plane/blender_render_depth4_3x_more_frames_'\n",
    "shared_K_path = f'../data/synthetic/stylized-ww01-plane/blender_render_depth4_3x_more_frames_/K_0.txt'"
   ]
  },
  {
   "cell_type": "code",
   "execution_count": 5,
   "metadata": {},
   "outputs": [],
   "source": [
    "K = torch.tensor(np.loadtxt(shared_K_path)).double()"
   ]
  },
  {
   "cell_type": "code",
   "execution_count": 6,
   "metadata": {},
   "outputs": [
    {
     "data": {
      "text/plain": [
       "tensor([[2.6667e+03, 0.0000e+00, 9.6000e+02],\n",
       "        [0.0000e+00, 2.6667e+03, 5.4000e+02],\n",
       "        [0.0000e+00, 0.0000e+00, 1.0000e+00]], dtype=torch.float64)"
      ]
     },
     "execution_count": 6,
     "metadata": {},
     "output_type": "execute_result"
    }
   ],
   "source": [
    "K"
   ]
  },
  {
   "cell_type": "code",
   "execution_count": 7,
   "metadata": {},
   "outputs": [],
   "source": [
    "def load_data(depth_dir, gt_extrinsics_dir, indices, gt_depth_dir=None):\n",
    "    # indices: array-like of int\n",
    "    depth_all, RT_all, gt_depth_all = [], [], []\n",
    "    for ind in indices:\n",
    "        depth = np.load(os.path.join(depth_dir, f'{ind}.npy'))[..., 0]\n",
    "        RT = np.loadtxt(os.path.join(gt_extrinsics_dir, f'RT_{ind}.txt'))\n",
    "        depth_all.append(depth)\n",
    "        RT_all.append(RT)\n",
    "        if gt_depth_dir is not None:\n",
    "            gt_depth = np.load(os.path.join(gt_depth_dir, f'{ind}.npy'))\n",
    "            if len(gt_depth.shape) == 3 and gt_depth.shape[2] == 1:\n",
    "                gt_depth = gt_depth[..., 0]\n",
    "            gt_depth_all.append(gt_depth)\n",
    "    \n",
    "    depth_all = torch.tensor(np.stack(depth_all)).double()\n",
    "    RT_all = torch.tensor(np.stack(RT_all)).double()\n",
    "    if gt_depth_dir is not None:\n",
    "        gt_depth_all = torch.tensor(np.stack(gt_depth_all)).double()\n",
    "        return depth_all, RT_all, gt_depth_all\n",
    "    return depth_all, RT_all"
   ]
  },
  {
   "cell_type": "code",
   "execution_count": 8,
   "metadata": {},
   "outputs": [],
   "source": [
    "def corrupt_depth(depth, sigma=0.1):\n",
    "    mask = (depth != depth.max())\n",
    "    depth_new = depth.clone()\n",
    "    depth_new[mask] += (np.random.randn(*depth_new.shape) * sigma)[mask]\n",
    "    return depth_new"
   ]
  },
  {
   "cell_type": "code",
   "execution_count": 20,
   "metadata": {},
   "outputs": [],
   "source": [
    "depth, extr, gt_depth = load_data(gt_depth_dir, gt_extrinsics_dir, indices=[10, 50], gt_depth_dir=gt_depth_dir)\n",
    "#depth = corrupt_depth(depth, sigma=0.1)"
   ]
  },
  {
   "cell_type": "code",
   "execution_count": 9,
   "metadata": {},
   "outputs": [
    {
     "data": {
      "text/plain": [
       "(tensor(6.1295, dtype=torch.float64), tensor(15., dtype=torch.float64))"
      ]
     },
     "execution_count": 9,
     "metadata": {},
     "output_type": "execute_result"
    }
   ],
   "source": [
    "depth[0].min(), depth[0].max()"
   ]
  },
  {
   "cell_type": "code",
   "execution_count": 10,
   "metadata": {},
   "outputs": [
    {
     "data": {
      "text/plain": [
       "(tensor(6.1523, dtype=torch.float64), tensor(15., dtype=torch.float64))"
      ]
     },
     "execution_count": 10,
     "metadata": {},
     "output_type": "execute_result"
    }
   ],
   "source": [
    "gt_depth[0].min(), gt_depth[0].max()"
   ]
  },
  {
   "cell_type": "code",
   "execution_count": 11,
   "metadata": {},
   "outputs": [
    {
     "data": {
      "text/plain": [
       "(tensor(6.1591, dtype=torch.float64), tensor(15., dtype=torch.float64))"
      ]
     },
     "execution_count": 11,
     "metadata": {},
     "output_type": "execute_result"
    }
   ],
   "source": [
    "depth[1].min(), depth[1].max()"
   ]
  },
  {
   "cell_type": "code",
   "execution_count": 12,
   "metadata": {},
   "outputs": [
    {
     "data": {
      "text/plain": [
       "(torch.Size([2, 1080, 1920]), torch.Size([2, 1080, 1920]))"
      ]
     },
     "execution_count": 12,
     "metadata": {},
     "output_type": "execute_result"
    }
   ],
   "source": [
    "depth.shape, gt_depth.shape"
   ]
  },
  {
   "cell_type": "markdown",
   "metadata": {},
   "source": [
    "### Testing visualization"
   ]
  },
  {
   "cell_type": "code",
   "execution_count": 21,
   "metadata": {},
   "outputs": [],
   "source": [
    "pc1 = Cloud.from_tensors(depth[0], K, extr[0], ignore='max')"
   ]
  },
  {
   "cell_type": "code",
   "execution_count": 22,
   "metadata": {},
   "outputs": [
    {
     "data": {
      "text/plain": [
       "tensor([[ 0.7028, -0.3325,  6.2891],\n",
       "        [ 0.7052, -0.3325,  6.2891],\n",
       "        [ 0.7071, -0.3323,  6.2852],\n",
       "        ...,\n",
       "        [ 0.0399,  0.8502,  6.6484],\n",
       "        [ 0.0424,  0.8502,  6.6484],\n",
       "        [ 0.0449,  0.8507,  6.6523]], dtype=torch.float64)"
      ]
     },
     "execution_count": 22,
     "metadata": {},
     "output_type": "execute_result"
    }
   ],
   "source": [
    "pc1.points"
   ]
  },
  {
   "cell_type": "code",
   "execution_count": 23,
   "metadata": {},
   "outputs": [],
   "source": [
    "def visualize_pcd(*cloud_objs):\n",
    "    all_pc_o3d = []\n",
    "    for cloud in cloud_objs:\n",
    "        cloud_pts = cloud.points.cpu().data.numpy()\n",
    "        pc_o3d = o3d.geometry.PointCloud(o3d.utility.Vector3dVector(cloud_pts))\n",
    "        all_pc_o3d.append(pc_o3d)\n",
    "    o3d.visualization.draw_geometries(all_pc_o3d)"
   ]
  },
  {
   "cell_type": "code",
   "execution_count": 24,
   "metadata": {},
   "outputs": [],
   "source": [
    "visualize_pcd(pc1)"
   ]
  },
  {
   "cell_type": "markdown",
   "metadata": {},
   "source": [
    "### Testing params estimation (ICP correspondence set till convergence + LM till convergence)"
   ]
  },
  {
   "cell_type": "code",
   "execution_count": 16,
   "metadata": {},
   "outputs": [],
   "source": [
    "depth, extr, gt_depth = load_data(gt_depth_dir, gt_extrinsics_dir, indices=[80, 120], gt_depth_dir=gt_depth_dir)\n",
    "depth = corrupt_depth(depth, sigma=0.01)"
   ]
  },
  {
   "cell_type": "code",
   "execution_count": 17,
   "metadata": {},
   "outputs": [],
   "source": [
    "pc0 = Cloud.from_tensors(depth[0], K, torch.eye(4), ignore='max')\n",
    "# pc1 = Cloud.from_tensors(depth[1], K, torch.eye(4), ignore='max')\n",
    "# pc0 = Cloud.from_tensors(gt_depth[0], K, torch.eye(4), ignore='max')\n",
    "pc1 = Cloud.from_tensors(gt_depth[1], K, torch.eye(4), ignore='max')"
   ]
  },
  {
   "cell_type": "code",
   "execution_count": 18,
   "metadata": {},
   "outputs": [],
   "source": [
    "visualize_pcd(pc0, pc1)"
   ]
  },
  {
   "cell_type": "code",
   "execution_count": 19,
   "metadata": {},
   "outputs": [
    {
     "name": "stdout",
     "output_type": "stream",
     "text": [
      "Correspondence set estimation...\n"
     ]
    },
    {
     "ename": "KeyboardInterrupt",
     "evalue": "",
     "output_type": "error",
     "traceback": [
      "\u001b[0;31m---------------------------------------------------------------------------\u001b[0m",
      "\u001b[0;31mKeyboardInterrupt\u001b[0m                         Traceback (most recent call last)",
      "\u001b[0;32m<ipython-input-19-b82ece6cb0d2>\u001b[0m in \u001b[0;36m<module>\u001b[0;34m\u001b[0m\n\u001b[1;32m      1\u001b[0m \u001b[0;31m# optimization step & pc0 update:\u001b[0m\u001b[0;34m\u001b[0m\u001b[0;34m\u001b[0m\u001b[0;34m\u001b[0m\u001b[0m\n\u001b[1;32m      2\u001b[0m \u001b[0;34m\u001b[0m\u001b[0m\n\u001b[0;32m----> 3\u001b[0;31m \u001b[0mparams\u001b[0m \u001b[0;34m=\u001b[0m \u001b[0moptim_step_ICP\u001b[0m\u001b[0;34m(\u001b[0m\u001b[0mpc0\u001b[0m\u001b[0;34m,\u001b[0m \u001b[0mpc1\u001b[0m\u001b[0;34m,\u001b[0m \u001b[0mmax_iter\u001b[0m\u001b[0;34m=\u001b[0m\u001b[0;36m100\u001b[0m\u001b[0;34m,\u001b[0m \u001b[0micp_max_iter\u001b[0m\u001b[0;34m=\u001b[0m\u001b[0;36m30\u001b[0m\u001b[0;34m,\u001b[0m \u001b[0mverbose\u001b[0m\u001b[0;34m=\u001b[0m\u001b[0;36m1\u001b[0m\u001b[0;34m)\u001b[0m\u001b[0;34m\u001b[0m\u001b[0;34m\u001b[0m\u001b[0m\n\u001b[0m\u001b[1;32m      4\u001b[0m \u001b[0mtransl\u001b[0m\u001b[0;34m,\u001b[0m \u001b[0mangle\u001b[0m \u001b[0;34m=\u001b[0m \u001b[0mparams\u001b[0m\u001b[0;34m.\u001b[0m\u001b[0msplit\u001b[0m\u001b[0;34m(\u001b[0m\u001b[0;34m[\u001b[0m\u001b[0;36m3\u001b[0m\u001b[0;34m,\u001b[0m \u001b[0;36m3\u001b[0m\u001b[0;34m]\u001b[0m\u001b[0;34m,\u001b[0m \u001b[0mdim\u001b[0m\u001b[0;34m=\u001b[0m\u001b[0;34m-\u001b[0m\u001b[0;36m1\u001b[0m\u001b[0;34m)\u001b[0m\u001b[0;34m\u001b[0m\u001b[0;34m\u001b[0m\u001b[0m\n\u001b[1;32m      5\u001b[0m \u001b[0mrot\u001b[0m \u001b[0;34m=\u001b[0m \u001b[0mcreate_rot_from_angle\u001b[0m\u001b[0;34m(\u001b[0m\u001b[0mangle\u001b[0m\u001b[0;34m.\u001b[0m\u001b[0munsqueeze\u001b[0m\u001b[0;34m(\u001b[0m\u001b[0;36m0\u001b[0m\u001b[0;34m)\u001b[0m\u001b[0;34m)\u001b[0m\u001b[0;34m.\u001b[0m\u001b[0msqueeze\u001b[0m\u001b[0;34m(\u001b[0m\u001b[0;36m0\u001b[0m\u001b[0;34m)\u001b[0m\u001b[0;34m\u001b[0m\u001b[0;34m\u001b[0m\u001b[0m\n",
      "\u001b[0;32m~/Документы/Сколтех, PhD/Perception in Robotics/project/repo/params_est.py\u001b[0m in \u001b[0;36moptim_step_ICP\u001b[0;34m(pc1, pc2, params_old, max_iter, icp_max_iter, verbose)\u001b[0m\n\u001b[1;32m     52\u001b[0m     \u001b[0mprint\u001b[0m\u001b[0;34m(\u001b[0m\u001b[0;34m'Correspondence set estimation...'\u001b[0m\u001b[0;34m)\u001b[0m\u001b[0;34m\u001b[0m\u001b[0;34m\u001b[0m\u001b[0m\n\u001b[1;32m     53\u001b[0m     reg_p2l = o3d.registration.registration_icp(pcA, pcB, 0.2, R,\n\u001b[0;32m---> 54\u001b[0;31m                                                 criteria=o3d.registration.ICPConvergenceCriteria(max_iteration=icp_max_iter))\n\u001b[0m\u001b[1;32m     55\u001b[0m \u001b[0;34m\u001b[0m\u001b[0m\n\u001b[1;32m     56\u001b[0m     \u001b[0mpc1_idx\u001b[0m\u001b[0;34m,\u001b[0m \u001b[0mpc2_idx\u001b[0m \u001b[0;34m=\u001b[0m \u001b[0mnp\u001b[0m\u001b[0;34m.\u001b[0m\u001b[0masarray\u001b[0m\u001b[0;34m(\u001b[0m\u001b[0mreg_p2l\u001b[0m\u001b[0;34m.\u001b[0m\u001b[0mcorrespondence_set\u001b[0m\u001b[0;34m)\u001b[0m\u001b[0;34m.\u001b[0m\u001b[0mT\u001b[0m\u001b[0;34m\u001b[0m\u001b[0;34m\u001b[0m\u001b[0m\n",
      "\u001b[0;31mKeyboardInterrupt\u001b[0m: "
     ]
    }
   ],
   "source": [
    "# optimization step & pc0 update:\n",
    "\n",
    "params = optim_step_ICP(pc0, pc1, max_iter=100, icp_max_iter=30, verbose=1)\n",
    "transl, angle = params.split([3, 3], dim=-1)\n",
    "rot = create_rot_from_angle(angle.unsqueeze(0)).squeeze(0)\n",
    "pc0.points = transform_pc(pc0.points, rot, transl).squeeze(1)\n",
    "params"
   ]
  },
  {
   "cell_type": "code",
   "execution_count": 61,
   "metadata": {},
   "outputs": [],
   "source": [
    "visualize_pcd(pc0, pc1)"
   ]
  },
  {
   "cell_type": "code",
   "execution_count": 62,
   "metadata": {},
   "outputs": [
    {
     "data": {
      "text/plain": [
       "tensor([-1.8027,  0.0821, -0.0754], dtype=torch.float64)"
      ]
     },
     "execution_count": 62,
     "metadata": {},
     "output_type": "execute_result"
    }
   ],
   "source": [
    "transl"
   ]
  },
  {
   "cell_type": "code",
   "execution_count": 63,
   "metadata": {},
   "outputs": [
    {
     "data": {
      "text/plain": [
       "tensor([[ 0.9647, -0.0272,  0.2619, -1.8027],\n",
       "        [ 0.0305,  0.9995, -0.0084,  0.0821],\n",
       "        [-0.2615,  0.0161,  0.9651, -0.0754],\n",
       "        [ 0.0000,  0.0000,  0.0000,  1.0000]], dtype=torch.float64)"
      ]
     },
     "execution_count": 63,
     "metadata": {},
     "output_type": "execute_result"
    }
   ],
   "source": [
    "extrinsics_from_rot_transl(rot, transl)"
   ]
  },
  {
   "cell_type": "code",
   "execution_count": 64,
   "metadata": {},
   "outputs": [
    {
     "data": {
      "text/plain": [
       "tensor([[ 0.9645, -0.0230,  0.2631, -1.8127],\n",
       "        [ 0.0252,  0.9997, -0.0051,  0.0583],\n",
       "        [-0.2629,  0.0116,  0.9647, -0.0723],\n",
       "        [ 0.0000,  0.0000,  0.0000,  1.0000]], dtype=torch.float64)"
      ]
     },
     "execution_count": 64,
     "metadata": {},
     "output_type": "execute_result"
    }
   ],
   "source": [
    "extr[1] @ torch.inverse(extr[0])"
   ]
  },
  {
   "cell_type": "markdown",
   "metadata": {},
   "source": [
    "### Testing params estimation ((ICP correspondence set 1 iteration + LM 1 iteration) x N_iter)"
   ]
  },
  {
   "cell_type": "code",
   "execution_count": 96,
   "metadata": {},
   "outputs": [],
   "source": [
    "depth, extr, gt_depth = load_data(gt_depth_dir, gt_extrinsics_dir, indices=[80, 120], gt_depth_dir=gt_depth_dir)\n",
    "depth = corrupt_depth(depth, sigma=0.01)"
   ]
  },
  {
   "cell_type": "code",
   "execution_count": 97,
   "metadata": {},
   "outputs": [],
   "source": [
    "pc0 = Cloud.from_tensors(depth[0], K, torch.eye(4), ignore='max')\n",
    "# pc1 = Cloud.from_tensors(depth[1], K, torch.eye(4), ignore='max')\n",
    "# pc0 = Cloud.from_tensors(gt_depth[0], K, torch.eye(4), ignore='max')\n",
    "pc1 = Cloud.from_tensors(gt_depth[1], K, torch.eye(4), ignore='max')"
   ]
  },
  {
   "cell_type": "code",
   "execution_count": 98,
   "metadata": {},
   "outputs": [],
   "source": [
    "visualize_pcd(pc0, pc1)"
   ]
  },
  {
   "cell_type": "code",
   "execution_count": 59,
   "metadata": {},
   "outputs": [],
   "source": [
    "def loss_T(T_estim, extr_first, extr_second):\n",
    "    gt_rel_extr = extr_second @ torch.inverse(extr_first)\n",
    "    loss_val = ((gt_rel_extr - T_estim) ** 2).sum()\n",
    "    return loss_val"
   ]
  },
  {
   "cell_type": "code",
   "execution_count": 60,
   "metadata": {},
   "outputs": [],
   "source": [
    "def loss_params(pred_params, extr_first, extr_second):\n",
    "    gt_rel_extr = extr_second @ torch.inverse(extr_first)\n",
    "    gt_params = get_params_from_rot_and_transl(gt_rel_extr[:3, :3], gt_rel_extr[:3, 3])\n",
    "    loss_val = ((pred_params - gt_params) ** 2).sum()\n",
    "    return loss_val"
   ]
  },
  {
   "cell_type": "code",
   "execution_count": 61,
   "metadata": {
    "scrolled": true
   },
   "outputs": [
    {
     "name": "stderr",
     "output_type": "stream",
     "text": [
      "\n",
      "\n",
      "\n",
      "\n",
      "\n",
      "  0%|          | 0/30 [00:00<?, ?it/s]\u001b[A\u001b[A\u001b[A\u001b[A\u001b[A"
     ]
    },
    {
     "name": "stdout",
     "output_type": "stream",
     "text": [
      "Correspondence set estimation...\n",
      "Extrinsics estimation...\n"
     ]
    },
    {
     "name": "stderr",
     "output_type": "stream",
     "text": [
      "\n",
      "\n",
      "\n",
      "\n",
      "\n",
      "  3%|▎         | 1/30 [00:05<02:37,  5.45s/it]\u001b[A\u001b[A\u001b[A\u001b[A\u001b[A"
     ]
    },
    {
     "name": "stdout",
     "output_type": "stream",
     "text": [
      "Did not converge with required tolerance.\n",
      "loss tensor(1.6122, dtype=torch.float64)\n",
      "Correspondence set estimation...\n",
      "Extrinsics estimation...\n"
     ]
    },
    {
     "name": "stderr",
     "output_type": "stream",
     "text": [
      "\n",
      "\n",
      "\n",
      "\n",
      "\n",
      "  7%|▋         | 2/30 [00:09<02:22,  5.11s/it]\u001b[A\u001b[A\u001b[A\u001b[A\u001b[A"
     ]
    },
    {
     "name": "stdout",
     "output_type": "stream",
     "text": [
      "loss tensor(0.6779, dtype=torch.float64)\n",
      "Correspondence set estimation...\n",
      "Extrinsics estimation...\n"
     ]
    },
    {
     "name": "stderr",
     "output_type": "stream",
     "text": [
      "\n",
      "\n",
      "\n",
      "\n",
      "\n",
      " 10%|█         | 3/30 [00:13<02:06,  4.69s/it]\u001b[A\u001b[A\u001b[A\u001b[A\u001b[A"
     ]
    },
    {
     "name": "stdout",
     "output_type": "stream",
     "text": [
      "loss tensor(0.0828, dtype=torch.float64)\n",
      "Correspondence set estimation...\n",
      "Extrinsics estimation...\n"
     ]
    },
    {
     "name": "stderr",
     "output_type": "stream",
     "text": [
      "\n",
      "\n",
      "\n",
      "\n",
      "\n",
      " 13%|█▎        | 4/30 [00:16<01:50,  4.26s/it]\u001b[A\u001b[A\u001b[A\u001b[A\u001b[A"
     ]
    },
    {
     "name": "stdout",
     "output_type": "stream",
     "text": [
      "loss tensor(0.0170, dtype=torch.float64)\n",
      "Correspondence set estimation...\n",
      "Extrinsics estimation...\n"
     ]
    },
    {
     "name": "stderr",
     "output_type": "stream",
     "text": [
      "\n",
      "\n",
      "\n",
      "\n",
      "\n",
      " 17%|█▋        | 5/30 [00:19<01:36,  3.85s/it]\u001b[A\u001b[A\u001b[A\u001b[A\u001b[A"
     ]
    },
    {
     "name": "stdout",
     "output_type": "stream",
     "text": [
      "Did not converge with required tolerance.\n",
      "loss tensor(0.0084, dtype=torch.float64)\n",
      "Correspondence set estimation...\n",
      "Extrinsics estimation...\n"
     ]
    },
    {
     "name": "stderr",
     "output_type": "stream",
     "text": [
      "\n",
      "\n",
      "\n",
      "\n",
      "\n",
      " 20%|██        | 6/30 [00:22<01:28,  3.69s/it]\u001b[A\u001b[A\u001b[A\u001b[A\u001b[A"
     ]
    },
    {
     "name": "stdout",
     "output_type": "stream",
     "text": [
      "Did not converge with required tolerance.\n",
      "loss tensor(0.0054, dtype=torch.float64)\n",
      "Correspondence set estimation...\n",
      "Extrinsics estimation...\n"
     ]
    },
    {
     "name": "stderr",
     "output_type": "stream",
     "text": [
      "\n",
      "\n",
      "\n",
      "\n",
      "\n",
      " 23%|██▎       | 7/30 [00:26<01:20,  3.51s/it]\u001b[A\u001b[A\u001b[A\u001b[A\u001b[A"
     ]
    },
    {
     "name": "stdout",
     "output_type": "stream",
     "text": [
      "Did not converge with required tolerance.\n",
      "loss tensor(0.0037, dtype=torch.float64)\n",
      "Correspondence set estimation...\n",
      "Extrinsics estimation...\n"
     ]
    },
    {
     "name": "stderr",
     "output_type": "stream",
     "text": [
      "\n",
      "\n",
      "\n",
      "\n",
      "\n",
      " 27%|██▋       | 8/30 [00:28<01:12,  3.31s/it]\u001b[A\u001b[A\u001b[A\u001b[A\u001b[A"
     ]
    },
    {
     "name": "stdout",
     "output_type": "stream",
     "text": [
      "Did not converge with required tolerance.\n",
      "loss tensor(0.0026, dtype=torch.float64)\n",
      "Correspondence set estimation...\n",
      "Extrinsics estimation...\n"
     ]
    },
    {
     "name": "stderr",
     "output_type": "stream",
     "text": [
      "\n",
      "\n",
      "\n",
      "\n",
      "\n",
      " 30%|███       | 9/30 [00:31<01:07,  3.19s/it]\u001b[A\u001b[A\u001b[A\u001b[A\u001b[A"
     ]
    },
    {
     "name": "stdout",
     "output_type": "stream",
     "text": [
      "Did not converge with required tolerance.\n",
      "loss tensor(0.0018, dtype=torch.float64)\n",
      "Correspondence set estimation...\n",
      "Extrinsics estimation...\n"
     ]
    },
    {
     "name": "stderr",
     "output_type": "stream",
     "text": [
      "\n",
      "\n",
      "\n",
      "\n",
      "\n",
      " 33%|███▎      | 10/30 [00:34<01:03,  3.19s/it]\u001b[A\u001b[A\u001b[A\u001b[A\u001b[A"
     ]
    },
    {
     "name": "stdout",
     "output_type": "stream",
     "text": [
      "Did not converge with required tolerance.\n",
      "loss tensor(0.0014, dtype=torch.float64)\n"
     ]
    },
    {
     "ename": "RuntimeError",
     "evalue": "Unable to cast Python instance to C++ type (compile in debug mode for details)",
     "output_type": "error",
     "traceback": [
      "\u001b[0;31m---------------------------------------------------------------------------\u001b[0m",
      "\u001b[0;31mRuntimeError\u001b[0m                              Traceback (most recent call last)",
      "\u001b[0;32m<ipython-input-61-61ab746b4264>\u001b[0m in \u001b[0;36m<module>\u001b[0;34m\u001b[0m\n\u001b[1;32m      3\u001b[0m \u001b[0mT\u001b[0m \u001b[0;34m=\u001b[0m \u001b[0mtorch\u001b[0m\u001b[0;34m.\u001b[0m\u001b[0meye\u001b[0m\u001b[0;34m(\u001b[0m\u001b[0;36m4\u001b[0m\u001b[0;34m)\u001b[0m\u001b[0;34m.\u001b[0m\u001b[0mdouble\u001b[0m\u001b[0;34m(\u001b[0m\u001b[0;34m)\u001b[0m\u001b[0;34m\u001b[0m\u001b[0;34m\u001b[0m\u001b[0m\n\u001b[1;32m      4\u001b[0m \u001b[0;32mfor\u001b[0m \u001b[0mi\u001b[0m \u001b[0;32min\u001b[0m \u001b[0mtqdm\u001b[0m\u001b[0;34m(\u001b[0m\u001b[0mrange\u001b[0m\u001b[0;34m(\u001b[0m\u001b[0mgradslam_iter\u001b[0m\u001b[0;34m)\u001b[0m\u001b[0;34m)\u001b[0m\u001b[0;34m:\u001b[0m\u001b[0;34m\u001b[0m\u001b[0;34m\u001b[0m\u001b[0m\n\u001b[0;32m----> 5\u001b[0;31m     \u001b[0mparams_upd\u001b[0m \u001b[0;34m=\u001b[0m \u001b[0moptim_step_ICP\u001b[0m\u001b[0;34m(\u001b[0m\u001b[0mpc0\u001b[0m\u001b[0;34m,\u001b[0m \u001b[0mpc1\u001b[0m\u001b[0;34m,\u001b[0m \u001b[0mmax_iter\u001b[0m\u001b[0;34m=\u001b[0m\u001b[0;36m10\u001b[0m\u001b[0;34m,\u001b[0m \u001b[0micp_max_iter\u001b[0m\u001b[0;34m=\u001b[0m\u001b[0;36m1\u001b[0m\u001b[0;34m,\u001b[0m \u001b[0mverbose\u001b[0m\u001b[0;34m=\u001b[0m\u001b[0;36m0\u001b[0m\u001b[0;34m)\u001b[0m\u001b[0;34m\u001b[0m\u001b[0;34m\u001b[0m\u001b[0m\n\u001b[0m\u001b[1;32m      6\u001b[0m     \u001b[0mtransl_upd\u001b[0m\u001b[0;34m,\u001b[0m \u001b[0mangle_upd\u001b[0m \u001b[0;34m=\u001b[0m \u001b[0mparams_upd\u001b[0m\u001b[0;34m.\u001b[0m\u001b[0msplit\u001b[0m\u001b[0;34m(\u001b[0m\u001b[0;34m[\u001b[0m\u001b[0;36m3\u001b[0m\u001b[0;34m,\u001b[0m \u001b[0;36m3\u001b[0m\u001b[0;34m]\u001b[0m\u001b[0;34m,\u001b[0m \u001b[0mdim\u001b[0m\u001b[0;34m=\u001b[0m\u001b[0;34m-\u001b[0m\u001b[0;36m1\u001b[0m\u001b[0;34m)\u001b[0m\u001b[0;34m\u001b[0m\u001b[0;34m\u001b[0m\u001b[0m\n\u001b[1;32m      7\u001b[0m     \u001b[0mrot_upd\u001b[0m \u001b[0;34m=\u001b[0m \u001b[0mcreate_rot_from_angle\u001b[0m\u001b[0;34m(\u001b[0m\u001b[0mangle_upd\u001b[0m\u001b[0;34m.\u001b[0m\u001b[0munsqueeze\u001b[0m\u001b[0;34m(\u001b[0m\u001b[0;36m0\u001b[0m\u001b[0;34m)\u001b[0m\u001b[0;34m)\u001b[0m\u001b[0;34m.\u001b[0m\u001b[0msqueeze\u001b[0m\u001b[0;34m(\u001b[0m\u001b[0;36m0\u001b[0m\u001b[0;34m)\u001b[0m\u001b[0;34m\u001b[0m\u001b[0;34m\u001b[0m\u001b[0m\n",
      "\u001b[0;32m~/Документы/Сколтех, PhD/Perception in Robotics/project/repo/params_est.py\u001b[0m in \u001b[0;36moptim_step_ICP\u001b[0;34m(pc1, pc2, params_old, max_iter, icp_max_iter, verbose)\u001b[0m\n\u001b[1;32m     45\u001b[0m \u001b[0;34m\u001b[0m\u001b[0m\n\u001b[1;32m     46\u001b[0m     \u001b[0mpcA\u001b[0m \u001b[0;34m=\u001b[0m \u001b[0mo3d\u001b[0m\u001b[0;34m.\u001b[0m\u001b[0mgeometry\u001b[0m\u001b[0;34m.\u001b[0m\u001b[0mPointCloud\u001b[0m\u001b[0;34m(\u001b[0m\u001b[0;34m)\u001b[0m\u001b[0;34m\u001b[0m\u001b[0;34m\u001b[0m\u001b[0m\n\u001b[0;32m---> 47\u001b[0;31m     \u001b[0mpcA\u001b[0m\u001b[0;34m.\u001b[0m\u001b[0mpoints\u001b[0m \u001b[0;34m=\u001b[0m \u001b[0mo3d\u001b[0m\u001b[0;34m.\u001b[0m\u001b[0mutility\u001b[0m\u001b[0;34m.\u001b[0m\u001b[0mVector3dVector\u001b[0m\u001b[0;34m(\u001b[0m\u001b[0mpc1\u001b[0m\u001b[0;34m.\u001b[0m\u001b[0mpoints\u001b[0m\u001b[0;34m.\u001b[0m\u001b[0mdetach\u001b[0m\u001b[0;34m(\u001b[0m\u001b[0;34m)\u001b[0m\u001b[0;34m)\u001b[0m\u001b[0;34m\u001b[0m\u001b[0;34m\u001b[0m\u001b[0m\n\u001b[0m\u001b[1;32m     48\u001b[0m \u001b[0;34m\u001b[0m\u001b[0m\n\u001b[1;32m     49\u001b[0m     \u001b[0mpcB\u001b[0m \u001b[0;34m=\u001b[0m \u001b[0mo3d\u001b[0m\u001b[0;34m.\u001b[0m\u001b[0mgeometry\u001b[0m\u001b[0;34m.\u001b[0m\u001b[0mPointCloud\u001b[0m\u001b[0;34m(\u001b[0m\u001b[0;34m)\u001b[0m\u001b[0;34m\u001b[0m\u001b[0;34m\u001b[0m\u001b[0m\n",
      "\u001b[0;31mRuntimeError\u001b[0m: Unable to cast Python instance to C++ type (compile in debug mode for details)"
     ]
    }
   ],
   "source": [
    "gradslam_iter = 30\n",
    "\n",
    "T = torch.eye(4).double()\n",
    "for i in tqdm(range(gradslam_iter)):\n",
    "    params_upd = optim_step_ICP(pc0, pc1, max_iter=10, icp_max_iter=1, verbose=0)\n",
    "    transl_upd, angle_upd = params_upd.split([3, 3], dim=-1)\n",
    "    rot_upd = create_rot_from_angle(angle_upd.unsqueeze(0)).squeeze(0)\n",
    "    pc0.points = transform_pc(pc0.points, rot_upd, transl_upd).squeeze(1)\n",
    "    \n",
    "    T_upd = extrinsics_from_rot_transl(rot_upd, transl_upd).double()\n",
    "    T = T_upd @ T\n",
    "    rot, transl = T[:3, :3], T[:3, 3]\n",
    "    params = get_params_from_rot_and_transl(rot, transl)\n",
    "    # print('loss', loss_T(T, extr[0], extr[1]))\n",
    "    print('loss', loss_params(params, extr[0], extr[1]))\n",
    "\n",
    "params"
   ]
  },
  {
   "cell_type": "markdown",
   "metadata": {},
   "source": [
    "### GradOdometry"
   ]
  },
  {
   "cell_type": "code",
   "execution_count": 166,
   "metadata": {},
   "outputs": [],
   "source": [
    "depth, extr, gt_depth = load_data(gt_depth_dir, gt_extrinsics_dir, indices=[80, 100], gt_depth_dir=gt_depth_dir)\n",
    "depth = corrupt_depth(depth, sigma=0.3)\n",
    "# depth = depth.requires_grad_()\n",
    "depth_first = depth[0].clone()\n",
    "depth_second = gt_depth[1].clone()\n",
    "_ = depth_first.requires_grad_()"
   ]
  },
  {
   "cell_type": "code",
   "execution_count": 167,
   "metadata": {},
   "outputs": [
    {
     "data": {
      "text/plain": [
       "(tensor(5.3531, dtype=torch.float64, grad_fn=<MinBackward1>),\n",
       " tensor(15., dtype=torch.float64, grad_fn=<MaxBackward1>))"
      ]
     },
     "execution_count": 167,
     "metadata": {},
     "output_type": "execute_result"
    }
   ],
   "source": [
    "depth_first.min(), depth_first.max()"
   ]
  },
  {
   "cell_type": "code",
   "execution_count": 168,
   "metadata": {},
   "outputs": [],
   "source": [
    "pc0 = Cloud.from_tensors(depth_first, K, torch.eye(4), ignore='max')\n",
    "# pc1 = Cloud.from_tensors(depth_second, K, torch.eye(4), ignore='max')\n",
    "# pc0 = Cloud.from_tensors(gt_depth[0], K, torch.eye(4), ignore='max')\n",
    "pc1 = Cloud.from_tensors(gt_depth[1], K, torch.eye(4), ignore='max')"
   ]
  },
  {
   "cell_type": "code",
   "execution_count": 169,
   "metadata": {},
   "outputs": [],
   "source": [
    "gt_pc0 = Cloud.from_tensors(gt_depth[0], K, torch.eye(4), ignore='max')\n",
    "gt_pc1 = Cloud.from_tensors(gt_depth[1], K, torch.eye(4), ignore='max')"
   ]
  },
  {
   "cell_type": "code",
   "execution_count": 170,
   "metadata": {},
   "outputs": [],
   "source": [
    "# pc0.mask = gt_pc0.mask\n",
    "# pc1.mask = gt_pc1.mask\n",
    "# pc0.update_data(pc0.depth, pc0.intrinsic, pc0.extrinsic, update_mask=False)\n",
    "# pc0.update_data(pc1.depth, pc1.intrinsic, pc1.extrinsic, update_mask=False)"
   ]
  },
  {
   "cell_type": "code",
   "execution_count": 171,
   "metadata": {},
   "outputs": [],
   "source": [
    "visualize_pcd(pc0, pc1)"
   ]
  },
  {
   "cell_type": "code",
   "execution_count": 172,
   "metadata": {},
   "outputs": [],
   "source": [
    "def loss_T(T_estim, extr_first, extr_second):\n",
    "    gt_rel_extr = extr_second @ torch.inverse(extr_first)\n",
    "    loss_val = ((gt_rel_extr - T_estim) ** 2).sum()\n",
    "    return loss_val"
   ]
  },
  {
   "cell_type": "code",
   "execution_count": 173,
   "metadata": {},
   "outputs": [],
   "source": [
    "def loss_params(pred_params, extr_first, extr_second):\n",
    "    gt_rel_extr = extr_second @ torch.inverse(extr_first)\n",
    "    gt_params = get_params_from_rot_and_transl(gt_rel_extr[:3, :3], gt_rel_extr[:3, 3])\n",
    "    loss_val = ((pred_params - gt_params) ** 2).sum()\n",
    "    return loss_val"
   ]
  },
  {
   "cell_type": "code",
   "execution_count": 174,
   "metadata": {
    "scrolled": true
   },
   "outputs": [
    {
     "name": "stderr",
     "output_type": "stream",
     "text": [
      "\n",
      "\n",
      "\n",
      "\n",
      "\n",
      "\n",
      "\n",
      "\n",
      "\n",
      "\n",
      "\n",
      "\n",
      "\n",
      "\n",
      "\n",
      "\n",
      "\n",
      "  0%|          | 0/30 [00:00<?, ?it/s]\u001b[A\u001b[A\u001b[A\u001b[A\u001b[A\u001b[A\u001b[A\u001b[A\u001b[A\u001b[A\u001b[A\u001b[A\u001b[A\u001b[A\u001b[A\u001b[A\u001b[A"
     ]
    },
    {
     "name": "stdout",
     "output_type": "stream",
     "text": [
      "L1 between depth_first pic with motion blur and GT: 0.017036849083266963\n",
      "L1 between pc0 xyz and GT pc0 xyz: tensor(0.0886, dtype=torch.float64, grad_fn=<MeanBackward0>)\n",
      "Correspondence set estimation...\n",
      "Extrinsics estimation...\n",
      "Did not converge with required tolerance.\n",
      "loss tensor(0.2369, dtype=torch.float64)\n",
      "Correspondence set estimation...\n",
      "Extrinsics estimation...\n",
      "Did not converge with required tolerance.\n",
      "loss tensor(0.1205, dtype=torch.float64)\n",
      "Correspondence set estimation...\n",
      "Extrinsics estimation...\n",
      "Did not converge with required tolerance.\n",
      "loss tensor(0.1111, dtype=torch.float64)\n",
      "Correspondence set estimation...\n",
      "Extrinsics estimation...\n",
      "Did not converge with required tolerance.\n",
      "loss tensor(0.1216, dtype=torch.float64)\n",
      "Correspondence set estimation...\n",
      "Extrinsics estimation...\n",
      "Did not converge with required tolerance.\n",
      "loss tensor(0.1250, dtype=torch.float64)\n",
      "Correspondence set estimation...\n",
      "Extrinsics estimation...\n",
      "Did not converge with required tolerance.\n",
      "loss tensor(0.1248, dtype=torch.float64)\n",
      "Correspondence set estimation...\n",
      "Extrinsics estimation...\n",
      "Did not converge with required tolerance.\n",
      "loss tensor(0.1315, dtype=torch.float64)\n",
      "Correspondence set estimation...\n",
      "Extrinsics estimation...\n",
      "Did not converge with required tolerance.\n",
      "loss tensor(0.1408, dtype=torch.float64)\n",
      "Correspondence set estimation...\n",
      "Extrinsics estimation...\n",
      "Did not converge with required tolerance.\n",
      "loss tensor(0.1430, dtype=torch.float64)\n",
      "Correspondence set estimation...\n",
      "Extrinsics estimation...\n",
      "Did not converge with required tolerance.\n",
      "loss tensor(0.1448, dtype=torch.float64)\n",
      "loss tensor(0.1448, dtype=torch.float64, grad_fn=<SumBackward0>)\n"
     ]
    },
    {
     "name": "stderr",
     "output_type": "stream",
     "text": [
      "\n",
      "\n",
      "\n",
      "\n",
      "\n",
      "\n",
      "\n",
      "\n",
      "\n",
      "\n",
      "\n",
      "\n",
      "\n",
      "\n",
      "\n",
      "\n",
      "\n",
      "  3%|▎         | 1/30 [00:24<11:44, 24.28s/it]\u001b[A\u001b[A\u001b[A\u001b[A\u001b[A\u001b[A\u001b[A\u001b[A\u001b[A\u001b[A\u001b[A\u001b[A\u001b[A\u001b[A\u001b[A\u001b[A\u001b[A"
     ]
    },
    {
     "name": "stdout",
     "output_type": "stream",
     "text": [
      "L1 between depth_first pic with motion blur and GT: 0.017036844823313933\n",
      "L1 between pc0 xyz and GT pc0 xyz: tensor(0.1139, dtype=torch.float64, grad_fn=<MeanBackward0>)\n",
      "Correspondence set estimation...\n",
      "Extrinsics estimation...\n",
      "Did not converge with required tolerance.\n",
      "loss tensor(0.2261, dtype=torch.float64)\n",
      "Correspondence set estimation...\n",
      "Extrinsics estimation...\n",
      "Did not converge with required tolerance.\n",
      "loss tensor(0.1120, dtype=torch.float64)\n",
      "Correspondence set estimation...\n",
      "Extrinsics estimation...\n",
      "Did not converge with required tolerance.\n",
      "loss tensor(0.1119, dtype=torch.float64)\n",
      "Correspondence set estimation...\n",
      "Extrinsics estimation...\n",
      "Did not converge with required tolerance.\n",
      "loss tensor(0.1118, dtype=torch.float64)\n",
      "Correspondence set estimation...\n",
      "Extrinsics estimation...\n",
      "Did not converge with required tolerance.\n",
      "loss tensor(0.1153, dtype=torch.float64)\n",
      "Correspondence set estimation...\n",
      "Extrinsics estimation...\n",
      "Did not converge with required tolerance.\n",
      "loss tensor(0.1155, dtype=torch.float64)\n",
      "Correspondence set estimation...\n",
      "Extrinsics estimation...\n",
      "Did not converge with required tolerance.\n",
      "loss tensor(0.1184, dtype=torch.float64)\n",
      "Correspondence set estimation...\n",
      "Extrinsics estimation...\n",
      "Did not converge with required tolerance.\n",
      "loss tensor(0.1257, dtype=torch.float64)\n",
      "Correspondence set estimation...\n",
      "Extrinsics estimation...\n",
      "Did not converge with required tolerance.\n",
      "loss tensor(0.1290, dtype=torch.float64)\n",
      "Correspondence set estimation...\n",
      "Extrinsics estimation...\n",
      "Did not converge with required tolerance.\n",
      "loss tensor(0.1276, dtype=torch.float64)\n",
      "loss tensor(0.1276, dtype=torch.float64, grad_fn=<SumBackward0>)\n"
     ]
    },
    {
     "name": "stderr",
     "output_type": "stream",
     "text": [
      "\n",
      "\n",
      "\n",
      "\n",
      "\n",
      "\n",
      "\n",
      "\n",
      "\n",
      "\n",
      "\n",
      "\n",
      "\n",
      "\n",
      "\n",
      "\n",
      "\n",
      "  7%|▋         | 2/30 [00:47<11:12, 24.01s/it]\u001b[A\u001b[A\u001b[A\u001b[A\u001b[A\u001b[A\u001b[A\u001b[A\u001b[A\u001b[A\u001b[A\u001b[A\u001b[A\u001b[A\u001b[A\u001b[A\u001b[A"
     ]
    },
    {
     "name": "stdout",
     "output_type": "stream",
     "text": [
      "L1 between depth_first pic with motion blur and GT: 0.017036845818073822\n",
      "L1 between pc0 xyz and GT pc0 xyz: tensor(0.1140, dtype=torch.float64, grad_fn=<MeanBackward0>)\n",
      "Correspondence set estimation...\n",
      "Extrinsics estimation...\n",
      "Did not converge with required tolerance.\n",
      "loss tensor(0.2160, dtype=torch.float64)\n",
      "Correspondence set estimation...\n",
      "Extrinsics estimation...\n",
      "Did not converge with required tolerance.\n",
      "loss tensor(0.1054, dtype=torch.float64)\n",
      "Correspondence set estimation...\n",
      "Extrinsics estimation...\n",
      "Did not converge with required tolerance.\n",
      "loss tensor(0.1026, dtype=torch.float64)\n",
      "Correspondence set estimation...\n",
      "Extrinsics estimation...\n",
      "Did not converge with required tolerance.\n",
      "loss tensor(0.1050, dtype=torch.float64)\n",
      "Correspondence set estimation...\n",
      "Extrinsics estimation...\n",
      "Did not converge with required tolerance.\n",
      "loss tensor(0.1068, dtype=torch.float64)\n",
      "Correspondence set estimation...\n",
      "Extrinsics estimation...\n",
      "Did not converge with required tolerance.\n",
      "loss tensor(0.1031, dtype=torch.float64)\n",
      "Correspondence set estimation...\n",
      "Extrinsics estimation...\n",
      "Did not converge with required tolerance.\n",
      "loss tensor(0.1034, dtype=torch.float64)\n",
      "Correspondence set estimation...\n",
      "Extrinsics estimation...\n",
      "Did not converge with required tolerance.\n",
      "loss tensor(0.1077, dtype=torch.float64)\n",
      "Correspondence set estimation...\n",
      "Extrinsics estimation...\n",
      "Did not converge with required tolerance.\n",
      "loss tensor(0.1097, dtype=torch.float64)\n",
      "Correspondence set estimation...\n",
      "Extrinsics estimation...\n",
      "Did not converge with required tolerance.\n",
      "loss tensor(0.1080, dtype=torch.float64)\n",
      "loss tensor(0.1080, dtype=torch.float64, grad_fn=<SumBackward0>)\n"
     ]
    },
    {
     "name": "stderr",
     "output_type": "stream",
     "text": [
      "\n",
      "\n",
      "\n",
      "\n",
      "\n",
      "\n",
      "\n",
      "\n",
      "\n",
      "\n",
      "\n",
      "\n",
      "\n",
      "\n",
      "\n",
      "\n",
      "\n",
      " 10%|█         | 3/30 [01:12<10:55, 24.29s/it]\u001b[A\u001b[A\u001b[A\u001b[A\u001b[A\u001b[A\u001b[A\u001b[A\u001b[A\u001b[A\u001b[A\u001b[A\u001b[A\u001b[A\u001b[A\u001b[A\u001b[A"
     ]
    },
    {
     "name": "stdout",
     "output_type": "stream",
     "text": [
      "L1 between depth_first pic with motion blur and GT: 0.01703685354362075\n",
      "L1 between pc0 xyz and GT pc0 xyz: tensor(0.1141, dtype=torch.float64, grad_fn=<MeanBackward0>)\n",
      "Correspondence set estimation...\n",
      "Extrinsics estimation...\n",
      "Did not converge with required tolerance.\n",
      "loss tensor(0.2050, dtype=torch.float64)\n",
      "Correspondence set estimation...\n",
      "Extrinsics estimation...\n",
      "Did not converge with required tolerance.\n",
      "loss tensor(0.0962, dtype=torch.float64)\n",
      "Correspondence set estimation...\n",
      "Extrinsics estimation...\n",
      "Did not converge with required tolerance.\n",
      "loss tensor(0.0896, dtype=torch.float64)\n",
      "Correspondence set estimation...\n",
      "Extrinsics estimation...\n",
      "Did not converge with required tolerance.\n",
      "loss tensor(0.0931, dtype=torch.float64)\n",
      "Correspondence set estimation...\n",
      "Extrinsics estimation...\n",
      "Did not converge with required tolerance.\n",
      "loss tensor(0.0918, dtype=torch.float64)\n",
      "Correspondence set estimation...\n",
      "Extrinsics estimation...\n",
      "Did not converge with required tolerance.\n",
      "loss tensor(0.0904, dtype=torch.float64)\n",
      "Correspondence set estimation...\n",
      "Extrinsics estimation...\n",
      "Did not converge with required tolerance.\n",
      "loss tensor(0.0920, dtype=torch.float64)\n",
      "Correspondence set estimation...\n",
      "Extrinsics estimation...\n",
      "Did not converge with required tolerance.\n",
      "loss tensor(0.0941, dtype=torch.float64)\n",
      "Correspondence set estimation...\n",
      "Extrinsics estimation...\n",
      "Did not converge with required tolerance.\n",
      "loss tensor(0.0986, dtype=torch.float64)\n",
      "Correspondence set estimation...\n",
      "Extrinsics estimation...\n",
      "Did not converge with required tolerance.\n",
      "loss tensor(0.0999, dtype=torch.float64)\n",
      "loss tensor(0.0999, dtype=torch.float64, grad_fn=<SumBackward0>)\n"
     ]
    },
    {
     "name": "stderr",
     "output_type": "stream",
     "text": [
      "\n",
      "\n",
      "\n",
      "\n",
      "\n",
      "\n",
      "\n",
      "\n",
      "\n",
      "\n",
      "\n",
      "\n",
      "\n",
      "\n",
      "\n",
      "\n",
      "\n",
      " 13%|█▎        | 4/30 [01:37<10:33, 24.37s/it]\u001b[A\u001b[A\u001b[A\u001b[A\u001b[A\u001b[A\u001b[A\u001b[A\u001b[A\u001b[A\u001b[A\u001b[A\u001b[A\u001b[A\u001b[A\u001b[A\u001b[A"
     ]
    },
    {
     "name": "stdout",
     "output_type": "stream",
     "text": [
      "L1 between depth_first pic with motion blur and GT: 0.01703686280895045\n",
      "L1 between pc0 xyz and GT pc0 xyz: tensor(0.1140, dtype=torch.float64, grad_fn=<MeanBackward0>)\n",
      "Correspondence set estimation...\n",
      "Extrinsics estimation...\n",
      "Did not converge with required tolerance.\n",
      "loss tensor(0.1984, dtype=torch.float64)\n",
      "Correspondence set estimation...\n",
      "Extrinsics estimation...\n",
      "Did not converge with required tolerance.\n",
      "loss tensor(0.0900, dtype=torch.float64)\n",
      "Correspondence set estimation...\n",
      "Extrinsics estimation...\n",
      "Did not converge with required tolerance.\n",
      "loss tensor(0.0830, dtype=torch.float64)\n",
      "Correspondence set estimation...\n",
      "Extrinsics estimation...\n",
      "Did not converge with required tolerance.\n",
      "loss tensor(0.0847, dtype=torch.float64)\n",
      "Correspondence set estimation...\n",
      "Extrinsics estimation...\n",
      "Did not converge with required tolerance.\n",
      "loss tensor(0.0833, dtype=torch.float64)\n",
      "Correspondence set estimation...\n",
      "Extrinsics estimation...\n",
      "Did not converge with required tolerance.\n",
      "loss tensor(0.0833, dtype=torch.float64)\n",
      "Correspondence set estimation...\n",
      "Extrinsics estimation...\n",
      "Did not converge with required tolerance.\n",
      "loss tensor(0.0849, dtype=torch.float64)\n",
      "Correspondence set estimation...\n",
      "Extrinsics estimation...\n",
      "Did not converge with required tolerance.\n",
      "loss tensor(0.0854, dtype=torch.float64)\n",
      "Correspondence set estimation...\n",
      "Extrinsics estimation...\n",
      "Did not converge with required tolerance.\n",
      "loss tensor(0.0882, dtype=torch.float64)\n",
      "Correspondence set estimation...\n",
      "Extrinsics estimation...\n",
      "Did not converge with required tolerance.\n",
      "loss tensor(0.0909, dtype=torch.float64)\n",
      "loss tensor(0.0909, dtype=torch.float64, grad_fn=<SumBackward0>)\n"
     ]
    },
    {
     "name": "stderr",
     "output_type": "stream",
     "text": [
      "\n",
      "\n",
      "\n",
      "\n",
      "\n",
      "\n",
      "\n",
      "\n",
      "\n",
      "\n",
      "\n",
      "\n",
      "\n",
      "\n",
      "\n",
      "\n",
      "\n",
      " 17%|█▋        | 5/30 [02:05<10:38, 25.53s/it]\u001b[A\u001b[A\u001b[A\u001b[A\u001b[A\u001b[A\u001b[A\u001b[A\u001b[A\u001b[A\u001b[A\u001b[A\u001b[A\u001b[A\u001b[A\u001b[A\u001b[A"
     ]
    },
    {
     "name": "stdout",
     "output_type": "stream",
     "text": [
      "L1 between depth_first pic with motion blur and GT: 0.01703687433030856\n",
      "L1 between pc0 xyz and GT pc0 xyz: tensor(0.1139, dtype=torch.float64, grad_fn=<MeanBackward0>)\n",
      "Correspondence set estimation...\n",
      "Extrinsics estimation...\n",
      "Did not converge with required tolerance.\n",
      "loss tensor(0.1990, dtype=torch.float64)\n",
      "Correspondence set estimation...\n",
      "Extrinsics estimation...\n",
      "Did not converge with required tolerance.\n",
      "loss tensor(0.0953, dtype=torch.float64)\n",
      "Correspondence set estimation...\n",
      "Extrinsics estimation...\n",
      "Did not converge with required tolerance.\n",
      "loss tensor(0.0896, dtype=torch.float64)\n",
      "Correspondence set estimation...\n",
      "Extrinsics estimation...\n",
      "Did not converge with required tolerance.\n",
      "loss tensor(0.0781, dtype=torch.float64)\n",
      "Correspondence set estimation...\n",
      "Extrinsics estimation...\n",
      "Did not converge with required tolerance.\n",
      "loss tensor(0.0752, dtype=torch.float64)\n",
      "Correspondence set estimation...\n",
      "Extrinsics estimation...\n",
      "Did not converge with required tolerance.\n",
      "loss tensor(0.0749, dtype=torch.float64)\n",
      "Correspondence set estimation...\n",
      "Extrinsics estimation...\n",
      "Did not converge with required tolerance.\n",
      "loss tensor(0.0761, dtype=torch.float64)\n",
      "Correspondence set estimation...\n",
      "Extrinsics estimation...\n",
      "Did not converge with required tolerance.\n",
      "loss tensor(0.0801, dtype=torch.float64)\n",
      "Correspondence set estimation...\n",
      "Extrinsics estimation...\n",
      "Did not converge with required tolerance.\n",
      "loss tensor(0.0808, dtype=torch.float64)\n",
      "Correspondence set estimation...\n",
      "Extrinsics estimation...\n",
      "Did not converge with required tolerance.\n",
      "loss tensor(0.0809, dtype=torch.float64)\n",
      "loss tensor(0.0809, dtype=torch.float64, grad_fn=<SumBackward0>)\n"
     ]
    },
    {
     "name": "stderr",
     "output_type": "stream",
     "text": [
      "\n",
      "\n",
      "\n",
      "\n",
      "\n",
      "\n",
      "\n",
      "\n",
      "\n",
      "\n",
      "\n",
      "\n",
      "\n",
      "\n",
      "\n",
      "\n",
      "\n",
      " 20%|██        | 6/30 [02:33<10:34, 26.42s/it]\u001b[A\u001b[A\u001b[A\u001b[A\u001b[A\u001b[A\u001b[A\u001b[A\u001b[A\u001b[A\u001b[A\u001b[A\u001b[A\u001b[A\u001b[A\u001b[A\u001b[A"
     ]
    },
    {
     "name": "stdout",
     "output_type": "stream",
     "text": [
      "L1 between depth_first pic with motion blur and GT: 0.017036892192196743\n",
      "L1 between pc0 xyz and GT pc0 xyz: tensor(0.1142, dtype=torch.float64, grad_fn=<MeanBackward0>)\n",
      "Correspondence set estimation...\n",
      "Extrinsics estimation...\n",
      "Did not converge with required tolerance.\n",
      "loss tensor(0.1989, dtype=torch.float64)\n",
      "Correspondence set estimation...\n",
      "Extrinsics estimation...\n",
      "Did not converge with required tolerance.\n",
      "loss tensor(0.0895, dtype=torch.float64)\n",
      "Correspondence set estimation...\n",
      "Extrinsics estimation...\n",
      "Did not converge with required tolerance.\n",
      "loss tensor(0.0828, dtype=torch.float64)\n",
      "Correspondence set estimation...\n",
      "Extrinsics estimation...\n",
      "Did not converge with required tolerance.\n",
      "loss tensor(0.0721, dtype=torch.float64)\n",
      "Correspondence set estimation...\n",
      "Extrinsics estimation...\n",
      "Did not converge with required tolerance.\n",
      "loss tensor(0.0679, dtype=torch.float64)\n",
      "Correspondence set estimation...\n",
      "Extrinsics estimation...\n",
      "Did not converge with required tolerance.\n",
      "loss tensor(0.0650, dtype=torch.float64)\n",
      "Correspondence set estimation...\n",
      "Extrinsics estimation...\n",
      "Did not converge with required tolerance.\n",
      "loss tensor(0.0677, dtype=torch.float64)\n",
      "Correspondence set estimation...\n",
      "Extrinsics estimation...\n",
      "Did not converge with required tolerance.\n",
      "loss tensor(0.0726, dtype=torch.float64)\n",
      "Correspondence set estimation...\n",
      "Extrinsics estimation...\n",
      "Did not converge with required tolerance.\n",
      "loss tensor(0.0743, dtype=torch.float64)\n",
      "Correspondence set estimation...\n",
      "Extrinsics estimation...\n",
      "Did not converge with required tolerance.\n",
      "loss tensor(0.0746, dtype=torch.float64)\n",
      "loss tensor(0.0746, dtype=torch.float64, grad_fn=<SumBackward0>)\n"
     ]
    },
    {
     "name": "stderr",
     "output_type": "stream",
     "text": [
      "\n",
      "\n",
      "\n",
      "\n",
      "\n",
      "\n",
      "\n",
      "\n",
      "\n",
      "\n",
      "\n",
      "\n",
      "\n",
      "\n",
      "\n",
      "\n",
      "\n",
      " 23%|██▎       | 7/30 [02:57<09:48, 25.58s/it]\u001b[A\u001b[A\u001b[A\u001b[A\u001b[A\u001b[A\u001b[A\u001b[A\u001b[A\u001b[A\u001b[A\u001b[A\u001b[A\u001b[A\u001b[A\u001b[A\u001b[A"
     ]
    },
    {
     "name": "stdout",
     "output_type": "stream",
     "text": [
      "L1 between depth_first pic with motion blur and GT: 0.01703690972400014\n",
      "L1 between pc0 xyz and GT pc0 xyz: tensor(0.1143, dtype=torch.float64, grad_fn=<MeanBackward0>)\n",
      "Correspondence set estimation...\n",
      "Extrinsics estimation...\n",
      "Did not converge with required tolerance.\n",
      "loss tensor(0.1898, dtype=torch.float64)\n",
      "Correspondence set estimation...\n",
      "Extrinsics estimation...\n",
      "Did not converge with required tolerance.\n",
      "loss tensor(0.0848, dtype=torch.float64)\n",
      "Correspondence set estimation...\n",
      "Extrinsics estimation...\n",
      "Did not converge with required tolerance.\n",
      "loss tensor(0.0643, dtype=torch.float64)\n",
      "Correspondence set estimation...\n",
      "Extrinsics estimation...\n",
      "Did not converge with required tolerance.\n",
      "loss tensor(0.0612, dtype=torch.float64)\n",
      "Correspondence set estimation...\n",
      "Extrinsics estimation...\n",
      "Did not converge with required tolerance.\n",
      "loss tensor(0.0591, dtype=torch.float64)\n",
      "Correspondence set estimation...\n",
      "Extrinsics estimation...\n",
      "Did not converge with required tolerance.\n",
      "loss tensor(0.0619, dtype=torch.float64)\n",
      "Correspondence set estimation...\n",
      "Extrinsics estimation...\n",
      "Did not converge with required tolerance.\n",
      "loss tensor(0.0620, dtype=torch.float64)\n",
      "Correspondence set estimation...\n",
      "Extrinsics estimation...\n",
      "Did not converge with required tolerance.\n",
      "loss tensor(0.0652, dtype=torch.float64)\n",
      "Correspondence set estimation...\n",
      "Extrinsics estimation...\n",
      "Did not converge with required tolerance.\n",
      "loss tensor(0.0644, dtype=torch.float64)\n",
      "Correspondence set estimation...\n",
      "Extrinsics estimation...\n",
      "Did not converge with required tolerance.\n",
      "loss tensor(0.0661, dtype=torch.float64)\n",
      "loss tensor(0.0661, dtype=torch.float64, grad_fn=<SumBackward0>)\n"
     ]
    },
    {
     "name": "stderr",
     "output_type": "stream",
     "text": [
      "\n",
      "\n",
      "\n",
      "\n",
      "\n",
      "\n",
      "\n",
      "\n",
      "\n",
      "\n",
      "\n",
      "\n",
      "\n",
      "\n",
      "\n",
      "\n",
      "\n",
      " 27%|██▋       | 8/30 [03:22<09:16, 25.29s/it]\u001b[A\u001b[A\u001b[A\u001b[A\u001b[A\u001b[A\u001b[A\u001b[A\u001b[A\u001b[A\u001b[A\u001b[A\u001b[A\u001b[A\u001b[A\u001b[A\u001b[A"
     ]
    },
    {
     "name": "stdout",
     "output_type": "stream",
     "text": [
      "L1 between depth_first pic with motion blur and GT: 0.01703692970620866\n",
      "L1 between pc0 xyz and GT pc0 xyz: tensor(0.1145, dtype=torch.float64, grad_fn=<MeanBackward0>)\n",
      "Correspondence set estimation...\n",
      "Extrinsics estimation...\n",
      "Did not converge with required tolerance.\n",
      "loss tensor(0.1826, dtype=torch.float64)\n",
      "Correspondence set estimation...\n",
      "Extrinsics estimation...\n",
      "Did not converge with required tolerance.\n",
      "loss tensor(0.0765, dtype=torch.float64)\n",
      "Correspondence set estimation...\n",
      "Extrinsics estimation...\n",
      "Did not converge with required tolerance.\n",
      "loss tensor(0.0590, dtype=torch.float64)\n",
      "Correspondence set estimation...\n",
      "Extrinsics estimation...\n",
      "Did not converge with required tolerance.\n",
      "loss tensor(0.0581, dtype=torch.float64)\n",
      "Correspondence set estimation...\n",
      "Extrinsics estimation...\n",
      "Did not converge with required tolerance.\n",
      "loss tensor(0.0535, dtype=torch.float64)\n",
      "Correspondence set estimation...\n",
      "Extrinsics estimation...\n",
      "Did not converge with required tolerance.\n",
      "loss tensor(0.0549, dtype=torch.float64)\n",
      "Correspondence set estimation...\n",
      "Extrinsics estimation...\n",
      "Did not converge with required tolerance.\n",
      "loss tensor(0.0541, dtype=torch.float64)\n",
      "Correspondence set estimation...\n",
      "Extrinsics estimation...\n",
      "Did not converge with required tolerance.\n",
      "loss tensor(0.0504, dtype=torch.float64)\n",
      "Correspondence set estimation...\n",
      "Extrinsics estimation...\n",
      "Did not converge with required tolerance.\n",
      "loss tensor(0.0508, dtype=torch.float64)\n",
      "Correspondence set estimation...\n",
      "Extrinsics estimation...\n",
      "Did not converge with required tolerance.\n",
      "loss tensor(0.0483, dtype=torch.float64)\n",
      "loss tensor(0.0483, dtype=torch.float64, grad_fn=<SumBackward0>)\n"
     ]
    },
    {
     "name": "stderr",
     "output_type": "stream",
     "text": [
      "\n",
      "\n",
      "\n",
      "\n",
      "\n",
      "\n",
      "\n",
      "\n",
      "\n",
      "\n",
      "\n",
      "\n",
      "\n",
      "\n",
      "\n",
      "\n",
      "\n",
      " 30%|███       | 9/30 [03:45<08:39, 24.75s/it]\u001b[A\u001b[A\u001b[A\u001b[A\u001b[A\u001b[A\u001b[A\u001b[A\u001b[A\u001b[A\u001b[A\u001b[A\u001b[A\u001b[A\u001b[A\u001b[A\u001b[A"
     ]
    },
    {
     "name": "stdout",
     "output_type": "stream",
     "text": [
      "L1 between depth_first pic with motion blur and GT: 0.017036950093858364\n",
      "L1 between pc0 xyz and GT pc0 xyz: tensor(0.1155, dtype=torch.float64, grad_fn=<MeanBackward0>)\n",
      "Correspondence set estimation...\n",
      "Extrinsics estimation...\n",
      "Did not converge with required tolerance.\n",
      "loss tensor(0.1869, dtype=torch.float64)\n",
      "Correspondence set estimation...\n",
      "Extrinsics estimation...\n",
      "Did not converge with required tolerance.\n",
      "loss tensor(0.0825, dtype=torch.float64)\n",
      "Correspondence set estimation...\n",
      "Extrinsics estimation...\n",
      "Did not converge with required tolerance.\n",
      "loss tensor(0.0559, dtype=torch.float64)\n",
      "Correspondence set estimation...\n",
      "Extrinsics estimation...\n",
      "Did not converge with required tolerance.\n",
      "loss tensor(0.0537, dtype=torch.float64)\n",
      "Correspondence set estimation...\n",
      "Extrinsics estimation...\n",
      "Did not converge with required tolerance.\n",
      "loss tensor(0.0511, dtype=torch.float64)\n",
      "Correspondence set estimation...\n",
      "Extrinsics estimation...\n",
      "Did not converge with required tolerance.\n",
      "loss tensor(0.0500, dtype=torch.float64)\n",
      "Correspondence set estimation...\n",
      "Extrinsics estimation...\n",
      "Did not converge with required tolerance.\n",
      "loss tensor(0.0454, dtype=torch.float64)\n",
      "Correspondence set estimation...\n",
      "Extrinsics estimation...\n",
      "Did not converge with required tolerance.\n",
      "loss tensor(0.0417, dtype=torch.float64)\n",
      "Correspondence set estimation...\n",
      "Extrinsics estimation...\n",
      "Did not converge with required tolerance.\n",
      "loss tensor(0.0414, dtype=torch.float64)\n",
      "Correspondence set estimation...\n",
      "Extrinsics estimation...\n",
      "Did not converge with required tolerance.\n",
      "loss tensor(0.0415, dtype=torch.float64)\n",
      "loss tensor(0.0415, dtype=torch.float64, grad_fn=<SumBackward0>)\n"
     ]
    },
    {
     "name": "stderr",
     "output_type": "stream",
     "text": [
      "\n",
      "\n",
      "\n",
      "\n",
      "\n",
      "\n",
      "\n",
      "\n",
      "\n",
      "\n",
      "\n",
      "\n",
      "\n",
      "\n",
      "\n",
      "\n",
      "\n",
      " 33%|███▎      | 10/30 [04:08<08:06, 24.31s/it]\u001b[A\u001b[A\u001b[A\u001b[A\u001b[A\u001b[A\u001b[A\u001b[A\u001b[A\u001b[A\u001b[A\u001b[A\u001b[A\u001b[A\u001b[A\u001b[A\u001b[A"
     ]
    },
    {
     "name": "stdout",
     "output_type": "stream",
     "text": [
      "L1 between depth_first pic with motion blur and GT: 0.017036970530119926\n",
      "L1 between pc0 xyz and GT pc0 xyz: tensor(0.1154, dtype=torch.float64, grad_fn=<MeanBackward0>)\n",
      "Correspondence set estimation...\n",
      "Extrinsics estimation...\n",
      "Did not converge with required tolerance.\n",
      "loss tensor(0.1905, dtype=torch.float64)\n",
      "Correspondence set estimation...\n",
      "Extrinsics estimation...\n",
      "Did not converge with required tolerance.\n",
      "loss tensor(0.0748, dtype=torch.float64)\n",
      "Correspondence set estimation...\n",
      "Extrinsics estimation...\n",
      "Did not converge with required tolerance.\n",
      "loss tensor(0.0505, dtype=torch.float64)\n",
      "Correspondence set estimation...\n",
      "Extrinsics estimation...\n",
      "Did not converge with required tolerance.\n",
      "loss tensor(0.0483, dtype=torch.float64)\n",
      "Correspondence set estimation...\n",
      "Extrinsics estimation...\n",
      "Did not converge with required tolerance.\n",
      "loss tensor(0.0443, dtype=torch.float64)\n",
      "Correspondence set estimation...\n",
      "Extrinsics estimation...\n",
      "Did not converge with required tolerance.\n",
      "loss tensor(0.0386, dtype=torch.float64)\n",
      "Correspondence set estimation...\n",
      "Extrinsics estimation...\n",
      "Did not converge with required tolerance.\n",
      "loss tensor(0.0375, dtype=torch.float64)\n",
      "Correspondence set estimation...\n",
      "Extrinsics estimation...\n",
      "Did not converge with required tolerance.\n",
      "loss tensor(0.0342, dtype=torch.float64)\n",
      "Correspondence set estimation...\n",
      "Extrinsics estimation...\n",
      "Did not converge with required tolerance.\n",
      "loss tensor(0.0306, dtype=torch.float64)\n",
      "Correspondence set estimation...\n",
      "Extrinsics estimation...\n",
      "Did not converge with required tolerance.\n",
      "loss tensor(0.0301, dtype=torch.float64)\n",
      "loss tensor(0.0301, dtype=torch.float64, grad_fn=<SumBackward0>)\n"
     ]
    },
    {
     "name": "stderr",
     "output_type": "stream",
     "text": [
      "\n",
      "\n",
      "\n",
      "\n",
      "\n",
      "\n",
      "\n",
      "\n",
      "\n",
      "\n",
      "\n",
      "\n",
      "\n",
      "\n",
      "\n",
      "\n",
      "\n",
      " 37%|███▋      | 11/30 [04:35<07:52, 24.87s/it]\u001b[A\u001b[A\u001b[A\u001b[A\u001b[A\u001b[A\u001b[A\u001b[A\u001b[A\u001b[A\u001b[A\u001b[A\u001b[A\u001b[A\u001b[A\u001b[A\u001b[A"
     ]
    },
    {
     "name": "stdout",
     "output_type": "stream",
     "text": [
      "L1 between depth_first pic with motion blur and GT: 0.017036990787733283\n",
      "L1 between pc0 xyz and GT pc0 xyz: tensor(0.1159, dtype=torch.float64, grad_fn=<MeanBackward0>)\n",
      "Correspondence set estimation...\n",
      "Extrinsics estimation...\n",
      "Did not converge with required tolerance.\n",
      "loss tensor(0.1844, dtype=torch.float64)\n",
      "Correspondence set estimation...\n",
      "Extrinsics estimation...\n",
      "Did not converge with required tolerance.\n",
      "loss tensor(0.0673, dtype=torch.float64)\n",
      "Correspondence set estimation...\n",
      "Extrinsics estimation...\n",
      "Did not converge with required tolerance.\n",
      "loss tensor(0.0449, dtype=torch.float64)\n",
      "Correspondence set estimation...\n",
      "Extrinsics estimation...\n",
      "Did not converge with required tolerance.\n",
      "loss tensor(0.0442, dtype=torch.float64)\n",
      "Correspondence set estimation...\n",
      "Extrinsics estimation...\n",
      "Did not converge with required tolerance.\n",
      "loss tensor(0.0378, dtype=torch.float64)\n",
      "Correspondence set estimation...\n",
      "Extrinsics estimation...\n",
      "Did not converge with required tolerance.\n",
      "loss tensor(0.0331, dtype=torch.float64)\n",
      "Correspondence set estimation...\n",
      "Extrinsics estimation...\n",
      "Did not converge with required tolerance.\n",
      "loss tensor(0.0307, dtype=torch.float64)\n",
      "Correspondence set estimation...\n",
      "Extrinsics estimation...\n",
      "Did not converge with required tolerance.\n",
      "loss tensor(0.0263, dtype=torch.float64)\n",
      "Correspondence set estimation...\n",
      "Extrinsics estimation...\n",
      "Did not converge with required tolerance.\n",
      "loss tensor(0.0266, dtype=torch.float64)\n",
      "Correspondence set estimation...\n",
      "Extrinsics estimation...\n",
      "Did not converge with required tolerance.\n",
      "loss tensor(0.0264, dtype=torch.float64)\n",
      "loss tensor(0.0264, dtype=torch.float64, grad_fn=<SumBackward0>)\n"
     ]
    },
    {
     "name": "stderr",
     "output_type": "stream",
     "text": [
      "\n",
      "\n",
      "\n",
      "\n",
      "\n",
      "\n",
      "\n",
      "\n",
      "\n",
      "\n",
      "\n",
      "\n",
      "\n",
      "\n",
      "\n",
      "\n",
      "\n",
      " 40%|████      | 12/30 [05:02<07:40, 25.56s/it]\u001b[A\u001b[A\u001b[A\u001b[A\u001b[A\u001b[A\u001b[A\u001b[A\u001b[A\u001b[A\u001b[A\u001b[A\u001b[A\u001b[A\u001b[A\u001b[A\u001b[A"
     ]
    },
    {
     "name": "stdout",
     "output_type": "stream",
     "text": [
      "L1 between depth_first pic with motion blur and GT: 0.01703701278132308\n",
      "L1 between pc0 xyz and GT pc0 xyz: tensor(0.1159, dtype=torch.float64, grad_fn=<MeanBackward0>)\n",
      "Correspondence set estimation...\n",
      "Extrinsics estimation...\n",
      "Did not converge with required tolerance.\n",
      "loss tensor(0.1757, dtype=torch.float64)\n",
      "Correspondence set estimation...\n",
      "Extrinsics estimation...\n",
      "Did not converge with required tolerance.\n",
      "loss tensor(0.0613, dtype=torch.float64)\n",
      "Correspondence set estimation...\n",
      "Extrinsics estimation...\n",
      "Did not converge with required tolerance.\n",
      "loss tensor(0.0431, dtype=torch.float64)\n",
      "Correspondence set estimation...\n",
      "Extrinsics estimation...\n",
      "Did not converge with required tolerance.\n",
      "loss tensor(0.0397, dtype=torch.float64)\n",
      "Correspondence set estimation...\n",
      "Extrinsics estimation...\n",
      "Did not converge with required tolerance.\n",
      "loss tensor(0.0339, dtype=torch.float64)\n",
      "Correspondence set estimation...\n",
      "Extrinsics estimation...\n",
      "Did not converge with required tolerance.\n",
      "loss tensor(0.0278, dtype=torch.float64)\n",
      "Correspondence set estimation...\n",
      "Extrinsics estimation...\n",
      "Did not converge with required tolerance.\n",
      "loss tensor(0.0223, dtype=torch.float64)\n",
      "Correspondence set estimation...\n",
      "Extrinsics estimation...\n",
      "Did not converge with required tolerance.\n",
      "loss tensor(0.0229, dtype=torch.float64)\n",
      "Correspondence set estimation...\n",
      "Extrinsics estimation...\n",
      "Did not converge with required tolerance.\n",
      "loss tensor(0.0248, dtype=torch.float64)\n",
      "Correspondence set estimation...\n",
      "Extrinsics estimation...\n",
      "Did not converge with required tolerance.\n",
      "loss tensor(0.0252, dtype=torch.float64)\n",
      "loss tensor(0.0252, dtype=torch.float64, grad_fn=<SumBackward0>)\n"
     ]
    },
    {
     "name": "stderr",
     "output_type": "stream",
     "text": [
      "\n",
      "\n",
      "\n",
      "\n",
      "\n",
      "\n",
      "\n",
      "\n",
      "\n",
      "\n",
      "\n",
      "\n",
      "\n",
      "\n",
      "\n",
      "\n",
      "\n",
      " 43%|████▎     | 13/30 [05:28<07:19, 25.88s/it]\u001b[A\u001b[A\u001b[A\u001b[A\u001b[A\u001b[A\u001b[A\u001b[A\u001b[A\u001b[A\u001b[A\u001b[A\u001b[A\u001b[A\u001b[A\u001b[A\u001b[A"
     ]
    },
    {
     "name": "stdout",
     "output_type": "stream",
     "text": [
      "L1 between depth_first pic with motion blur and GT: 0.017037035750067837\n",
      "L1 between pc0 xyz and GT pc0 xyz: tensor(0.1157, dtype=torch.float64, grad_fn=<MeanBackward0>)\n",
      "Correspondence set estimation...\n",
      "Extrinsics estimation...\n",
      "Did not converge with required tolerance.\n",
      "loss tensor(0.1670, dtype=torch.float64)\n",
      "Correspondence set estimation...\n",
      "Extrinsics estimation...\n",
      "Did not converge with required tolerance.\n",
      "loss tensor(0.0591, dtype=torch.float64)\n",
      "Correspondence set estimation...\n",
      "Extrinsics estimation...\n",
      "Did not converge with required tolerance.\n",
      "loss tensor(0.0378, dtype=torch.float64)\n",
      "Correspondence set estimation...\n",
      "Extrinsics estimation...\n",
      "Did not converge with required tolerance.\n",
      "loss tensor(0.0330, dtype=torch.float64)\n",
      "Correspondence set estimation...\n",
      "Extrinsics estimation...\n",
      "Did not converge with required tolerance.\n",
      "loss tensor(0.0257, dtype=torch.float64)\n",
      "Correspondence set estimation...\n",
      "Extrinsics estimation...\n",
      "Did not converge with required tolerance.\n",
      "loss tensor(0.0201, dtype=torch.float64)\n",
      "Correspondence set estimation...\n",
      "Extrinsics estimation...\n",
      "Did not converge with required tolerance.\n",
      "loss tensor(0.0190, dtype=torch.float64)\n",
      "Correspondence set estimation...\n",
      "Extrinsics estimation...\n",
      "Did not converge with required tolerance.\n",
      "loss tensor(0.0204, dtype=torch.float64)\n",
      "Correspondence set estimation...\n",
      "Extrinsics estimation...\n",
      "Did not converge with required tolerance.\n",
      "loss tensor(0.0224, dtype=torch.float64)\n",
      "Correspondence set estimation...\n",
      "Extrinsics estimation...\n",
      "Did not converge with required tolerance.\n",
      "loss tensor(0.0222, dtype=torch.float64)\n",
      "loss tensor(0.0222, dtype=torch.float64, grad_fn=<SumBackward0>)\n"
     ]
    },
    {
     "name": "stderr",
     "output_type": "stream",
     "text": [
      "\n",
      "\n",
      "\n",
      "\n",
      "\n",
      "\n",
      "\n",
      "\n",
      "\n",
      "\n",
      "\n",
      "\n",
      "\n",
      "\n",
      "\n",
      "\n",
      "\n",
      " 47%|████▋     | 14/30 [05:58<07:11, 26.98s/it]\u001b[A\u001b[A\u001b[A\u001b[A\u001b[A\u001b[A\u001b[A\u001b[A\u001b[A\u001b[A\u001b[A\u001b[A\u001b[A\u001b[A\u001b[A\u001b[A\u001b[A"
     ]
    },
    {
     "name": "stdout",
     "output_type": "stream",
     "text": [
      "L1 between depth_first pic with motion blur and GT: 0.017037061678737527\n",
      "L1 between pc0 xyz and GT pc0 xyz: tensor(0.1160, dtype=torch.float64, grad_fn=<MeanBackward0>)\n",
      "Correspondence set estimation...\n",
      "Extrinsics estimation...\n",
      "Did not converge with required tolerance.\n",
      "loss tensor(0.1617, dtype=torch.float64)\n",
      "Correspondence set estimation...\n",
      "Extrinsics estimation...\n",
      "Did not converge with required tolerance.\n",
      "loss tensor(0.0579, dtype=torch.float64)\n",
      "Correspondence set estimation...\n",
      "Extrinsics estimation...\n",
      "Did not converge with required tolerance.\n",
      "loss tensor(0.0330, dtype=torch.float64)\n",
      "Correspondence set estimation...\n",
      "Extrinsics estimation...\n",
      "Did not converge with required tolerance.\n",
      "loss tensor(0.0262, dtype=torch.float64)\n",
      "Correspondence set estimation...\n",
      "Extrinsics estimation...\n",
      "Did not converge with required tolerance.\n",
      "loss tensor(0.0193, dtype=torch.float64)\n",
      "Correspondence set estimation...\n",
      "Extrinsics estimation...\n",
      "Did not converge with required tolerance.\n",
      "loss tensor(0.0178, dtype=torch.float64)\n",
      "Correspondence set estimation...\n",
      "Extrinsics estimation...\n",
      "Did not converge with required tolerance.\n",
      "loss tensor(0.0182, dtype=torch.float64)\n",
      "Correspondence set estimation...\n",
      "Extrinsics estimation...\n",
      "Did not converge with required tolerance.\n",
      "loss tensor(0.0179, dtype=torch.float64)\n",
      "Correspondence set estimation...\n",
      "Extrinsics estimation...\n",
      "Did not converge with required tolerance.\n",
      "loss tensor(0.0189, dtype=torch.float64)\n",
      "Correspondence set estimation...\n",
      "Extrinsics estimation...\n",
      "Did not converge with required tolerance.\n",
      "loss tensor(0.0180, dtype=torch.float64)\n",
      "loss tensor(0.0180, dtype=torch.float64, grad_fn=<SumBackward0>)\n"
     ]
    },
    {
     "name": "stderr",
     "output_type": "stream",
     "text": [
      "\n",
      "\n",
      "\n",
      "\n",
      "\n",
      "\n",
      "\n",
      "\n",
      "\n",
      "\n",
      "\n",
      "\n",
      "\n",
      "\n",
      "\n",
      "\n",
      "\n",
      " 50%|█████     | 15/30 [06:26<06:48, 27.26s/it]\u001b[A\u001b[A\u001b[A\u001b[A\u001b[A\u001b[A\u001b[A\u001b[A\u001b[A\u001b[A\u001b[A\u001b[A\u001b[A\u001b[A\u001b[A\u001b[A\u001b[A"
     ]
    },
    {
     "name": "stdout",
     "output_type": "stream",
     "text": [
      "L1 between depth_first pic with motion blur and GT: 0.017037090021741124\n",
      "L1 between pc0 xyz and GT pc0 xyz: tensor(0.1163, dtype=torch.float64, grad_fn=<MeanBackward0>)\n",
      "Correspondence set estimation...\n",
      "Extrinsics estimation...\n",
      "Did not converge with required tolerance.\n",
      "loss tensor(0.1665, dtype=torch.float64)\n",
      "Correspondence set estimation...\n",
      "Extrinsics estimation...\n",
      "Did not converge with required tolerance.\n",
      "loss tensor(0.0552, dtype=torch.float64)\n",
      "Correspondence set estimation...\n",
      "Extrinsics estimation...\n",
      "Did not converge with required tolerance.\n",
      "loss tensor(0.0302, dtype=torch.float64)\n",
      "Correspondence set estimation...\n",
      "Extrinsics estimation...\n",
      "Did not converge with required tolerance.\n",
      "loss tensor(0.0242, dtype=torch.float64)\n",
      "Correspondence set estimation...\n",
      "Extrinsics estimation...\n",
      "Did not converge with required tolerance.\n",
      "loss tensor(0.0171, dtype=torch.float64)\n",
      "Correspondence set estimation...\n",
      "Extrinsics estimation...\n",
      "Did not converge with required tolerance.\n",
      "loss tensor(0.0164, dtype=torch.float64)\n",
      "Correspondence set estimation...\n",
      "Extrinsics estimation...\n",
      "Did not converge with required tolerance.\n",
      "loss tensor(0.0179, dtype=torch.float64)\n",
      "Correspondence set estimation...\n",
      "Extrinsics estimation...\n",
      "Did not converge with required tolerance.\n",
      "loss tensor(0.0184, dtype=torch.float64)\n",
      "Correspondence set estimation...\n",
      "Extrinsics estimation...\n",
      "Did not converge with required tolerance.\n",
      "loss tensor(0.0181, dtype=torch.float64)\n",
      "Correspondence set estimation...\n",
      "Extrinsics estimation...\n",
      "Did not converge with required tolerance.\n",
      "loss tensor(0.0180, dtype=torch.float64)\n",
      "loss tensor(0.0180, dtype=torch.float64, grad_fn=<SumBackward0>)\n"
     ]
    },
    {
     "name": "stderr",
     "output_type": "stream",
     "text": [
      "\n",
      "\n",
      "\n",
      "\n",
      "\n",
      "\n",
      "\n",
      "\n",
      "\n",
      "\n",
      "\n",
      "\n",
      "\n",
      "\n",
      "\n",
      "\n",
      "\n",
      " 53%|█████▎    | 16/30 [06:52<06:18, 27.03s/it]\u001b[A\u001b[A\u001b[A\u001b[A\u001b[A\u001b[A\u001b[A\u001b[A\u001b[A\u001b[A\u001b[A\u001b[A\u001b[A\u001b[A\u001b[A\u001b[A\u001b[A"
     ]
    },
    {
     "name": "stdout",
     "output_type": "stream",
     "text": [
      "L1 between depth_first pic with motion blur and GT: 0.017037119431591016\n",
      "L1 between pc0 xyz and GT pc0 xyz: tensor(0.1161, dtype=torch.float64, grad_fn=<MeanBackward0>)\n",
      "Correspondence set estimation...\n",
      "Extrinsics estimation...\n",
      "Did not converge with required tolerance.\n",
      "loss tensor(0.1685, dtype=torch.float64)\n",
      "Correspondence set estimation...\n",
      "Extrinsics estimation...\n",
      "Did not converge with required tolerance.\n",
      "loss tensor(0.0553, dtype=torch.float64)\n",
      "Correspondence set estimation...\n",
      "Extrinsics estimation...\n",
      "Did not converge with required tolerance.\n",
      "loss tensor(0.0299, dtype=torch.float64)\n",
      "Correspondence set estimation...\n",
      "Extrinsics estimation...\n",
      "Did not converge with required tolerance.\n",
      "loss tensor(0.0206, dtype=torch.float64)\n",
      "Correspondence set estimation...\n",
      "Extrinsics estimation...\n",
      "Did not converge with required tolerance.\n",
      "loss tensor(0.0152, dtype=torch.float64)\n",
      "Correspondence set estimation...\n",
      "Extrinsics estimation...\n",
      "Did not converge with required tolerance.\n",
      "loss tensor(0.0162, dtype=torch.float64)\n",
      "Correspondence set estimation...\n",
      "Extrinsics estimation...\n",
      "Did not converge with required tolerance.\n",
      "loss tensor(0.0162, dtype=torch.float64)\n",
      "Correspondence set estimation...\n",
      "Extrinsics estimation...\n",
      "Did not converge with required tolerance.\n",
      "loss tensor(0.0166, dtype=torch.float64)\n",
      "Correspondence set estimation...\n",
      "Extrinsics estimation...\n",
      "Did not converge with required tolerance.\n",
      "loss tensor(0.0175, dtype=torch.float64)\n",
      "Correspondence set estimation...\n",
      "Extrinsics estimation...\n",
      "Did not converge with required tolerance.\n",
      "loss tensor(0.0159, dtype=torch.float64)\n",
      "loss tensor(0.0159, dtype=torch.float64, grad_fn=<SumBackward0>)\n"
     ]
    },
    {
     "name": "stderr",
     "output_type": "stream",
     "text": [
      "\n",
      "\n",
      "\n",
      "\n",
      "\n",
      "\n",
      "\n",
      "\n",
      "\n",
      "\n",
      "\n",
      "\n",
      "\n",
      "\n",
      "\n",
      "\n",
      "\n",
      " 57%|█████▋    | 17/30 [07:20<05:54, 27.24s/it]\u001b[A\u001b[A\u001b[A\u001b[A\u001b[A\u001b[A\u001b[A\u001b[A\u001b[A\u001b[A\u001b[A\u001b[A\u001b[A\u001b[A\u001b[A\u001b[A\u001b[A"
     ]
    },
    {
     "name": "stdout",
     "output_type": "stream",
     "text": [
      "L1 between depth_first pic with motion blur and GT: 0.017037147975210224\n",
      "L1 between pc0 xyz and GT pc0 xyz: tensor(0.1169, dtype=torch.float64, grad_fn=<MeanBackward0>)\n",
      "Correspondence set estimation...\n",
      "Extrinsics estimation...\n",
      "Did not converge with required tolerance.\n",
      "loss tensor(0.1639, dtype=torch.float64)\n",
      "Correspondence set estimation...\n",
      "Extrinsics estimation...\n",
      "Did not converge with required tolerance.\n",
      "loss tensor(0.0509, dtype=torch.float64)\n",
      "Correspondence set estimation...\n",
      "Extrinsics estimation...\n",
      "Did not converge with required tolerance.\n",
      "loss tensor(0.0255, dtype=torch.float64)\n",
      "Correspondence set estimation...\n",
      "Extrinsics estimation...\n",
      "Did not converge with required tolerance.\n",
      "loss tensor(0.0162, dtype=torch.float64)\n",
      "Correspondence set estimation...\n",
      "Extrinsics estimation...\n",
      "Did not converge with required tolerance.\n",
      "loss tensor(0.0139, dtype=torch.float64)\n",
      "Correspondence set estimation...\n",
      "Extrinsics estimation...\n",
      "Did not converge with required tolerance.\n",
      "loss tensor(0.0156, dtype=torch.float64)\n",
      "Correspondence set estimation...\n",
      "Extrinsics estimation...\n",
      "Did not converge with required tolerance.\n",
      "loss tensor(0.0182, dtype=torch.float64)\n",
      "Correspondence set estimation...\n",
      "Extrinsics estimation...\n",
      "Did not converge with required tolerance.\n",
      "loss tensor(0.0193, dtype=torch.float64)\n",
      "Correspondence set estimation...\n",
      "Extrinsics estimation...\n",
      "Did not converge with required tolerance.\n",
      "loss tensor(0.0172, dtype=torch.float64)\n",
      "Correspondence set estimation...\n",
      "Extrinsics estimation...\n",
      "Did not converge with required tolerance.\n",
      "loss tensor(0.0170, dtype=torch.float64)\n",
      "loss tensor(0.0170, dtype=torch.float64, grad_fn=<SumBackward0>)\n"
     ]
    },
    {
     "name": "stderr",
     "output_type": "stream",
     "text": [
      "\n",
      "\n",
      "\n",
      "\n",
      "\n",
      "\n",
      "\n",
      "\n",
      "\n",
      "\n",
      "\n",
      "\n",
      "\n",
      "\n",
      "\n",
      "\n",
      "\n",
      " 60%|██████    | 18/30 [07:46<05:21, 26.81s/it]\u001b[A\u001b[A\u001b[A\u001b[A\u001b[A\u001b[A\u001b[A\u001b[A\u001b[A\u001b[A\u001b[A\u001b[A\u001b[A\u001b[A\u001b[A\u001b[A\u001b[A"
     ]
    },
    {
     "name": "stdout",
     "output_type": "stream",
     "text": [
      "L1 between depth_first pic with motion blur and GT: 0.017037175398778324\n",
      "L1 between pc0 xyz and GT pc0 xyz: tensor(0.1168, dtype=torch.float64, grad_fn=<MeanBackward0>)\n",
      "Correspondence set estimation...\n",
      "Extrinsics estimation...\n",
      "Did not converge with required tolerance.\n",
      "loss tensor(0.1610, dtype=torch.float64)\n",
      "Correspondence set estimation...\n",
      "Extrinsics estimation...\n",
      "Did not converge with required tolerance.\n",
      "loss tensor(0.0474, dtype=torch.float64)\n",
      "Correspondence set estimation...\n",
      "Extrinsics estimation...\n",
      "Did not converge with required tolerance.\n",
      "loss tensor(0.0193, dtype=torch.float64)\n",
      "Correspondence set estimation...\n",
      "Extrinsics estimation...\n",
      "Did not converge with required tolerance.\n",
      "loss tensor(0.0129, dtype=torch.float64)\n",
      "Correspondence set estimation...\n",
      "Extrinsics estimation...\n",
      "Did not converge with required tolerance.\n",
      "loss tensor(0.0111, dtype=torch.float64)\n",
      "Correspondence set estimation...\n",
      "Extrinsics estimation...\n",
      "Did not converge with required tolerance.\n",
      "loss tensor(0.0130, dtype=torch.float64)\n",
      "Correspondence set estimation...\n",
      "Extrinsics estimation...\n",
      "Did not converge with required tolerance.\n",
      "loss tensor(0.0159, dtype=torch.float64)\n",
      "Correspondence set estimation...\n",
      "Extrinsics estimation...\n",
      "Did not converge with required tolerance.\n",
      "loss tensor(0.0162, dtype=torch.float64)\n",
      "Correspondence set estimation...\n",
      "Extrinsics estimation...\n",
      "Did not converge with required tolerance.\n",
      "loss tensor(0.0159, dtype=torch.float64)\n",
      "Correspondence set estimation...\n",
      "Extrinsics estimation...\n",
      "Did not converge with required tolerance.\n",
      "loss tensor(0.0153, dtype=torch.float64)\n",
      "loss tensor(0.0153, dtype=torch.float64, grad_fn=<SumBackward0>)\n"
     ]
    },
    {
     "name": "stderr",
     "output_type": "stream",
     "text": [
      "\n",
      "\n",
      "\n",
      "\n",
      "\n",
      "\n",
      "\n",
      "\n",
      "\n",
      "\n",
      "\n",
      "\n",
      "\n",
      "\n",
      "\n",
      "\n",
      "\n",
      " 63%|██████▎   | 19/30 [08:13<04:55, 26.90s/it]\u001b[A\u001b[A\u001b[A\u001b[A\u001b[A\u001b[A\u001b[A\u001b[A\u001b[A\u001b[A\u001b[A\u001b[A\u001b[A\u001b[A\u001b[A\u001b[A\u001b[A"
     ]
    },
    {
     "name": "stdout",
     "output_type": "stream",
     "text": [
      "L1 between depth_first pic with motion blur and GT: 0.01703720175435498\n",
      "L1 between pc0 xyz and GT pc0 xyz: tensor(0.1168, dtype=torch.float64, grad_fn=<MeanBackward0>)\n",
      "Correspondence set estimation...\n",
      "Extrinsics estimation...\n",
      "Did not converge with required tolerance.\n",
      "loss tensor(0.1549, dtype=torch.float64)\n",
      "Correspondence set estimation...\n",
      "Extrinsics estimation...\n",
      "Did not converge with required tolerance.\n",
      "loss tensor(0.0431, dtype=torch.float64)\n",
      "Correspondence set estimation...\n",
      "Extrinsics estimation...\n",
      "Did not converge with required tolerance.\n",
      "loss tensor(0.0168, dtype=torch.float64)\n",
      "Correspondence set estimation...\n",
      "Extrinsics estimation...\n",
      "Did not converge with required tolerance.\n",
      "loss tensor(0.0116, dtype=torch.float64)\n",
      "Correspondence set estimation...\n",
      "Extrinsics estimation...\n",
      "Did not converge with required tolerance.\n",
      "loss tensor(0.0101, dtype=torch.float64)\n",
      "Correspondence set estimation...\n",
      "Extrinsics estimation...\n",
      "Did not converge with required tolerance.\n",
      "loss tensor(0.0131, dtype=torch.float64)\n",
      "Correspondence set estimation...\n",
      "Extrinsics estimation...\n",
      "Did not converge with required tolerance.\n",
      "loss tensor(0.0169, dtype=torch.float64)\n",
      "Correspondence set estimation...\n",
      "Extrinsics estimation...\n",
      "Did not converge with required tolerance.\n",
      "loss tensor(0.0203, dtype=torch.float64)\n",
      "Correspondence set estimation...\n",
      "Extrinsics estimation...\n",
      "Did not converge with required tolerance.\n",
      "loss tensor(0.0207, dtype=torch.float64)\n",
      "Correspondence set estimation...\n",
      "Extrinsics estimation...\n",
      "Did not converge with required tolerance.\n",
      "loss tensor(0.0206, dtype=torch.float64)\n",
      "loss tensor(0.0206, dtype=torch.float64, grad_fn=<SumBackward0>)\n"
     ]
    },
    {
     "name": "stderr",
     "output_type": "stream",
     "text": [
      "\n",
      "\n",
      "\n",
      "\n",
      "\n",
      "\n",
      "\n",
      "\n",
      "\n",
      "\n",
      "\n",
      "\n",
      "\n",
      "\n",
      "\n",
      "\n",
      "\n",
      " 67%|██████▋   | 20/30 [08:34<04:12, 25.26s/it]\u001b[A\u001b[A\u001b[A\u001b[A\u001b[A\u001b[A\u001b[A\u001b[A\u001b[A\u001b[A\u001b[A\u001b[A\u001b[A\u001b[A\u001b[A\u001b[A\u001b[A"
     ]
    },
    {
     "name": "stdout",
     "output_type": "stream",
     "text": [
      "L1 between depth_first pic with motion blur and GT: 0.017037226708671034\n",
      "L1 between pc0 xyz and GT pc0 xyz: tensor(0.1163, dtype=torch.float64, grad_fn=<MeanBackward0>)\n",
      "Correspondence set estimation...\n",
      "Extrinsics estimation...\n",
      "Did not converge with required tolerance.\n",
      "loss tensor(0.1627, dtype=torch.float64)\n",
      "Correspondence set estimation...\n",
      "Extrinsics estimation...\n",
      "Did not converge with required tolerance.\n",
      "loss tensor(0.0453, dtype=torch.float64)\n",
      "Correspondence set estimation...\n",
      "Extrinsics estimation...\n",
      "Did not converge with required tolerance.\n",
      "loss tensor(0.0163, dtype=torch.float64)\n",
      "Correspondence set estimation...\n",
      "Extrinsics estimation...\n",
      "Did not converge with required tolerance.\n",
      "loss tensor(0.0104, dtype=torch.float64)\n",
      "Correspondence set estimation...\n",
      "Extrinsics estimation...\n",
      "Did not converge with required tolerance.\n",
      "loss tensor(0.0104, dtype=torch.float64)\n",
      "Correspondence set estimation...\n",
      "Extrinsics estimation...\n",
      "Did not converge with required tolerance.\n",
      "loss tensor(0.0159, dtype=torch.float64)\n",
      "Correspondence set estimation...\n",
      "Extrinsics estimation...\n",
      "Did not converge with required tolerance.\n",
      "loss tensor(0.0215, dtype=torch.float64)\n",
      "Correspondence set estimation...\n",
      "Extrinsics estimation...\n",
      "Did not converge with required tolerance.\n",
      "loss tensor(0.0238, dtype=torch.float64)\n",
      "Correspondence set estimation...\n",
      "Extrinsics estimation...\n",
      "Did not converge with required tolerance.\n",
      "loss tensor(0.0244, dtype=torch.float64)\n",
      "Correspondence set estimation...\n",
      "Extrinsics estimation...\n",
      "Did not converge with required tolerance.\n",
      "loss tensor(0.0243, dtype=torch.float64)\n",
      "loss tensor(0.0243, dtype=torch.float64, grad_fn=<SumBackward0>)\n"
     ]
    },
    {
     "name": "stderr",
     "output_type": "stream",
     "text": [
      "\n",
      "\n",
      "\n",
      "\n",
      "\n",
      "\n",
      "\n",
      "\n",
      "\n",
      "\n",
      "\n",
      "\n",
      "\n",
      "\n",
      "\n",
      "\n",
      "\n",
      " 70%|███████   | 21/30 [08:55<03:35, 23.96s/it]\u001b[A\u001b[A\u001b[A\u001b[A\u001b[A\u001b[A\u001b[A\u001b[A\u001b[A\u001b[A\u001b[A\u001b[A\u001b[A\u001b[A\u001b[A\u001b[A\u001b[A"
     ]
    },
    {
     "name": "stdout",
     "output_type": "stream",
     "text": [
      "L1 between depth_first pic with motion blur and GT: 0.017037250345100365\n",
      "L1 between pc0 xyz and GT pc0 xyz: tensor(0.1158, dtype=torch.float64, grad_fn=<MeanBackward0>)\n",
      "Correspondence set estimation...\n",
      "Extrinsics estimation...\n",
      "Did not converge with required tolerance.\n",
      "loss tensor(0.1616, dtype=torch.float64)\n",
      "Correspondence set estimation...\n",
      "Extrinsics estimation...\n",
      "Did not converge with required tolerance.\n",
      "loss tensor(0.0436, dtype=torch.float64)\n",
      "Correspondence set estimation...\n",
      "Extrinsics estimation...\n",
      "Did not converge with required tolerance.\n",
      "loss tensor(0.0144, dtype=torch.float64)\n",
      "Correspondence set estimation...\n",
      "Extrinsics estimation...\n",
      "Did not converge with required tolerance.\n",
      "loss tensor(0.0088, dtype=torch.float64)\n",
      "Correspondence set estimation...\n",
      "Extrinsics estimation...\n",
      "Did not converge with required tolerance.\n",
      "loss tensor(0.0086, dtype=torch.float64)\n",
      "Correspondence set estimation...\n",
      "Extrinsics estimation...\n",
      "Did not converge with required tolerance.\n",
      "loss tensor(0.0126, dtype=torch.float64)\n",
      "Correspondence set estimation...\n",
      "Extrinsics estimation...\n",
      "Did not converge with required tolerance.\n",
      "loss tensor(0.0171, dtype=torch.float64)\n",
      "Correspondence set estimation...\n",
      "Extrinsics estimation...\n",
      "Did not converge with required tolerance.\n",
      "loss tensor(0.0215, dtype=torch.float64)\n",
      "Correspondence set estimation...\n",
      "Extrinsics estimation...\n",
      "Did not converge with required tolerance.\n",
      "loss tensor(0.0220, dtype=torch.float64)\n",
      "Correspondence set estimation...\n",
      "Extrinsics estimation...\n",
      "Did not converge with required tolerance.\n",
      "loss tensor(0.0222, dtype=torch.float64)\n",
      "loss tensor(0.0222, dtype=torch.float64, grad_fn=<SumBackward0>)\n"
     ]
    },
    {
     "name": "stderr",
     "output_type": "stream",
     "text": [
      "\n",
      "\n",
      "\n",
      "\n",
      "\n",
      "\n",
      "\n",
      "\n",
      "\n",
      "\n",
      "\n",
      "\n",
      "\n",
      "\n",
      "\n",
      "\n",
      "\n",
      " 73%|███████▎  | 22/30 [09:18<03:08, 23.61s/it]\u001b[A\u001b[A\u001b[A\u001b[A\u001b[A\u001b[A\u001b[A\u001b[A\u001b[A\u001b[A\u001b[A\u001b[A\u001b[A\u001b[A\u001b[A\u001b[A\u001b[A"
     ]
    },
    {
     "name": "stdout",
     "output_type": "stream",
     "text": [
      "L1 between depth_first pic with motion blur and GT: 0.017037272747838436\n",
      "L1 between pc0 xyz and GT pc0 xyz: tensor(0.1157, dtype=torch.float64, grad_fn=<MeanBackward0>)\n",
      "Correspondence set estimation...\n",
      "Extrinsics estimation...\n",
      "Did not converge with required tolerance.\n",
      "loss tensor(0.1601, dtype=torch.float64)\n",
      "Correspondence set estimation...\n",
      "Extrinsics estimation...\n",
      "Did not converge with required tolerance.\n",
      "loss tensor(0.0425, dtype=torch.float64)\n",
      "Correspondence set estimation...\n",
      "Extrinsics estimation...\n",
      "Did not converge with required tolerance.\n",
      "loss tensor(0.0138, dtype=torch.float64)\n",
      "Correspondence set estimation...\n",
      "Extrinsics estimation...\n",
      "Did not converge with required tolerance.\n",
      "loss tensor(0.0091, dtype=torch.float64)\n",
      "Correspondence set estimation...\n",
      "Extrinsics estimation...\n",
      "Did not converge with required tolerance.\n",
      "loss tensor(0.0109, dtype=torch.float64)\n",
      "Correspondence set estimation...\n",
      "Extrinsics estimation...\n",
      "Did not converge with required tolerance.\n",
      "loss tensor(0.0135, dtype=torch.float64)\n",
      "Correspondence set estimation...\n",
      "Extrinsics estimation...\n",
      "Did not converge with required tolerance.\n",
      "loss tensor(0.0189, dtype=torch.float64)\n",
      "Correspondence set estimation...\n",
      "Extrinsics estimation...\n",
      "Did not converge with required tolerance.\n",
      "loss tensor(0.0198, dtype=torch.float64)\n",
      "Correspondence set estimation...\n",
      "Extrinsics estimation...\n",
      "Did not converge with required tolerance.\n",
      "loss tensor(0.0198, dtype=torch.float64)\n",
      "Correspondence set estimation...\n",
      "Extrinsics estimation...\n",
      "Did not converge with required tolerance.\n",
      "loss tensor(0.0199, dtype=torch.float64)\n",
      "loss tensor(0.0199, dtype=torch.float64, grad_fn=<SumBackward0>)\n"
     ]
    },
    {
     "name": "stderr",
     "output_type": "stream",
     "text": [
      "\n",
      "\n",
      "\n",
      "\n",
      "\n",
      "\n",
      "\n",
      "\n",
      "\n",
      "\n",
      "\n",
      "\n",
      "\n",
      "\n",
      "\n",
      "\n",
      "\n",
      " 77%|███████▋  | 23/30 [09:42<02:45, 23.61s/it]\u001b[A\u001b[A\u001b[A\u001b[A\u001b[A\u001b[A\u001b[A\u001b[A\u001b[A\u001b[A\u001b[A\u001b[A\u001b[A\u001b[A\u001b[A\u001b[A\u001b[A"
     ]
    },
    {
     "name": "stdout",
     "output_type": "stream",
     "text": [
      "L1 between depth_first pic with motion blur and GT: 0.017037293998319474\n",
      "L1 between pc0 xyz and GT pc0 xyz: tensor(0.1158, dtype=torch.float64, grad_fn=<MeanBackward0>)\n",
      "Correspondence set estimation...\n",
      "Extrinsics estimation...\n",
      "Did not converge with required tolerance.\n",
      "loss tensor(0.1585, dtype=torch.float64)\n",
      "Correspondence set estimation...\n",
      "Extrinsics estimation...\n",
      "Did not converge with required tolerance.\n",
      "loss tensor(0.0403, dtype=torch.float64)\n",
      "Correspondence set estimation...\n",
      "Extrinsics estimation...\n",
      "Did not converge with required tolerance.\n",
      "loss tensor(0.0134, dtype=torch.float64)\n",
      "Correspondence set estimation...\n",
      "Extrinsics estimation...\n",
      "Did not converge with required tolerance.\n",
      "loss tensor(0.0072, dtype=torch.float64)\n",
      "Correspondence set estimation...\n",
      "Extrinsics estimation...\n",
      "Did not converge with required tolerance.\n",
      "loss tensor(0.0098, dtype=torch.float64)\n",
      "Correspondence set estimation...\n",
      "Extrinsics estimation...\n",
      "Did not converge with required tolerance.\n",
      "loss tensor(0.0102, dtype=torch.float64)\n",
      "Correspondence set estimation...\n",
      "Extrinsics estimation...\n",
      "Did not converge with required tolerance.\n",
      "loss tensor(0.0111, dtype=torch.float64)\n",
      "Correspondence set estimation...\n",
      "Extrinsics estimation...\n",
      "Did not converge with required tolerance.\n",
      "loss tensor(0.0126, dtype=torch.float64)\n",
      "Correspondence set estimation...\n",
      "Extrinsics estimation...\n",
      "Did not converge with required tolerance.\n",
      "loss tensor(0.0123, dtype=torch.float64)\n",
      "Correspondence set estimation...\n",
      "Extrinsics estimation...\n",
      "Did not converge with required tolerance.\n",
      "loss tensor(0.0116, dtype=torch.float64)\n",
      "loss tensor(0.0116, dtype=torch.float64, grad_fn=<SumBackward0>)\n"
     ]
    },
    {
     "name": "stderr",
     "output_type": "stream",
     "text": [
      "\n",
      "\n",
      "\n",
      "\n",
      "\n",
      "\n",
      "\n",
      "\n",
      "\n",
      "\n",
      "\n",
      "\n",
      "\n",
      "\n",
      "\n",
      "\n",
      "\n",
      " 80%|████████  | 24/30 [10:04<02:19, 23.24s/it]\u001b[A\u001b[A\u001b[A\u001b[A\u001b[A\u001b[A\u001b[A\u001b[A\u001b[A\u001b[A\u001b[A\u001b[A\u001b[A\u001b[A\u001b[A\u001b[A\u001b[A"
     ]
    },
    {
     "name": "stdout",
     "output_type": "stream",
     "text": [
      "L1 between depth_first pic with motion blur and GT: 0.01703731468926711\n",
      "L1 between pc0 xyz and GT pc0 xyz: tensor(0.1175, dtype=torch.float64, grad_fn=<MeanBackward0>)\n",
      "Correspondence set estimation...\n",
      "Extrinsics estimation...\n",
      "Did not converge with required tolerance.\n",
      "loss tensor(0.1592, dtype=torch.float64)\n",
      "Correspondence set estimation...\n",
      "Extrinsics estimation...\n",
      "Did not converge with required tolerance.\n",
      "loss tensor(0.0396, dtype=torch.float64)\n",
      "Correspondence set estimation...\n",
      "Extrinsics estimation...\n",
      "Did not converge with required tolerance.\n",
      "loss tensor(0.0123, dtype=torch.float64)\n",
      "Correspondence set estimation...\n",
      "Extrinsics estimation...\n",
      "Did not converge with required tolerance.\n",
      "loss tensor(0.0069, dtype=torch.float64)\n",
      "Correspondence set estimation...\n",
      "Extrinsics estimation...\n",
      "Did not converge with required tolerance.\n",
      "loss tensor(0.0086, dtype=torch.float64)\n",
      "Correspondence set estimation...\n",
      "Extrinsics estimation...\n",
      "Did not converge with required tolerance.\n",
      "loss tensor(0.0121, dtype=torch.float64)\n",
      "Correspondence set estimation...\n",
      "Extrinsics estimation...\n",
      "Did not converge with required tolerance.\n",
      "loss tensor(0.0162, dtype=torch.float64)\n",
      "Correspondence set estimation...\n",
      "Extrinsics estimation...\n",
      "Did not converge with required tolerance.\n",
      "loss tensor(0.0176, dtype=torch.float64)\n",
      "Correspondence set estimation...\n",
      "Extrinsics estimation...\n",
      "Did not converge with required tolerance.\n",
      "loss tensor(0.0181, dtype=torch.float64)\n",
      "Correspondence set estimation...\n",
      "Extrinsics estimation...\n",
      "Did not converge with required tolerance.\n",
      "loss tensor(0.0186, dtype=torch.float64)\n",
      "loss tensor(0.0186, dtype=torch.float64, grad_fn=<SumBackward0>)\n"
     ]
    },
    {
     "name": "stderr",
     "output_type": "stream",
     "text": [
      "\n",
      "\n",
      "\n",
      "\n",
      "\n",
      "\n",
      "\n",
      "\n",
      "\n",
      "\n",
      "\n",
      "\n",
      "\n",
      "\n",
      "\n",
      "\n",
      "\n",
      " 83%|████████▎ | 25/30 [10:25<01:53, 22.68s/it]\u001b[A\u001b[A\u001b[A\u001b[A\u001b[A\u001b[A\u001b[A\u001b[A\u001b[A\u001b[A\u001b[A\u001b[A\u001b[A\u001b[A\u001b[A\u001b[A\u001b[A"
     ]
    },
    {
     "name": "stdout",
     "output_type": "stream",
     "text": [
      "L1 between depth_first pic with motion blur and GT: 0.017037334563141347\n",
      "L1 between pc0 xyz and GT pc0 xyz: tensor(0.1152, dtype=torch.float64, grad_fn=<MeanBackward0>)\n",
      "Correspondence set estimation...\n",
      "Extrinsics estimation...\n",
      "Did not converge with required tolerance.\n",
      "loss tensor(0.1589, dtype=torch.float64)\n",
      "Correspondence set estimation...\n",
      "Extrinsics estimation...\n",
      "Did not converge with required tolerance.\n",
      "loss tensor(0.0370, dtype=torch.float64)\n",
      "Correspondence set estimation...\n",
      "Extrinsics estimation...\n",
      "Did not converge with required tolerance.\n",
      "loss tensor(0.0111, dtype=torch.float64)\n",
      "Correspondence set estimation...\n",
      "Extrinsics estimation...\n",
      "Did not converge with required tolerance.\n",
      "loss tensor(0.0080, dtype=torch.float64)\n",
      "Correspondence set estimation...\n",
      "Extrinsics estimation...\n",
      "Did not converge with required tolerance.\n",
      "loss tensor(0.0076, dtype=torch.float64)\n",
      "Correspondence set estimation...\n",
      "Extrinsics estimation...\n",
      "Did not converge with required tolerance.\n",
      "loss tensor(0.0076, dtype=torch.float64)\n",
      "Correspondence set estimation...\n",
      "Extrinsics estimation...\n",
      "Did not converge with required tolerance.\n",
      "loss tensor(0.0107, dtype=torch.float64)\n",
      "Correspondence set estimation...\n",
      "Extrinsics estimation...\n",
      "Did not converge with required tolerance.\n",
      "loss tensor(0.0131, dtype=torch.float64)\n",
      "Correspondence set estimation...\n",
      "Extrinsics estimation...\n",
      "Did not converge with required tolerance.\n",
      "loss tensor(0.0137, dtype=torch.float64)\n",
      "Correspondence set estimation...\n",
      "Extrinsics estimation...\n",
      "Did not converge with required tolerance.\n",
      "loss tensor(0.0119, dtype=torch.float64)\n",
      "loss tensor(0.0119, dtype=torch.float64, grad_fn=<SumBackward0>)\n"
     ]
    },
    {
     "name": "stderr",
     "output_type": "stream",
     "text": [
      "\n",
      "\n",
      "\n",
      "\n",
      "\n",
      "\n",
      "\n",
      "\n",
      "\n",
      "\n",
      "\n",
      "\n",
      "\n",
      "\n",
      "\n",
      "\n",
      "\n",
      " 87%|████████▋ | 26/30 [10:48<01:30, 22.73s/it]\u001b[A\u001b[A\u001b[A\u001b[A\u001b[A\u001b[A\u001b[A\u001b[A\u001b[A\u001b[A\u001b[A\u001b[A\u001b[A\u001b[A\u001b[A\u001b[A\u001b[A"
     ]
    },
    {
     "name": "stdout",
     "output_type": "stream",
     "text": [
      "L1 between depth_first pic with motion blur and GT: 0.01703735564967177\n",
      "L1 between pc0 xyz and GT pc0 xyz: tensor(0.1153, dtype=torch.float64, grad_fn=<MeanBackward0>)\n",
      "Correspondence set estimation...\n",
      "Extrinsics estimation...\n",
      "Did not converge with required tolerance.\n",
      "loss tensor(0.1636, dtype=torch.float64)\n",
      "Correspondence set estimation...\n",
      "Extrinsics estimation...\n",
      "Did not converge with required tolerance.\n",
      "loss tensor(0.0376, dtype=torch.float64)\n",
      "Correspondence set estimation...\n",
      "Extrinsics estimation...\n",
      "Did not converge with required tolerance.\n",
      "loss tensor(0.0104, dtype=torch.float64)\n",
      "Correspondence set estimation...\n",
      "Extrinsics estimation...\n",
      "Did not converge with required tolerance.\n",
      "loss tensor(0.0073, dtype=torch.float64)\n",
      "Correspondence set estimation...\n",
      "Extrinsics estimation...\n",
      "Did not converge with required tolerance.\n",
      "loss tensor(0.0070, dtype=torch.float64)\n",
      "Correspondence set estimation...\n",
      "Extrinsics estimation...\n",
      "Did not converge with required tolerance.\n",
      "loss tensor(0.0095, dtype=torch.float64)\n",
      "Correspondence set estimation...\n",
      "Extrinsics estimation...\n",
      "Did not converge with required tolerance.\n",
      "loss tensor(0.0114, dtype=torch.float64)\n",
      "Correspondence set estimation...\n",
      "Extrinsics estimation...\n",
      "Did not converge with required tolerance.\n",
      "loss tensor(0.0119, dtype=torch.float64)\n",
      "Correspondence set estimation...\n",
      "Extrinsics estimation...\n",
      "Did not converge with required tolerance.\n",
      "loss tensor(0.0125, dtype=torch.float64)\n",
      "Correspondence set estimation...\n",
      "Extrinsics estimation...\n",
      "Did not converge with required tolerance.\n",
      "loss tensor(0.0125, dtype=torch.float64)\n",
      "loss tensor(0.0125, dtype=torch.float64, grad_fn=<SumBackward0>)\n"
     ]
    },
    {
     "name": "stderr",
     "output_type": "stream",
     "text": [
      "\n",
      "\n",
      "\n",
      "\n",
      "\n",
      "\n",
      "\n",
      "\n",
      "\n",
      "\n",
      "\n",
      "\n",
      "\n",
      "\n",
      "\n",
      "\n",
      "\n",
      " 90%|█████████ | 27/30 [11:15<01:11, 23.88s/it]\u001b[A\u001b[A\u001b[A\u001b[A\u001b[A\u001b[A\u001b[A\u001b[A\u001b[A\u001b[A\u001b[A\u001b[A\u001b[A\u001b[A\u001b[A\u001b[A\u001b[A"
     ]
    },
    {
     "name": "stdout",
     "output_type": "stream",
     "text": [
      "L1 between depth_first pic with motion blur and GT: 0.017037375795335468\n",
      "L1 between pc0 xyz and GT pc0 xyz: tensor(0.1158, dtype=torch.float64, grad_fn=<MeanBackward0>)\n",
      "Correspondence set estimation...\n",
      "Extrinsics estimation...\n",
      "Did not converge with required tolerance.\n",
      "loss tensor(0.1643, dtype=torch.float64)\n",
      "Correspondence set estimation...\n",
      "Extrinsics estimation...\n",
      "Did not converge with required tolerance.\n",
      "loss tensor(0.0287, dtype=torch.float64)\n",
      "Correspondence set estimation...\n",
      "Extrinsics estimation...\n",
      "Did not converge with required tolerance.\n",
      "loss tensor(0.0081, dtype=torch.float64)\n",
      "Correspondence set estimation...\n",
      "Extrinsics estimation...\n",
      "Did not converge with required tolerance.\n",
      "loss tensor(0.0064, dtype=torch.float64)\n",
      "Correspondence set estimation...\n",
      "Extrinsics estimation...\n",
      "Did not converge with required tolerance.\n",
      "loss tensor(0.0052, dtype=torch.float64)\n",
      "Correspondence set estimation...\n",
      "Extrinsics estimation...\n",
      "Did not converge with required tolerance.\n",
      "loss tensor(0.0080, dtype=torch.float64)\n",
      "Correspondence set estimation...\n",
      "Extrinsics estimation...\n",
      "Did not converge with required tolerance.\n",
      "loss tensor(0.0096, dtype=torch.float64)\n",
      "Correspondence set estimation...\n",
      "Extrinsics estimation...\n",
      "Did not converge with required tolerance.\n",
      "loss tensor(0.0107, dtype=torch.float64)\n",
      "Correspondence set estimation...\n",
      "Extrinsics estimation...\n",
      "Did not converge with required tolerance.\n",
      "loss tensor(0.0110, dtype=torch.float64)\n",
      "Correspondence set estimation...\n",
      "Extrinsics estimation...\n",
      "Did not converge with required tolerance.\n",
      "loss tensor(0.0112, dtype=torch.float64)\n",
      "loss tensor(0.0112, dtype=torch.float64, grad_fn=<SumBackward0>)\n"
     ]
    },
    {
     "name": "stderr",
     "output_type": "stream",
     "text": [
      "\n",
      "\n",
      "\n",
      "\n",
      "\n",
      "\n",
      "\n",
      "\n",
      "\n",
      "\n",
      "\n",
      "\n",
      "\n",
      "\n",
      "\n",
      "\n",
      "\n",
      " 93%|█████████▎| 28/30 [12:06<01:04, 32.05s/it]\u001b[A\u001b[A\u001b[A\u001b[A\u001b[A\u001b[A\u001b[A\u001b[A\u001b[A\u001b[A\u001b[A\u001b[A\u001b[A\u001b[A\u001b[A\u001b[A\u001b[A"
     ]
    },
    {
     "name": "stdout",
     "output_type": "stream",
     "text": [
      "L1 between depth_first pic with motion blur and GT: 0.017037395040750136\n",
      "L1 between pc0 xyz and GT pc0 xyz: tensor(0.1157, dtype=torch.float64, grad_fn=<MeanBackward0>)\n",
      "Correspondence set estimation...\n",
      "Extrinsics estimation...\n",
      "Did not converge with required tolerance.\n",
      "loss tensor(0.1636, dtype=torch.float64)\n",
      "Correspondence set estimation...\n",
      "Extrinsics estimation...\n",
      "Did not converge with required tolerance.\n",
      "loss tensor(0.0290, dtype=torch.float64)\n",
      "Correspondence set estimation...\n",
      "Extrinsics estimation...\n",
      "Did not converge with required tolerance.\n",
      "loss tensor(0.0074, dtype=torch.float64)\n",
      "Correspondence set estimation...\n",
      "Extrinsics estimation...\n",
      "Did not converge with required tolerance.\n",
      "loss tensor(0.0053, dtype=torch.float64)\n",
      "Correspondence set estimation...\n",
      "Extrinsics estimation...\n",
      "Did not converge with required tolerance.\n",
      "loss tensor(0.0039, dtype=torch.float64)\n",
      "Correspondence set estimation...\n",
      "Extrinsics estimation...\n",
      "Did not converge with required tolerance.\n",
      "loss tensor(0.0061, dtype=torch.float64)\n",
      "Correspondence set estimation...\n",
      "Extrinsics estimation...\n",
      "Did not converge with required tolerance.\n",
      "loss tensor(0.0074, dtype=torch.float64)\n",
      "Correspondence set estimation...\n",
      "Extrinsics estimation...\n",
      "Did not converge with required tolerance.\n",
      "loss tensor(0.0072, dtype=torch.float64)\n",
      "Correspondence set estimation...\n",
      "Extrinsics estimation...\n",
      "Did not converge with required tolerance.\n",
      "loss tensor(0.0072, dtype=torch.float64)\n",
      "Correspondence set estimation...\n",
      "Extrinsics estimation...\n",
      "Did not converge with required tolerance.\n",
      "loss tensor(0.0072, dtype=torch.float64)\n",
      "loss tensor(0.0072, dtype=torch.float64, grad_fn=<SumBackward0>)\n"
     ]
    },
    {
     "name": "stderr",
     "output_type": "stream",
     "text": [
      "\n",
      "\n",
      "\n",
      "\n",
      "\n",
      "\n",
      "\n",
      "\n",
      "\n",
      "\n",
      "\n",
      "\n",
      "\n",
      "\n",
      "\n",
      "\n",
      "\n",
      " 97%|█████████▋| 29/30 [12:37<00:31, 31.83s/it]\u001b[A\u001b[A\u001b[A\u001b[A\u001b[A\u001b[A\u001b[A\u001b[A\u001b[A\u001b[A\u001b[A\u001b[A\u001b[A\u001b[A\u001b[A\u001b[A\u001b[A"
     ]
    },
    {
     "name": "stdout",
     "output_type": "stream",
     "text": [
      "L1 between depth_first pic with motion blur and GT: 0.017037413231489704\n",
      "L1 between pc0 xyz and GT pc0 xyz: tensor(0.1159, dtype=torch.float64, grad_fn=<MeanBackward0>)\n",
      "Correspondence set estimation...\n",
      "Extrinsics estimation...\n",
      "Did not converge with required tolerance.\n",
      "loss tensor(0.1687, dtype=torch.float64)\n",
      "Correspondence set estimation...\n",
      "Extrinsics estimation...\n",
      "Did not converge with required tolerance.\n",
      "loss tensor(0.0299, dtype=torch.float64)\n",
      "Correspondence set estimation...\n",
      "Extrinsics estimation...\n",
      "Did not converge with required tolerance.\n",
      "loss tensor(0.0098, dtype=torch.float64)\n",
      "Correspondence set estimation...\n",
      "Extrinsics estimation...\n",
      "Did not converge with required tolerance.\n",
      "loss tensor(0.0052, dtype=torch.float64)\n",
      "Correspondence set estimation...\n",
      "Extrinsics estimation...\n",
      "Did not converge with required tolerance.\n",
      "loss tensor(0.0029, dtype=torch.float64)\n",
      "Correspondence set estimation...\n",
      "Extrinsics estimation...\n",
      "Did not converge with required tolerance.\n",
      "loss tensor(0.0035, dtype=torch.float64)\n",
      "Correspondence set estimation...\n",
      "Extrinsics estimation...\n",
      "Did not converge with required tolerance.\n",
      "loss tensor(0.0042, dtype=torch.float64)\n",
      "Correspondence set estimation...\n",
      "Extrinsics estimation...\n",
      "Did not converge with required tolerance.\n",
      "loss tensor(0.0042, dtype=torch.float64)\n",
      "Correspondence set estimation...\n",
      "Extrinsics estimation...\n",
      "Did not converge with required tolerance.\n",
      "loss tensor(0.0045, dtype=torch.float64)\n",
      "Correspondence set estimation...\n",
      "Extrinsics estimation...\n",
      "Did not converge with required tolerance.\n",
      "loss tensor(0.0048, dtype=torch.float64)\n",
      "loss tensor(0.0048, dtype=torch.float64, grad_fn=<SumBackward0>)\n"
     ]
    },
    {
     "name": "stderr",
     "output_type": "stream",
     "text": [
      "\n",
      "\n",
      "\n",
      "\n",
      "\n",
      "\n",
      "\n",
      "\n",
      "\n",
      "\n",
      "\n",
      "\n",
      "\n",
      "\n",
      "\n",
      "\n",
      "\n",
      "100%|██████████| 30/30 [13:02<00:00, 26.10s/it]\u001b[A\u001b[A\u001b[A\u001b[A\u001b[A\u001b[A\u001b[A\u001b[A\u001b[A\u001b[A\u001b[A\u001b[A\u001b[A\u001b[A\u001b[A\u001b[A\u001b[A"
     ]
    },
    {
     "name": "stdout",
     "output_type": "stream",
     "text": [
      "L1 between depth_first pic with motion blur and GT: 0.017037430032347898\n",
      "L1 between pc0 xyz and GT pc0 xyz: tensor(0.1162, dtype=torch.float64, grad_fn=<MeanBackward0>)\n"
     ]
    },
    {
     "name": "stderr",
     "output_type": "stream",
     "text": [
      "\n"
     ]
    }
   ],
   "source": [
    "gradslam_iter = 30\n",
    "internal_iter = 10\n",
    "opt = optim.Adam([depth_first], lr=3e-3)\n",
    "\n",
    "depth_history = []\n",
    "loss_history = []\n",
    "internal_loss_history = []\n",
    "\n",
    "depth_first_img = depth_first.cpu().data.numpy()\n",
    "depth_first_img_gt = gt_depth[0].cpu().data.numpy()\n",
    "depth_history.append(depth_first_img)\n",
    "# plt.figure(figsize=(10, 5))\n",
    "# plt.imshow(depth_first_img, cmap=plt.cm.Greys_r)\n",
    "# plt.colorbar()\n",
    "# plt.show()\n",
    "print('L1 between depth_first pic with motion blur and GT:', (np.abs(depth_first_img - depth_first_img_gt).mean()))\n",
    "print('L1 between pc0 xyz and GT pc0 xyz:', (torch.abs(pc0.points - gt_pc0.points).mean()))\n",
    "\n",
    "for i in tqdm(range(gradslam_iter)):\n",
    "    pc0 = Cloud.from_tensors(depth_first, K, torch.eye(4), ignore='max')\n",
    "    pc1 = Cloud.from_tensors(depth_second, K, torch.eye(4), ignore='max')\n",
    "    \n",
    "    T = torch.eye(4).double()\n",
    "    \n",
    "    # visualize_pcd(pc0)\n",
    "  \n",
    "    for j in range(internal_iter):\n",
    "        # params_upd = optim_step_ICP(pc0, pc1, max_iter=10, icp_max_iter=1, verbose=0)\n",
    "        params_upd = optim_step_neighbors(pc0, pc1, max_iter=10, neighbors_take_each=1000, verbose=0)\n",
    "        transl_upd, angle_upd = params_upd.split([3, 3], dim=-1)\n",
    "        rot_upd = create_rot_from_angle(angle_upd.unsqueeze(0)).squeeze(0)\n",
    "        pc0.points = transform_pc(pc0.points, rot_upd, transl_upd).squeeze(1)\n",
    "\n",
    "        T_upd = extrinsics_from_rot_transl(rot_upd, transl_upd).double()\n",
    "        T = T_upd @ T\n",
    "        rot, transl = T[:3, :3], T[:3, 3]\n",
    "        params = get_params_from_rot_and_transl(rot, transl)\n",
    "        # print('loss', loss_T(T, extr[0], extr[1]))\n",
    "        # print('loss', loss_params(params, extr[0], extr[1]))\n",
    "        loss_val = loss_params(params, extr[0], extr[1]).detach()\n",
    "        internal_loss_history.append(loss_val.item())\n",
    "        print('loss', loss_val)\n",
    "    \n",
    "    opt.zero_grad()\n",
    "    loss_val = loss_params(params, extr[0], extr[1])\n",
    "    loss_history.append(loss_val.item())\n",
    "    print('loss', loss_val)\n",
    "    loss_val.backward()\n",
    "    opt.step()\n",
    "    \n",
    "#     if i % 5 == 0:\n",
    "#         visualize_pcd(pc0, pc1)\n",
    "    \n",
    "    depth_first_img = depth_first.cpu().data.numpy()\n",
    "    depth_first_img_gt = gt_depth[0].cpu().data.numpy()\n",
    "    depth_history.append(depth_first_img)\n",
    "#     plt.figure(figsize=(10, 5))\n",
    "#     plt.imshow(depth_first_img, cmap=plt.cm.Greys_r)\n",
    "#     plt.colorbar()\n",
    "#     plt.show()\n",
    "    print('L1 between depth_first pic with motion blur and GT:', (np.abs(depth_first_img - depth_first_img_gt).mean()))\n",
    "    print('L1 between pc0 xyz and GT pc0 xyz:', (torch.abs(pc0.points - gt_pc0.points).mean()))"
   ]
  },
  {
   "cell_type": "code",
   "execution_count": null,
   "metadata": {},
   "outputs": [],
   "source": [
    "plot_counter += 1"
   ]
  },
  {
   "cell_type": "code",
   "execution_count": 176,
   "metadata": {},
   "outputs": [
    {
     "data": {
      "image/png": "[encoded data removed]",
      "text/plain": [
       "<Figure size 432x288 with 1 Axes>"
      ]
     },
     "metadata": {
      "needs_background": "light"
     },
     "output_type": "display_data"
    }
   ],
   "source": [
    "plt.plot(loss_history)\n",
    "plt.savefig(f'loss_history_{plot_counter}.pdf')\n",
    "np.save(f'loss_history_{plot_counter}.npy', loss_history)"
   ]
  },
  {
   "cell_type": "code",
   "execution_count": 177,
   "metadata": {},
   "outputs": [
    {
     "data": {
      "image/png": "[encoded data removed]",
      "text/plain": [
       "<Figure size 432x288 with 1 Axes>"
      ]
     },
     "metadata": {
      "needs_background": "light"
     },
     "output_type": "display_data"
    }
   ],
   "source": [
    "plt.plot(internal_loss_history)\n",
    "plt.savefig(f'internal_loss_history_{plot_counter}.pdf')\n",
    "np.save(f'internal_loss_history_{plot_counter}.npy', loss_history)"
   ]
  },
  {
   "cell_type": "code",
   "execution_count": 179,
   "metadata": {},
   "outputs": [
    {
     "data": {
      "image/png": "[encoded data removed]",
      "text/plain": [
       "<Figure size 720x360 with 1 Axes>"
      ]
     },
     "metadata": {
      "needs_background": "light"
     },
     "output_type": "display_data"
    }
   ],
   "source": [
    "plt.figure(figsize=(10, 5))\n",
    "plt.semilogy(np.arange(len(loss_history)) * internal_iter + internal_iter - 1, loss_history, '-*', label='Full step loss')\n",
    "plt.semilogy(np.arange(len(internal_loss_history)), internal_loss_history, '--', label='Losses during LM optimization')\n",
    "plt.legend()\n",
    "plt.savefig(f'internal_and_full_{plot_counter}.pdf')\n",
    "plt.savefig(f'internal_and_full_{plot_counter}.png')"
   ]
  },
  {
   "cell_type": "code",
   "execution_count": 72,
   "metadata": {},
   "outputs": [
    {
     "data": {
      "text/plain": [
       "(tensor(6.1311, dtype=torch.float64, grad_fn=<MinBackward1>),\n",
       " tensor(15., dtype=torch.float64, grad_fn=<MaxBackward1>))"
      ]
     },
     "execution_count": 72,
     "metadata": {},
     "output_type": "execute_result"
    }
   ],
   "source": [
    "depth_first.min(), depth_first.max()"
   ]
  },
  {
   "cell_type": "code",
   "execution_count": 73,
   "metadata": {},
   "outputs": [
    {
     "data": {
      "text/plain": [
       "(6.15234375, 15.0)"
      ]
     },
     "execution_count": 73,
     "metadata": {},
     "output_type": "execute_result"
    }
   ],
   "source": [
    "depth_first_img_gt.min(), depth_first_img_gt.max()"
   ]
  },
  {
   "cell_type": "code",
   "execution_count": 56,
   "metadata": {},
   "outputs": [
    {
     "data": {
      "text/plain": [
       "<matplotlib.colorbar.Colorbar at 0x7f10a3aafe10>"
      ]
     },
     "execution_count": 56,
     "metadata": {},
     "output_type": "execute_result"
    },
    {
     "data": {
      "image/png": "[encoded data removed]",
      "text/plain": [
       "<Figure size 432x288 with 2 Axes>"
      ]
     },
     "metadata": {
      "needs_background": "light"
     },
     "output_type": "display_data"
    }
   ],
   "source": [
    "visualize_pcd(pc0, pc1)"
   ]
  },
  {
   "cell_type": "code",
   "execution_count": null,
   "metadata": {},
   "outputs": [],
   "source": []
  }
 ],
 "metadata": {
  "kernelspec": {
   "display_name": "Python 3",
   "language": "python",
   "name": "python3"
  },
  "language_info": {
   "codemirror_mode": {
    "name": "ipython",
    "version": 3
   },
   "file_extension": ".py",
   "mimetype": "text/x-python",
   "name": "python",
   "nbconvert_exporter": "python",
   "pygments_lexer": "ipython3",
   "version": "3.7.4"
  }
 },
 "nbformat": 4,
 "nbformat_minor": 4
}

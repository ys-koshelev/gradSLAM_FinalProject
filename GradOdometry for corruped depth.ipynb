{
 "cells": [
  {
   "cell_type": "code",
   "execution_count": null,
   "metadata": {},
   "outputs": [],
   "source": [
    "%load_ext autoreload\n",
    "%autoreload 2"
   ]
  },
  {
   "cell_type": "code",
   "execution_count": 27,
   "metadata": {},
   "outputs": [],
   "source": [
    "import os\n",
    "import open3d as o3d\n",
    "import numpy as np\n",
    "import matplotlib.pyplot as plt\n",
    "%matplotlib inline\n",
    "import OpenEXR as exr, Imath\n",
    "from tqdm import tqdm\n",
    "from glob import glob\n",
    "import cv2\n",
    "\n",
    "import torch\n",
    "import torch.nn as nn\n",
    "import torch.optim as optim\n",
    "import torch.nn.functional as F\n",
    "\n",
    "from utils.cloud import Cloud\n",
    "from pose_est import PoseEst, create_rot_from_angle, transform_pc, extrinsics_from_rot_transl, get_params_from_rot_and_transl\n",
    "from params_est import optim_step_ICP"
   ]
  },
  {
   "cell_type": "code",
   "execution_count": 3,
   "metadata": {},
   "outputs": [],
   "source": [
    "ksize = 10\n",
    "gt_extrinsics_dir = f'../data/synthetic/stylized-ww01-plane/blender_render_depth4_3x_more_frames_/'\n",
    "gt_depth_dir = '../data/synthetic/stylized-ww01-plane/blender_render_depth4_3x_more_frames_'\n",
    "shared_K_path = f'../data/synthetic/stylized-ww01-plane/blender_render_depth4_3x_more_frames_/K_0.txt'"
   ]
  },
  {
   "cell_type": "code",
   "execution_count": 4,
   "metadata": {},
   "outputs": [],
   "source": [
    "K = torch.tensor(np.loadtxt(shared_K_path)).double()"
   ]
  },
  {
   "cell_type": "code",
   "execution_count": 5,
   "metadata": {},
   "outputs": [
    {
     "data": {
      "text/plain": [
       "tensor([[2.6667e+03, 0.0000e+00, 9.6000e+02],\n",
       "        [0.0000e+00, 2.6667e+03, 5.4000e+02],\n",
       "        [0.0000e+00, 0.0000e+00, 1.0000e+00]], dtype=torch.float64)"
      ]
     },
     "execution_count": 5,
     "metadata": {},
     "output_type": "execute_result"
    }
   ],
   "source": [
    "K"
   ]
  },
  {
   "cell_type": "code",
   "execution_count": 6,
   "metadata": {},
   "outputs": [],
   "source": [
    "def load_data(depth_dir, gt_extrinsics_dir, indices, gt_depth_dir=None):\n",
    "    # indices: array-like of int\n",
    "    depth_all, RT_all, gt_depth_all = [], [], []\n",
    "    for ind in indices:\n",
    "        depth = np.load(os.path.join(depth_dir, f'{ind}.npy'))[..., 0]\n",
    "        RT = np.loadtxt(os.path.join(gt_extrinsics_dir, f'RT_{ind}.txt'))\n",
    "        depth_all.append(depth)\n",
    "        RT_all.append(RT)\n",
    "        if gt_depth_dir is not None:\n",
    "            gt_depth = np.load(os.path.join(gt_depth_dir, f'{ind}.npy'))\n",
    "            if len(gt_depth.shape) == 3 and gt_depth.shape[2] == 1:\n",
    "                gt_depth = gt_depth[..., 0]\n",
    "            gt_depth_all.append(gt_depth)\n",
    "    \n",
    "    depth_all = torch.tensor(np.stack(depth_all)).double()\n",
    "    RT_all = torch.tensor(np.stack(RT_all)).double()\n",
    "    if gt_depth_dir is not None:\n",
    "        gt_depth_all = torch.tensor(np.stack(gt_depth_all)).double()\n",
    "        return depth_all, RT_all, gt_depth_all\n",
    "    return depth_all, RT_all"
   ]
  },
  {
   "cell_type": "code",
   "execution_count": 7,
   "metadata": {},
   "outputs": [],
   "source": [
    "def corrupt_depth(depth, sigma=0.1):\n",
    "    mask = (depth != depth.max())\n",
    "    depth_new = depth.clone()\n",
    "    depth_new[mask] += (np.random.randn(*depth_new.shape) * sigma)[mask]\n",
    "    return depth_new"
   ]
  },
  {
   "cell_type": "code",
   "execution_count": 8,
   "metadata": {},
   "outputs": [],
   "source": [
    "depth, extr, gt_depth = load_data(gt_depth_dir, gt_extrinsics_dir, indices=[10, 50], gt_depth_dir=gt_depth_dir)\n",
    "depth = corrupt_depth(depth, sigma=0.01)"
   ]
  },
  {
   "cell_type": "code",
   "execution_count": 9,
   "metadata": {},
   "outputs": [
    {
     "data": {
      "text/plain": [
       "(tensor(6.1295, dtype=torch.float64), tensor(15., dtype=torch.float64))"
      ]
     },
     "execution_count": 9,
     "metadata": {},
     "output_type": "execute_result"
    }
   ],
   "source": [
    "depth[0].min(), depth[0].max()"
   ]
  },
  {
   "cell_type": "code",
   "execution_count": 10,
   "metadata": {},
   "outputs": [
    {
     "data": {
      "text/plain": [
       "(tensor(6.1523, dtype=torch.float64), tensor(15., dtype=torch.float64))"
      ]
     },
     "execution_count": 10,
     "metadata": {},
     "output_type": "execute_result"
    }
   ],
   "source": [
    "gt_depth[0].min(), gt_depth[0].max()"
   ]
  },
  {
   "cell_type": "code",
   "execution_count": 11,
   "metadata": {},
   "outputs": [
    {
     "data": {
      "text/plain": [
       "(tensor(6.1591, dtype=torch.float64), tensor(15., dtype=torch.float64))"
      ]
     },
     "execution_count": 11,
     "metadata": {},
     "output_type": "execute_result"
    }
   ],
   "source": [
    "depth[1].min(), depth[1].max()"
   ]
  },
  {
   "cell_type": "code",
   "execution_count": 12,
   "metadata": {},
   "outputs": [
    {
     "data": {
      "text/plain": [
       "(torch.Size([2, 1080, 1920]), torch.Size([2, 1080, 1920]))"
      ]
     },
     "execution_count": 12,
     "metadata": {},
     "output_type": "execute_result"
    }
   ],
   "source": [
    "depth.shape, gt_depth.shape"
   ]
  },
  {
   "cell_type": "markdown",
   "metadata": {},
   "source": [
    "### Testing visualization"
   ]
  },
  {
   "cell_type": "code",
   "execution_count": 13,
   "metadata": {},
   "outputs": [],
   "source": [
    "pc1 = Cloud.from_tensors(depth[0], K, extr[0], ignore='max')"
   ]
  },
  {
   "cell_type": "code",
   "execution_count": 14,
   "metadata": {},
   "outputs": [
    {
     "data": {
      "text/plain": [
       "tensor([[ 0.7027, -0.3325,  6.2884],\n",
       "        [ 0.7059, -0.3329,  6.2953],\n",
       "        [ 0.7080, -0.3328,  6.2936],\n",
       "        ...,\n",
       "        [ 0.0399,  0.8502,  6.6483],\n",
       "        [ 0.0423,  0.8495,  6.6430],\n",
       "        [ 0.0449,  0.8513,  6.6570]], dtype=torch.float64)"
      ]
     },
     "execution_count": 14,
     "metadata": {},
     "output_type": "execute_result"
    }
   ],
   "source": [
    "pc1.points"
   ]
  },
  {
   "cell_type": "code",
   "execution_count": 15,
   "metadata": {},
   "outputs": [],
   "source": [
    "def visualize_pcd(*cloud_objs):\n",
    "    all_pc_o3d = []\n",
    "    for cloud in cloud_objs:\n",
    "        cloud_pts = cloud.points.cpu().data.numpy()\n",
    "        pc_o3d = o3d.geometry.PointCloud(o3d.utility.Vector3dVector(cloud_pts))\n",
    "        all_pc_o3d.append(pc_o3d)\n",
    "    o3d.visualization.draw_geometries(all_pc_o3d)"
   ]
  },
  {
   "cell_type": "code",
   "execution_count": 50,
   "metadata": {},
   "outputs": [],
   "source": [
    "visualize_pcd(pc1)"
   ]
  },
  {
   "cell_type": "markdown",
   "metadata": {},
   "source": [
    "### Testing params estimation (ICP correspondence set till convergence + LM till convergence)"
   ]
  },
  {
   "cell_type": "code",
   "execution_count": 16,
   "metadata": {},
   "outputs": [],
   "source": [
    "depth, extr, gt_depth = load_data(gt_depth_dir, gt_extrinsics_dir, indices=[80, 120], gt_depth_dir=gt_depth_dir)\n",
    "depth = corrupt_depth(depth, sigma=0.01)"
   ]
  },
  {
   "cell_type": "code",
   "execution_count": 17,
   "metadata": {},
   "outputs": [],
   "source": [
    "pc0 = Cloud.from_tensors(depth[0], K, torch.eye(4), ignore='max')\n",
    "# pc1 = Cloud.from_tensors(depth[1], K, torch.eye(4), ignore='max')\n",
    "# pc0 = Cloud.from_tensors(gt_depth[0], K, torch.eye(4), ignore='max')\n",
    "pc1 = Cloud.from_tensors(gt_depth[1], K, torch.eye(4), ignore='max')"
   ]
  },
  {
   "cell_type": "code",
   "execution_count": 18,
   "metadata": {},
   "outputs": [],
   "source": [
    "visualize_pcd(pc0, pc1)"
   ]
  },
  {
   "cell_type": "code",
   "execution_count": 19,
   "metadata": {},
   "outputs": [
    {
     "name": "stdout",
     "output_type": "stream",
     "text": [
      "Correspondence set estimation...\n"
     ]
    },
    {
     "ename": "KeyboardInterrupt",
     "evalue": "",
     "output_type": "error",
     "traceback": [
      "\u001b[0;31m---------------------------------------------------------------------------\u001b[0m",
      "\u001b[0;31mKeyboardInterrupt\u001b[0m                         Traceback (most recent call last)",
      "\u001b[0;32m<ipython-input-19-b82ece6cb0d2>\u001b[0m in \u001b[0;36m<module>\u001b[0;34m\u001b[0m\n\u001b[1;32m      1\u001b[0m \u001b[0;31m# optimization step & pc0 update:\u001b[0m\u001b[0;34m\u001b[0m\u001b[0;34m\u001b[0m\u001b[0;34m\u001b[0m\u001b[0m\n\u001b[1;32m      2\u001b[0m \u001b[0;34m\u001b[0m\u001b[0m\n\u001b[0;32m----> 3\u001b[0;31m \u001b[0mparams\u001b[0m \u001b[0;34m=\u001b[0m \u001b[0moptim_step_ICP\u001b[0m\u001b[0;34m(\u001b[0m\u001b[0mpc0\u001b[0m\u001b[0;34m,\u001b[0m \u001b[0mpc1\u001b[0m\u001b[0;34m,\u001b[0m \u001b[0mmax_iter\u001b[0m\u001b[0;34m=\u001b[0m\u001b[0;36m100\u001b[0m\u001b[0;34m,\u001b[0m \u001b[0micp_max_iter\u001b[0m\u001b[0;34m=\u001b[0m\u001b[0;36m30\u001b[0m\u001b[0;34m,\u001b[0m \u001b[0mverbose\u001b[0m\u001b[0;34m=\u001b[0m\u001b[0;36m1\u001b[0m\u001b[0;34m)\u001b[0m\u001b[0;34m\u001b[0m\u001b[0;34m\u001b[0m\u001b[0m\n\u001b[0m\u001b[1;32m      4\u001b[0m \u001b[0mtransl\u001b[0m\u001b[0;34m,\u001b[0m \u001b[0mangle\u001b[0m \u001b[0;34m=\u001b[0m \u001b[0mparams\u001b[0m\u001b[0;34m.\u001b[0m\u001b[0msplit\u001b[0m\u001b[0;34m(\u001b[0m\u001b[0;34m[\u001b[0m\u001b[0;36m3\u001b[0m\u001b[0;34m,\u001b[0m \u001b[0;36m3\u001b[0m\u001b[0;34m]\u001b[0m\u001b[0;34m,\u001b[0m \u001b[0mdim\u001b[0m\u001b[0;34m=\u001b[0m\u001b[0;34m-\u001b[0m\u001b[0;36m1\u001b[0m\u001b[0;34m)\u001b[0m\u001b[0;34m\u001b[0m\u001b[0;34m\u001b[0m\u001b[0m\n\u001b[1;32m      5\u001b[0m \u001b[0mrot\u001b[0m \u001b[0;34m=\u001b[0m \u001b[0mcreate_rot_from_angle\u001b[0m\u001b[0;34m(\u001b[0m\u001b[0mangle\u001b[0m\u001b[0;34m.\u001b[0m\u001b[0munsqueeze\u001b[0m\u001b[0;34m(\u001b[0m\u001b[0;36m0\u001b[0m\u001b[0;34m)\u001b[0m\u001b[0;34m)\u001b[0m\u001b[0;34m.\u001b[0m\u001b[0msqueeze\u001b[0m\u001b[0;34m(\u001b[0m\u001b[0;36m0\u001b[0m\u001b[0;34m)\u001b[0m\u001b[0;34m\u001b[0m\u001b[0;34m\u001b[0m\u001b[0m\n",
      "\u001b[0;32m~/Документы/Сколтех, PhD/Perception in Robotics/project/repo/params_est.py\u001b[0m in \u001b[0;36moptim_step_ICP\u001b[0;34m(pc1, pc2, params_old, max_iter, icp_max_iter, verbose)\u001b[0m\n\u001b[1;32m     52\u001b[0m     \u001b[0mprint\u001b[0m\u001b[0;34m(\u001b[0m\u001b[0;34m'Correspondence set estimation...'\u001b[0m\u001b[0;34m)\u001b[0m\u001b[0;34m\u001b[0m\u001b[0;34m\u001b[0m\u001b[0m\n\u001b[1;32m     53\u001b[0m     reg_p2l = o3d.registration.registration_icp(pcA, pcB, 0.2, R,\n\u001b[0;32m---> 54\u001b[0;31m                                                 criteria=o3d.registration.ICPConvergenceCriteria(max_iteration=icp_max_iter))\n\u001b[0m\u001b[1;32m     55\u001b[0m \u001b[0;34m\u001b[0m\u001b[0m\n\u001b[1;32m     56\u001b[0m     \u001b[0mpc1_idx\u001b[0m\u001b[0;34m,\u001b[0m \u001b[0mpc2_idx\u001b[0m \u001b[0;34m=\u001b[0m \u001b[0mnp\u001b[0m\u001b[0;34m.\u001b[0m\u001b[0masarray\u001b[0m\u001b[0;34m(\u001b[0m\u001b[0mreg_p2l\u001b[0m\u001b[0;34m.\u001b[0m\u001b[0mcorrespondence_set\u001b[0m\u001b[0;34m)\u001b[0m\u001b[0;34m.\u001b[0m\u001b[0mT\u001b[0m\u001b[0;34m\u001b[0m\u001b[0;34m\u001b[0m\u001b[0m\n",
      "\u001b[0;31mKeyboardInterrupt\u001b[0m: "
     ]
    }
   ],
   "source": [
    "# optimization step & pc0 update:\n",
    "\n",
    "params = optim_step_ICP(pc0, pc1, max_iter=100, icp_max_iter=30, verbose=1)\n",
    "transl, angle = params.split([3, 3], dim=-1)\n",
    "rot = create_rot_from_angle(angle.unsqueeze(0)).squeeze(0)\n",
    "pc0.points = transform_pc(pc0.points, rot, transl).squeeze(1)\n",
    "params"
   ]
  },
  {
   "cell_type": "code",
   "execution_count": 61,
   "metadata": {},
   "outputs": [],
   "source": [
    "visualize_pcd(pc0, pc1)"
   ]
  },
  {
   "cell_type": "code",
   "execution_count": 62,
   "metadata": {},
   "outputs": [
    {
     "data": {
      "text/plain": [
       "tensor([-1.8027,  0.0821, -0.0754], dtype=torch.float64)"
      ]
     },
     "execution_count": 62,
     "metadata": {},
     "output_type": "execute_result"
    }
   ],
   "source": [
    "transl"
   ]
  },
  {
   "cell_type": "code",
   "execution_count": 63,
   "metadata": {},
   "outputs": [
    {
     "data": {
      "text/plain": [
       "tensor([[ 0.9647, -0.0272,  0.2619, -1.8027],\n",
       "        [ 0.0305,  0.9995, -0.0084,  0.0821],\n",
       "        [-0.2615,  0.0161,  0.9651, -0.0754],\n",
       "        [ 0.0000,  0.0000,  0.0000,  1.0000]], dtype=torch.float64)"
      ]
     },
     "execution_count": 63,
     "metadata": {},
     "output_type": "execute_result"
    }
   ],
   "source": [
    "extrinsics_from_rot_transl(rot, transl)"
   ]
  },
  {
   "cell_type": "code",
   "execution_count": 64,
   "metadata": {},
   "outputs": [
    {
     "data": {
      "text/plain": [
       "tensor([[ 0.9645, -0.0230,  0.2631, -1.8127],\n",
       "        [ 0.0252,  0.9997, -0.0051,  0.0583],\n",
       "        [-0.2629,  0.0116,  0.9647, -0.0723],\n",
       "        [ 0.0000,  0.0000,  0.0000,  1.0000]], dtype=torch.float64)"
      ]
     },
     "execution_count": 64,
     "metadata": {},
     "output_type": "execute_result"
    }
   ],
   "source": [
    "extr[1] @ torch.inverse(extr[0])"
   ]
  },
  {
   "cell_type": "markdown",
   "metadata": {},
   "source": [
    "### Testing params estimation ((ICP correspondence set 1 iteration + LM 1 iteration) x N_iter)"
   ]
  },
  {
   "cell_type": "code",
   "execution_count": 96,
   "metadata": {},
   "outputs": [],
   "source": [
    "depth, extr, gt_depth = load_data(gt_depth_dir, gt_extrinsics_dir, indices=[80, 120], gt_depth_dir=gt_depth_dir)\n",
    "depth = corrupt_depth(depth, sigma=0.01)"
   ]
  },
  {
   "cell_type": "code",
   "execution_count": 97,
   "metadata": {},
   "outputs": [],
   "source": [
    "pc0 = Cloud.from_tensors(depth[0], K, torch.eye(4), ignore='max')\n",
    "# pc1 = Cloud.from_tensors(depth[1], K, torch.eye(4), ignore='max')\n",
    "# pc0 = Cloud.from_tensors(gt_depth[0], K, torch.eye(4), ignore='max')\n",
    "pc1 = Cloud.from_tensors(gt_depth[1], K, torch.eye(4), ignore='max')"
   ]
  },
  {
   "cell_type": "code",
   "execution_count": 98,
   "metadata": {},
   "outputs": [],
   "source": [
    "visualize_pcd(pc0, pc1)"
   ]
  },
  {
   "cell_type": "code",
   "execution_count": 59,
   "metadata": {},
   "outputs": [],
   "source": [
    "def loss_T(T_estim, extr_first, extr_second):\n",
    "    gt_rel_extr = extr_second @ torch.inverse(extr_first)\n",
    "    loss_val = ((gt_rel_extr - T_estim) ** 2).sum()\n",
    "    return loss_val"
   ]
  },
  {
   "cell_type": "code",
   "execution_count": 60,
   "metadata": {},
   "outputs": [],
   "source": [
    "def loss_params(pred_params, extr_first, extr_second):\n",
    "    gt_rel_extr = extr_second @ torch.inverse(extr_first)\n",
    "    gt_params = get_params_from_rot_and_transl(gt_rel_extr[:3, :3], gt_rel_extr[:3, 3])\n",
    "    loss_val = ((pred_params - gt_params) ** 2).sum()\n",
    "    return loss_val"
   ]
  },
  {
   "cell_type": "code",
   "execution_count": 61,
   "metadata": {
    "scrolled": true
   },
   "outputs": [
    {
     "name": "stderr",
     "output_type": "stream",
     "text": [
      "\n",
      "\n",
      "\n",
      "\n",
      "\n",
      "  0%|          | 0/30 [00:00<?, ?it/s]\u001b[A\u001b[A\u001b[A\u001b[A\u001b[A"
     ]
    },
    {
     "name": "stdout",
     "output_type": "stream",
     "text": [
      "Correspondence set estimation...\n",
      "Extrinsics estimation...\n"
     ]
    },
    {
     "name": "stderr",
     "output_type": "stream",
     "text": [
      "\n",
      "\n",
      "\n",
      "\n",
      "\n",
      "  3%|▎         | 1/30 [00:05<02:37,  5.45s/it]\u001b[A\u001b[A\u001b[A\u001b[A\u001b[A"
     ]
    },
    {
     "name": "stdout",
     "output_type": "stream",
     "text": [
      "Did not converge with required tolerance.\n",
      "loss tensor(1.6122, dtype=torch.float64)\n",
      "Correspondence set estimation...\n",
      "Extrinsics estimation...\n"
     ]
    },
    {
     "name": "stderr",
     "output_type": "stream",
     "text": [
      "\n",
      "\n",
      "\n",
      "\n",
      "\n",
      "  7%|▋         | 2/30 [00:09<02:22,  5.11s/it]\u001b[A\u001b[A\u001b[A\u001b[A\u001b[A"
     ]
    },
    {
     "name": "stdout",
     "output_type": "stream",
     "text": [
      "loss tensor(0.6779, dtype=torch.float64)\n",
      "Correspondence set estimation...\n",
      "Extrinsics estimation...\n"
     ]
    },
    {
     "name": "stderr",
     "output_type": "stream",
     "text": [
      "\n",
      "\n",
      "\n",
      "\n",
      "\n",
      " 10%|█         | 3/30 [00:13<02:06,  4.69s/it]\u001b[A\u001b[A\u001b[A\u001b[A\u001b[A"
     ]
    },
    {
     "name": "stdout",
     "output_type": "stream",
     "text": [
      "loss tensor(0.0828, dtype=torch.float64)\n",
      "Correspondence set estimation...\n",
      "Extrinsics estimation...\n"
     ]
    },
    {
     "name": "stderr",
     "output_type": "stream",
     "text": [
      "\n",
      "\n",
      "\n",
      "\n",
      "\n",
      " 13%|█▎        | 4/30 [00:16<01:50,  4.26s/it]\u001b[A\u001b[A\u001b[A\u001b[A\u001b[A"
     ]
    },
    {
     "name": "stdout",
     "output_type": "stream",
     "text": [
      "loss tensor(0.0170, dtype=torch.float64)\n",
      "Correspondence set estimation...\n",
      "Extrinsics estimation...\n"
     ]
    },
    {
     "name": "stderr",
     "output_type": "stream",
     "text": [
      "\n",
      "\n",
      "\n",
      "\n",
      "\n",
      " 17%|█▋        | 5/30 [00:19<01:36,  3.85s/it]\u001b[A\u001b[A\u001b[A\u001b[A\u001b[A"
     ]
    },
    {
     "name": "stdout",
     "output_type": "stream",
     "text": [
      "Did not converge with required tolerance.\n",
      "loss tensor(0.0084, dtype=torch.float64)\n",
      "Correspondence set estimation...\n",
      "Extrinsics estimation...\n"
     ]
    },
    {
     "name": "stderr",
     "output_type": "stream",
     "text": [
      "\n",
      "\n",
      "\n",
      "\n",
      "\n",
      " 20%|██        | 6/30 [00:22<01:28,  3.69s/it]\u001b[A\u001b[A\u001b[A\u001b[A\u001b[A"
     ]
    },
    {
     "name": "stdout",
     "output_type": "stream",
     "text": [
      "Did not converge with required tolerance.\n",
      "loss tensor(0.0054, dtype=torch.float64)\n",
      "Correspondence set estimation...\n",
      "Extrinsics estimation...\n"
     ]
    },
    {
     "name": "stderr",
     "output_type": "stream",
     "text": [
      "\n",
      "\n",
      "\n",
      "\n",
      "\n",
      " 23%|██▎       | 7/30 [00:26<01:20,  3.51s/it]\u001b[A\u001b[A\u001b[A\u001b[A\u001b[A"
     ]
    },
    {
     "name": "stdout",
     "output_type": "stream",
     "text": [
      "Did not converge with required tolerance.\n",
      "loss tensor(0.0037, dtype=torch.float64)\n",
      "Correspondence set estimation...\n",
      "Extrinsics estimation...\n"
     ]
    },
    {
     "name": "stderr",
     "output_type": "stream",
     "text": [
      "\n",
      "\n",
      "\n",
      "\n",
      "\n",
      " 27%|██▋       | 8/30 [00:28<01:12,  3.31s/it]\u001b[A\u001b[A\u001b[A\u001b[A\u001b[A"
     ]
    },
    {
     "name": "stdout",
     "output_type": "stream",
     "text": [
      "Did not converge with required tolerance.\n",
      "loss tensor(0.0026, dtype=torch.float64)\n",
      "Correspondence set estimation...\n",
      "Extrinsics estimation...\n"
     ]
    },
    {
     "name": "stderr",
     "output_type": "stream",
     "text": [
      "\n",
      "\n",
      "\n",
      "\n",
      "\n",
      " 30%|███       | 9/30 [00:31<01:07,  3.19s/it]\u001b[A\u001b[A\u001b[A\u001b[A\u001b[A"
     ]
    },
    {
     "name": "stdout",
     "output_type": "stream",
     "text": [
      "Did not converge with required tolerance.\n",
      "loss tensor(0.0018, dtype=torch.float64)\n",
      "Correspondence set estimation...\n",
      "Extrinsics estimation...\n"
     ]
    },
    {
     "name": "stderr",
     "output_type": "stream",
     "text": [
      "\n",
      "\n",
      "\n",
      "\n",
      "\n",
      " 33%|███▎      | 10/30 [00:34<01:03,  3.19s/it]\u001b[A\u001b[A\u001b[A\u001b[A\u001b[A"
     ]
    },
    {
     "name": "stdout",
     "output_type": "stream",
     "text": [
      "Did not converge with required tolerance.\n",
      "loss tensor(0.0014, dtype=torch.float64)\n"
     ]
    },
    {
     "ename": "RuntimeError",
     "evalue": "Unable to cast Python instance to C++ type (compile in debug mode for details)",
     "output_type": "error",
     "traceback": [
      "\u001b[0;31m---------------------------------------------------------------------------\u001b[0m",
      "\u001b[0;31mRuntimeError\u001b[0m                              Traceback (most recent call last)",
      "\u001b[0;32m<ipython-input-61-61ab746b4264>\u001b[0m in \u001b[0;36m<module>\u001b[0;34m\u001b[0m\n\u001b[1;32m      3\u001b[0m \u001b[0mT\u001b[0m \u001b[0;34m=\u001b[0m \u001b[0mtorch\u001b[0m\u001b[0;34m.\u001b[0m\u001b[0meye\u001b[0m\u001b[0;34m(\u001b[0m\u001b[0;36m4\u001b[0m\u001b[0;34m)\u001b[0m\u001b[0;34m.\u001b[0m\u001b[0mdouble\u001b[0m\u001b[0;34m(\u001b[0m\u001b[0;34m)\u001b[0m\u001b[0;34m\u001b[0m\u001b[0;34m\u001b[0m\u001b[0m\n\u001b[1;32m      4\u001b[0m \u001b[0;32mfor\u001b[0m \u001b[0mi\u001b[0m \u001b[0;32min\u001b[0m \u001b[0mtqdm\u001b[0m\u001b[0;34m(\u001b[0m\u001b[0mrange\u001b[0m\u001b[0;34m(\u001b[0m\u001b[0mgradslam_iter\u001b[0m\u001b[0;34m)\u001b[0m\u001b[0;34m)\u001b[0m\u001b[0;34m:\u001b[0m\u001b[0;34m\u001b[0m\u001b[0;34m\u001b[0m\u001b[0m\n\u001b[0;32m----> 5\u001b[0;31m     \u001b[0mparams_upd\u001b[0m \u001b[0;34m=\u001b[0m \u001b[0moptim_step_ICP\u001b[0m\u001b[0;34m(\u001b[0m\u001b[0mpc0\u001b[0m\u001b[0;34m,\u001b[0m \u001b[0mpc1\u001b[0m\u001b[0;34m,\u001b[0m \u001b[0mmax_iter\u001b[0m\u001b[0;34m=\u001b[0m\u001b[0;36m10\u001b[0m\u001b[0;34m,\u001b[0m \u001b[0micp_max_iter\u001b[0m\u001b[0;34m=\u001b[0m\u001b[0;36m1\u001b[0m\u001b[0;34m,\u001b[0m \u001b[0mverbose\u001b[0m\u001b[0;34m=\u001b[0m\u001b[0;36m0\u001b[0m\u001b[0;34m)\u001b[0m\u001b[0;34m\u001b[0m\u001b[0;34m\u001b[0m\u001b[0m\n\u001b[0m\u001b[1;32m      6\u001b[0m     \u001b[0mtransl_upd\u001b[0m\u001b[0;34m,\u001b[0m \u001b[0mangle_upd\u001b[0m \u001b[0;34m=\u001b[0m \u001b[0mparams_upd\u001b[0m\u001b[0;34m.\u001b[0m\u001b[0msplit\u001b[0m\u001b[0;34m(\u001b[0m\u001b[0;34m[\u001b[0m\u001b[0;36m3\u001b[0m\u001b[0;34m,\u001b[0m \u001b[0;36m3\u001b[0m\u001b[0;34m]\u001b[0m\u001b[0;34m,\u001b[0m \u001b[0mdim\u001b[0m\u001b[0;34m=\u001b[0m\u001b[0;34m-\u001b[0m\u001b[0;36m1\u001b[0m\u001b[0;34m)\u001b[0m\u001b[0;34m\u001b[0m\u001b[0;34m\u001b[0m\u001b[0m\n\u001b[1;32m      7\u001b[0m     \u001b[0mrot_upd\u001b[0m \u001b[0;34m=\u001b[0m \u001b[0mcreate_rot_from_angle\u001b[0m\u001b[0;34m(\u001b[0m\u001b[0mangle_upd\u001b[0m\u001b[0;34m.\u001b[0m\u001b[0munsqueeze\u001b[0m\u001b[0;34m(\u001b[0m\u001b[0;36m0\u001b[0m\u001b[0;34m)\u001b[0m\u001b[0;34m)\u001b[0m\u001b[0;34m.\u001b[0m\u001b[0msqueeze\u001b[0m\u001b[0;34m(\u001b[0m\u001b[0;36m0\u001b[0m\u001b[0;34m)\u001b[0m\u001b[0;34m\u001b[0m\u001b[0;34m\u001b[0m\u001b[0m\n",
      "\u001b[0;32m~/Документы/Сколтех, PhD/Perception in Robotics/project/repo/params_est.py\u001b[0m in \u001b[0;36moptim_step_ICP\u001b[0;34m(pc1, pc2, params_old, max_iter, icp_max_iter, verbose)\u001b[0m\n\u001b[1;32m     45\u001b[0m \u001b[0;34m\u001b[0m\u001b[0m\n\u001b[1;32m     46\u001b[0m     \u001b[0mpcA\u001b[0m \u001b[0;34m=\u001b[0m \u001b[0mo3d\u001b[0m\u001b[0;34m.\u001b[0m\u001b[0mgeometry\u001b[0m\u001b[0;34m.\u001b[0m\u001b[0mPointCloud\u001b[0m\u001b[0;34m(\u001b[0m\u001b[0;34m)\u001b[0m\u001b[0;34m\u001b[0m\u001b[0;34m\u001b[0m\u001b[0m\n\u001b[0;32m---> 47\u001b[0;31m     \u001b[0mpcA\u001b[0m\u001b[0;34m.\u001b[0m\u001b[0mpoints\u001b[0m \u001b[0;34m=\u001b[0m \u001b[0mo3d\u001b[0m\u001b[0;34m.\u001b[0m\u001b[0mutility\u001b[0m\u001b[0;34m.\u001b[0m\u001b[0mVector3dVector\u001b[0m\u001b[0;34m(\u001b[0m\u001b[0mpc1\u001b[0m\u001b[0;34m.\u001b[0m\u001b[0mpoints\u001b[0m\u001b[0;34m.\u001b[0m\u001b[0mdetach\u001b[0m\u001b[0;34m(\u001b[0m\u001b[0;34m)\u001b[0m\u001b[0;34m)\u001b[0m\u001b[0;34m\u001b[0m\u001b[0;34m\u001b[0m\u001b[0m\n\u001b[0m\u001b[1;32m     48\u001b[0m \u001b[0;34m\u001b[0m\u001b[0m\n\u001b[1;32m     49\u001b[0m     \u001b[0mpcB\u001b[0m \u001b[0;34m=\u001b[0m \u001b[0mo3d\u001b[0m\u001b[0;34m.\u001b[0m\u001b[0mgeometry\u001b[0m\u001b[0;34m.\u001b[0m\u001b[0mPointCloud\u001b[0m\u001b[0;34m(\u001b[0m\u001b[0;34m)\u001b[0m\u001b[0;34m\u001b[0m\u001b[0;34m\u001b[0m\u001b[0m\n",
      "\u001b[0;31mRuntimeError\u001b[0m: Unable to cast Python instance to C++ type (compile in debug mode for details)"
     ]
    }
   ],
   "source": [
    "gradslam_iter = 30\n",
    "\n",
    "T = torch.eye(4).double()\n",
    "for i in tqdm(range(gradslam_iter)):\n",
    "    params_upd = optim_step_ICP(pc0, pc1, max_iter=10, icp_max_iter=1, verbose=0)\n",
    "    transl_upd, angle_upd = params_upd.split([3, 3], dim=-1)\n",
    "    rot_upd = create_rot_from_angle(angle_upd.unsqueeze(0)).squeeze(0)\n",
    "    pc0.points = transform_pc(pc0.points, rot_upd, transl_upd).squeeze(1)\n",
    "    \n",
    "    T_upd = extrinsics_from_rot_transl(rot_upd, transl_upd).double()\n",
    "    T = T_upd @ T\n",
    "    rot, transl = T[:3, :3], T[:3, 3]\n",
    "    params = get_params_from_rot_and_transl(rot, transl)\n",
    "    # print('loss', loss_T(T, extr[0], extr[1]))\n",
    "    print('loss', loss_params(params, extr[0], extr[1]))\n",
    "\n",
    "params"
   ]
  },
  {
   "cell_type": "markdown",
   "metadata": {},
   "source": [
    "### GradOdometry"
   ]
  },
  {
   "cell_type": "code",
   "execution_count": 125,
   "metadata": {},
   "outputs": [],
   "source": [
    "depth, extr, gt_depth = load_data(gt_depth_dir, gt_extrinsics_dir, indices=[80, 100], gt_depth_dir=gt_depth_dir)\n",
    "depth = corrupt_depth(depth, sigma=0.05)\n",
    "# depth = depth.requires_grad_()\n",
    "depth_first = depth[0].clone()\n",
    "depth_second = gt_depth[1].clone()\n",
    "_ = depth_first.requires_grad_()"
   ]
  },
  {
   "cell_type": "code",
   "execution_count": 126,
   "metadata": {},
   "outputs": [
    {
     "data": {
      "text/plain": [
       "(tensor(6.0589, dtype=torch.float64, grad_fn=<MinBackward1>),\n",
       " tensor(15., dtype=torch.float64, grad_fn=<MaxBackward1>))"
      ]
     },
     "execution_count": 126,
     "metadata": {},
     "output_type": "execute_result"
    }
   ],
   "source": [
    "depth_first.min(), depth_first.max()"
   ]
  },
  {
   "cell_type": "code",
   "execution_count": 129,
   "metadata": {},
   "outputs": [],
   "source": [
    "pc0 = Cloud.from_tensors(depth_first, K, torch.eye(4), ignore='max')\n",
    "# pc1 = Cloud.from_tensors(depth_second, K, torch.eye(4), ignore='max')\n",
    "# pc0 = Cloud.from_tensors(gt_depth[0], K, torch.eye(4), ignore='max')\n",
    "pc1 = Cloud.from_tensors(gt_depth[1], K, torch.eye(4), ignore='max')"
   ]
  },
  {
   "cell_type": "code",
   "execution_count": 130,
   "metadata": {},
   "outputs": [],
   "source": [
    "gt_pc0 = Cloud.from_tensors(gt_depth[0], K, torch.eye(4), ignore='max')\n",
    "gt_pc1 = Cloud.from_tensors(gt_depth[1], K, torch.eye(4), ignore='max')"
   ]
  },
  {
   "cell_type": "code",
   "execution_count": 131,
   "metadata": {},
   "outputs": [],
   "source": [
    "# pc0.mask = gt_pc0.mask\n",
    "# pc1.mask = gt_pc1.mask\n",
    "# pc0.update_data(pc0.depth, pc0.intrinsic, pc0.extrinsic, update_mask=False)\n",
    "# pc0.update_data(pc1.depth, pc1.intrinsic, pc1.extrinsic, update_mask=False)"
   ]
  },
  {
   "cell_type": "code",
   "execution_count": 132,
   "metadata": {},
   "outputs": [],
   "source": [
    "visualize_pcd(pc0, pc1)"
   ]
  },
  {
   "cell_type": "code",
   "execution_count": 133,
   "metadata": {},
   "outputs": [],
   "source": [
    "def loss_T(T_estim, extr_first, extr_second):\n",
    "    gt_rel_extr = extr_second @ torch.inverse(extr_first)\n",
    "    loss_val = ((gt_rel_extr - T_estim) ** 2).sum()\n",
    "    return loss_val"
   ]
  },
  {
   "cell_type": "code",
   "execution_count": 134,
   "metadata": {},
   "outputs": [],
   "source": [
    "def loss_params(pred_params, extr_first, extr_second):\n",
    "    gt_rel_extr = extr_second @ torch.inverse(extr_first)\n",
    "    gt_params = get_params_from_rot_and_transl(gt_rel_extr[:3, :3], gt_rel_extr[:3, 3])\n",
    "    loss_val = ((pred_params - gt_params) ** 2).sum()\n",
    "    return loss_val"
   ]
  },
  {
   "cell_type": "code",
   "execution_count": 135,
   "metadata": {},
   "outputs": [
    {
     "data": {
      "image/png": "[encoded data removed]",
      "text/plain": [
       "<Figure size 720x360 with 2 Axes>"
      ]
     },
     "metadata": {
      "needs_background": "light"
     },
     "output_type": "display_data"
    },
    {
     "name": "stderr",
     "output_type": "stream",
     "text": [
      "\n",
      "\n",
      "\n",
      "\n",
      "\n",
      "\n",
      "\n",
      "\n",
      "\n",
      "\n",
      "\n",
      "\n",
      "\n",
      "  0%|          | 0/30 [00:00<?, ?it/s]\u001b[A\u001b[A\u001b[A\u001b[A\u001b[A\u001b[A\u001b[A\u001b[A\u001b[A\u001b[A\u001b[A\u001b[A\u001b[A"
     ]
    },
    {
     "name": "stdout",
     "output_type": "stream",
     "text": [
      "L1 between depth_first pic with motion blur and GT: 0.0028480632212845493\n",
      "L1 between pc0 xyz and GT pc0 xyz: tensor(0.0148, dtype=torch.float64, grad_fn=<MeanBackward0>)\n",
      "Correspondence set estimation...\n",
      "Extrinsics estimation...\n",
      "loss tensor(0.1377, dtype=torch.float64)\n",
      "Correspondence set estimation...\n",
      "Extrinsics estimation...\n",
      "loss tensor(0.0389, dtype=torch.float64)\n",
      "Correspondence set estimation...\n",
      "Extrinsics estimation...\n",
      "Did not converge with required tolerance.\n",
      "loss tensor(0.0151, dtype=torch.float64)\n",
      "Correspondence set estimation...\n",
      "Extrinsics estimation...\n",
      "Did not converge with required tolerance.\n",
      "loss tensor(0.0067, dtype=torch.float64)\n",
      "Correspondence set estimation...\n",
      "Extrinsics estimation...\n",
      "Did not converge with required tolerance.\n",
      "loss tensor(0.0031, dtype=torch.float64)\n",
      "loss tensor(0.0031, dtype=torch.float64, grad_fn=<SumBackward0>)\n"
     ]
    },
    {
     "name": "stderr",
     "output_type": "stream",
     "text": [
      "\n",
      "\n",
      "\n",
      "\n",
      "\n",
      "\n",
      "\n",
      "\n",
      "\n",
      "\n",
      "\n",
      "\n",
      "\n",
      "  3%|▎         | 1/30 [02:06<1:01:06, 126.42s/it]\u001b[A\u001b[A\u001b[A\u001b[A\u001b[A\u001b[A\u001b[A\u001b[A\u001b[A\u001b[A\u001b[A\u001b[A\u001b[A"
     ]
    },
    {
     "name": "stdout",
     "output_type": "stream",
     "text": [
      "L1 between depth_first pic with motion blur and GT: 0.002913825990096315\n",
      "L1 between pc0 xyz and GT pc0 xyz: tensor(0.0345, dtype=torch.float64, grad_fn=<MeanBackward0>)\n",
      "Correspondence set estimation...\n",
      "Extrinsics estimation...\n",
      "loss tensor(0.1095, dtype=torch.float64)\n",
      "Correspondence set estimation...\n",
      "Extrinsics estimation...\n",
      "loss tensor(0.0210, dtype=torch.float64)\n",
      "Correspondence set estimation...\n",
      "Extrinsics estimation...\n",
      "Did not converge with required tolerance.\n",
      "loss tensor(0.0045, dtype=torch.float64)\n",
      "Correspondence set estimation...\n",
      "Extrinsics estimation...\n",
      "Did not converge with required tolerance.\n",
      "loss tensor(0.0006, dtype=torch.float64)\n",
      "Correspondence set estimation...\n",
      "Extrinsics estimation...\n",
      "Did not converge with required tolerance.\n",
      "loss tensor(5.9014e-05, dtype=torch.float64)\n",
      "loss tensor(5.9014e-05, dtype=torch.float64, grad_fn=<SumBackward0>)\n"
     ]
    },
    {
     "name": "stderr",
     "output_type": "stream",
     "text": [
      "\n",
      "\n",
      "\n",
      "\n",
      "\n",
      "\n",
      "\n",
      "\n",
      "\n",
      "\n",
      "\n",
      "\n",
      "\n",
      "  7%|▋         | 2/30 [04:59<1:05:33, 140.47s/it]\u001b[A\u001b[A\u001b[A\u001b[A\u001b[A\u001b[A\u001b[A\u001b[A\u001b[A\u001b[A\u001b[A\u001b[A\u001b[A"
     ]
    },
    {
     "name": "stdout",
     "output_type": "stream",
     "text": [
      "L1 between depth_first pic with motion blur and GT: 0.0030093373935780733\n",
      "L1 between pc0 xyz and GT pc0 xyz: tensor(0.0340, dtype=torch.float64, grad_fn=<MeanBackward0>)\n",
      "Correspondence set estimation...\n",
      "Extrinsics estimation...\n",
      "loss tensor(0.0950, dtype=torch.float64)\n",
      "Correspondence set estimation...\n",
      "Extrinsics estimation...\n",
      "loss tensor(0.0131, dtype=torch.float64)\n",
      "Correspondence set estimation...\n",
      "Extrinsics estimation...\n",
      "Did not converge with required tolerance.\n",
      "loss tensor(0.0012, dtype=torch.float64)\n",
      "Correspondence set estimation...\n",
      "Extrinsics estimation...\n",
      "Did not converge with required tolerance.\n",
      "loss tensor(0.0002, dtype=torch.float64)\n",
      "Correspondence set estimation...\n",
      "Extrinsics estimation...\n",
      "Did not converge with required tolerance.\n",
      "loss tensor(0.0014, dtype=torch.float64)\n",
      "loss tensor(0.0014, dtype=torch.float64, grad_fn=<SumBackward0>)\n"
     ]
    },
    {
     "name": "stderr",
     "output_type": "stream",
     "text": [
      "\n",
      "\n",
      "\n",
      "\n",
      "\n",
      "\n",
      "\n",
      "\n",
      "\n",
      "\n",
      "\n",
      "\n",
      "\n",
      " 10%|█         | 3/30 [06:37<57:26, 127.66s/it]  \u001b[A\u001b[A\u001b[A\u001b[A\u001b[A\u001b[A\u001b[A\u001b[A\u001b[A\u001b[A\u001b[A\u001b[A\u001b[A"
     ]
    },
    {
     "name": "stdout",
     "output_type": "stream",
     "text": [
      "L1 between depth_first pic with motion blur and GT: 0.0030211199544848692\n",
      "L1 between pc0 xyz and GT pc0 xyz: tensor(0.0339, dtype=torch.float64, grad_fn=<MeanBackward0>)\n",
      "Correspondence set estimation...\n",
      "Extrinsics estimation...\n",
      "loss tensor(0.0930, dtype=torch.float64)\n",
      "Correspondence set estimation...\n",
      "Extrinsics estimation...\n",
      "loss tensor(0.0123, dtype=torch.float64)\n",
      "Correspondence set estimation...\n",
      "Extrinsics estimation...\n",
      "Did not converge with required tolerance.\n",
      "loss tensor(0.0010, dtype=torch.float64)\n",
      "Correspondence set estimation...\n",
      "Extrinsics estimation...\n",
      "Did not converge with required tolerance.\n",
      "loss tensor(0.0002, dtype=torch.float64)\n",
      "Correspondence set estimation...\n",
      "Extrinsics estimation...\n",
      "Did not converge with required tolerance.\n",
      "loss tensor(0.0016, dtype=torch.float64)\n",
      "loss tensor(0.0016, dtype=torch.float64, grad_fn=<SumBackward0>)\n"
     ]
    },
    {
     "ename": "KeyboardInterrupt",
     "evalue": "",
     "output_type": "error",
     "traceback": [
      "\u001b[0;31m---------------------------------------------------------------------------\u001b[0m",
      "\u001b[0;31mKeyboardInterrupt\u001b[0m                         Traceback (most recent call last)",
      "\u001b[0;32m<ipython-input-135-05a452472806>\u001b[0m in \u001b[0;36m<module>\u001b[0;34m\u001b[0m\n\u001b[1;32m     45\u001b[0m     \u001b[0mloss_history\u001b[0m\u001b[0;34m.\u001b[0m\u001b[0mappend\u001b[0m\u001b[0;34m(\u001b[0m\u001b[0mloss_val\u001b[0m\u001b[0;34m.\u001b[0m\u001b[0mitem\u001b[0m\u001b[0;34m(\u001b[0m\u001b[0;34m)\u001b[0m\u001b[0;34m)\u001b[0m\u001b[0;34m\u001b[0m\u001b[0;34m\u001b[0m\u001b[0m\n\u001b[1;32m     46\u001b[0m     \u001b[0mprint\u001b[0m\u001b[0;34m(\u001b[0m\u001b[0;34m'loss'\u001b[0m\u001b[0;34m,\u001b[0m \u001b[0mloss_val\u001b[0m\u001b[0;34m)\u001b[0m\u001b[0;34m\u001b[0m\u001b[0;34m\u001b[0m\u001b[0m\n\u001b[0;32m---> 47\u001b[0;31m     \u001b[0mloss_val\u001b[0m\u001b[0;34m.\u001b[0m\u001b[0mbackward\u001b[0m\u001b[0;34m(\u001b[0m\u001b[0;34m)\u001b[0m\u001b[0;34m\u001b[0m\u001b[0;34m\u001b[0m\u001b[0m\n\u001b[0m\u001b[1;32m     48\u001b[0m     \u001b[0mopt\u001b[0m\u001b[0;34m.\u001b[0m\u001b[0mstep\u001b[0m\u001b[0;34m(\u001b[0m\u001b[0;34m)\u001b[0m\u001b[0;34m\u001b[0m\u001b[0;34m\u001b[0m\u001b[0m\n\u001b[1;32m     49\u001b[0m \u001b[0;34m\u001b[0m\u001b[0m\n",
      "\u001b[0;32m~/miniconda3/lib/python3.7/site-packages/torch/tensor.py\u001b[0m in \u001b[0;36mbackward\u001b[0;34m(self, gradient, retain_graph, create_graph)\u001b[0m\n\u001b[1;32m    193\u001b[0m                 \u001b[0mproducts\u001b[0m\u001b[0;34m.\u001b[0m \u001b[0mDefaults\u001b[0m \u001b[0mto\u001b[0m\u001b[0;31m \u001b[0m\u001b[0;31m`\u001b[0m\u001b[0;31m`\u001b[0m\u001b[0;32mFalse\u001b[0m\u001b[0;31m`\u001b[0m\u001b[0;31m`\u001b[0m\u001b[0;34m.\u001b[0m\u001b[0;34m\u001b[0m\u001b[0;34m\u001b[0m\u001b[0m\n\u001b[1;32m    194\u001b[0m         \"\"\"\n\u001b[0;32m--> 195\u001b[0;31m         \u001b[0mtorch\u001b[0m\u001b[0;34m.\u001b[0m\u001b[0mautograd\u001b[0m\u001b[0;34m.\u001b[0m\u001b[0mbackward\u001b[0m\u001b[0;34m(\u001b[0m\u001b[0mself\u001b[0m\u001b[0;34m,\u001b[0m \u001b[0mgradient\u001b[0m\u001b[0;34m,\u001b[0m \u001b[0mretain_graph\u001b[0m\u001b[0;34m,\u001b[0m \u001b[0mcreate_graph\u001b[0m\u001b[0;34m)\u001b[0m\u001b[0;34m\u001b[0m\u001b[0;34m\u001b[0m\u001b[0m\n\u001b[0m\u001b[1;32m    196\u001b[0m \u001b[0;34m\u001b[0m\u001b[0m\n\u001b[1;32m    197\u001b[0m     \u001b[0;32mdef\u001b[0m \u001b[0mregister_hook\u001b[0m\u001b[0;34m(\u001b[0m\u001b[0mself\u001b[0m\u001b[0;34m,\u001b[0m \u001b[0mhook\u001b[0m\u001b[0;34m)\u001b[0m\u001b[0;34m:\u001b[0m\u001b[0;34m\u001b[0m\u001b[0;34m\u001b[0m\u001b[0m\n",
      "\u001b[0;32m~/miniconda3/lib/python3.7/site-packages/torch/autograd/__init__.py\u001b[0m in \u001b[0;36mbackward\u001b[0;34m(tensors, grad_tensors, retain_graph, create_graph, grad_variables)\u001b[0m\n\u001b[1;32m     97\u001b[0m     Variable._execution_engine.run_backward(\n\u001b[1;32m     98\u001b[0m         \u001b[0mtensors\u001b[0m\u001b[0;34m,\u001b[0m \u001b[0mgrad_tensors\u001b[0m\u001b[0;34m,\u001b[0m \u001b[0mretain_graph\u001b[0m\u001b[0;34m,\u001b[0m \u001b[0mcreate_graph\u001b[0m\u001b[0;34m,\u001b[0m\u001b[0;34m\u001b[0m\u001b[0;34m\u001b[0m\u001b[0m\n\u001b[0;32m---> 99\u001b[0;31m         allow_unreachable=True)  # allow_unreachable flag\n\u001b[0m\u001b[1;32m    100\u001b[0m \u001b[0;34m\u001b[0m\u001b[0m\n\u001b[1;32m    101\u001b[0m \u001b[0;34m\u001b[0m\u001b[0m\n",
      "\u001b[0;31mKeyboardInterrupt\u001b[0m: "
     ]
    }
   ],
   "source": [
    "gradslam_iter = 30\n",
    "internal_iter = 5\n",
    "opt = optim.Adam([depth_first], lr=1e-2)\n",
    "\n",
    "depth_history = []\n",
    "loss_history = []\n",
    "internal_loss_history = []\n",
    "\n",
    "depth_first_img = depth_first.cpu().data.numpy()\n",
    "depth_first_img_gt = gt_depth[0].cpu().data.numpy()\n",
    "depth_history.append(depth_first_img)\n",
    "plt.figure(figsize=(10, 5))\n",
    "plt.imshow(depth_first_img, cmap=plt.cm.Greys_r)\n",
    "plt.colorbar()\n",
    "plt.show()\n",
    "print('L1 between depth_first pic with motion blur and GT:', (np.abs(depth_first_img - depth_first_img_gt).mean()))\n",
    "print('L1 between pc0 xyz and GT pc0 xyz:', (torch.abs(pc0.points - gt_pc0.points).mean()))\n",
    "\n",
    "for i in tqdm(range(gradslam_iter)):\n",
    "    pc0 = Cloud.from_tensors(depth_first, K, torch.eye(4), ignore='max')\n",
    "    pc1 = Cloud.from_tensors(depth_second, K, torch.eye(4), ignore='max')\n",
    "    \n",
    "    T = torch.eye(4).double()\n",
    "    \n",
    "    visualize_pcd(pc0)\n",
    "  \n",
    "    for j in range(internal_iter):\n",
    "        params_upd = optim_step_ICP(pc0, pc1, max_iter=10, icp_max_iter=1, verbose=0)\n",
    "        transl_upd, angle_upd = params_upd.split([3, 3], dim=-1)\n",
    "        rot_upd = create_rot_from_angle(angle_upd.unsqueeze(0)).squeeze(0)\n",
    "        pc0.points = transform_pc(pc0.points, rot_upd, transl_upd).squeeze(1)\n",
    "\n",
    "        T_upd = extrinsics_from_rot_transl(rot_upd, transl_upd).double()\n",
    "        T = T_upd @ T\n",
    "        rot, transl = T[:3, :3], T[:3, 3]\n",
    "        params = get_params_from_rot_and_transl(rot, transl)\n",
    "        # print('loss', loss_T(T, extr[0], extr[1]))\n",
    "        # print('loss', loss_params(params, extr[0], extr[1]))\n",
    "        loss_val = loss_params(params, extr[0], extr[1]).detach()\n",
    "        internal_loss_history.append(loss_val.item())\n",
    "        print('loss', loss_val)\n",
    "    \n",
    "    opt.zero_grad()\n",
    "    loss_val = loss_params(params, extr[0], extr[1])\n",
    "    loss_history.append(loss_val.item())\n",
    "    print('loss', loss_val)\n",
    "    loss_val.backward()\n",
    "    opt.step()\n",
    "    \n",
    "#     if i % 5 == 0:\n",
    "#         visualize_pcd(pc0, pc1)\n",
    "    \n",
    "    depth_first_img = depth_first.cpu().data.numpy()\n",
    "    depth_first_img_gt = gt_depth[0].cpu().data.numpy()\n",
    "    depth_history.append(depth_first_img)\n",
    "#     plt.figure(figsize=(10, 5))\n",
    "#     plt.imshow(depth_first_img, cmap=plt.cm.Greys_r)\n",
    "#     plt.colorbar()\n",
    "#     plt.show()\n",
    "    print('L1 between depth_first pic with motion blur and GT:', (np.abs(depth_first_img - depth_first_img_gt).mean()))\n",
    "    print('L1 between pc0 xyz and GT pc0 xyz:', (torch.abs(pc0.points - gt_pc0.points).mean()))"
   ]
  },
  {
   "cell_type": "code",
   "execution_count": null,
   "metadata": {},
   "outputs": [],
   "source": [
    "plt.plot(loss)"
   ]
  },
  {
   "cell_type": "code",
   "execution_count": 72,
   "metadata": {},
   "outputs": [
    {
     "data": {
      "text/plain": [
       "(tensor(6.1311, dtype=torch.float64, grad_fn=<MinBackward1>),\n",
       " tensor(15., dtype=torch.float64, grad_fn=<MaxBackward1>))"
      ]
     },
     "execution_count": 72,
     "metadata": {},
     "output_type": "execute_result"
    }
   ],
   "source": [
    "depth_first.min(), depth_first.max()"
   ]
  },
  {
   "cell_type": "code",
   "execution_count": 73,
   "metadata": {},
   "outputs": [
    {
     "data": {
      "text/plain": [
       "(6.15234375, 15.0)"
      ]
     },
     "execution_count": 73,
     "metadata": {},
     "output_type": "execute_result"
    }
   ],
   "source": [
    "depth_first_img_gt.min(), depth_first_img_gt.max()"
   ]
  },
  {
   "cell_type": "code",
   "execution_count": 56,
   "metadata": {},
   "outputs": [
    {
     "data": {
      "text/plain": [
       "<matplotlib.colorbar.Colorbar at 0x7f10a3aafe10>"
      ]
     },
     "execution_count": 56,
     "metadata": {},
     "output_type": "execute_result"
    },
    {
     "data": {
      "image/png": "[encoded data removed]",
      "text/plain": [
       "<Figure size 432x288 with 2 Axes>"
      ]
     },
     "metadata": {
      "needs_background": "light"
     },
     "output_type": "display_data"
    }
   ],
   "source": [
    "visualize_pcd(pc0, pc1)"
   ]
  },
  {
   "cell_type": "code",
   "execution_count": null,
   "metadata": {},
   "outputs": [],
   "source": []
  }
 ],
 "metadata": {
  "kernelspec": {
   "display_name": "Python 3",
   "language": "python",
   "name": "python3"
  },
  "language_info": {
   "codemirror_mode": {
    "name": "ipython",
    "version": 3
   },
   "file_extension": ".py",
   "mimetype": "text/x-python",
   "name": "python",
   "nbconvert_exporter": "python",
   "pygments_lexer": "ipython3",
   "version": "3.7.4"
  }
 },
 "nbformat": 4,
 "nbformat_minor": 4
}

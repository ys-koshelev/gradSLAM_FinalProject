{
 "cells": [
  {
   "cell_type": "code",
   "execution_count": 35,
   "metadata": {},
   "outputs": [
    {
     "name": "stdout",
     "output_type": "stream",
     "text": [
      "The autoreload extension is already loaded. To reload it, use:\n",
      "  %reload_ext autoreload\n"
     ]
    }
   ],
   "source": [
    "%load_ext autoreload\n",
    "%autoreload 2"
   ]
  },
  {
   "cell_type": "code",
   "execution_count": 36,
   "metadata": {},
   "outputs": [],
   "source": [
    "import os\n",
    "import open3d as o3d\n",
    "import numpy as np\n",
    "import matplotlib.pyplot as plt\n",
    "%matplotlib inline\n",
    "import OpenEXR as exr, Imath\n",
    "from tqdm import tqdm\n",
    "from glob import glob\n",
    "import cv2\n",
    "\n",
    "import torch\n",
    "import torch.nn as nn\n",
    "import torch.optim as optim\n",
    "import torch.nn.functional as F\n",
    "\n",
    "from utils.cloud import Cloud\n",
    "from pose_est import PoseEst, create_rot_from_angle, transform_pc, extrinsics_from_rot_transl, get_params_from_rot_and_transl\n",
    "from params_est import optim_step_ICP, optim_step_neighbors"
   ]
  },
  {
   "cell_type": "code",
   "execution_count": 37,
   "metadata": {},
   "outputs": [],
   "source": [
    "plot_counter = 0"
   ]
  },
  {
   "cell_type": "code",
   "execution_count": 38,
   "metadata": {},
   "outputs": [],
   "source": [
    "ksize = 10\n",
    "gt_extrinsics_dir = f'../data/synthetic/stylized-ww01-plane/blender_render_depth4_3x_more_frames_/'\n",
    "gt_depth_dir = '../data/synthetic/stylized-ww01-plane/blender_render_depth4_3x_more_frames_'\n",
    "shared_K_path = f'../data/synthetic/stylized-ww01-plane/blender_render_depth4_3x_more_frames_/K_0.txt'"
   ]
  },
  {
   "cell_type": "code",
   "execution_count": 39,
   "metadata": {},
   "outputs": [],
   "source": [
    "K = torch.tensor(np.loadtxt(shared_K_path)).double()"
   ]
  },
  {
   "cell_type": "code",
   "execution_count": 40,
   "metadata": {},
   "outputs": [
    {
     "data": {
      "text/plain": [
       "tensor([[2.6667e+03, 0.0000e+00, 9.6000e+02],\n",
       "        [0.0000e+00, 2.6667e+03, 5.4000e+02],\n",
       "        [0.0000e+00, 0.0000e+00, 1.0000e+00]], dtype=torch.float64)"
      ]
     },
     "execution_count": 40,
     "metadata": {},
     "output_type": "execute_result"
    }
   ],
   "source": [
    "K"
   ]
  },
  {
   "cell_type": "code",
   "execution_count": 41,
   "metadata": {},
   "outputs": [],
   "source": [
    "def load_data(depth_dir, gt_extrinsics_dir, indices, gt_depth_dir=None):\n",
    "    # indices: array-like of int\n",
    "    depth_all, RT_all, gt_depth_all = [], [], []\n",
    "    for ind in indices:\n",
    "        depth = np.load(os.path.join(depth_dir, f'{ind}.npy'))[..., 0]\n",
    "        RT = np.loadtxt(os.path.join(gt_extrinsics_dir, f'RT_{ind}.txt'))\n",
    "        depth_all.append(depth)\n",
    "        RT_all.append(RT)\n",
    "        if gt_depth_dir is not None:\n",
    "            gt_depth = np.load(os.path.join(gt_depth_dir, f'{ind}.npy'))\n",
    "            if len(gt_depth.shape) == 3 and gt_depth.shape[2] == 1:\n",
    "                gt_depth = gt_depth[..., 0]\n",
    "            gt_depth_all.append(gt_depth)\n",
    "    \n",
    "    depth_all = torch.tensor(np.stack(depth_all)).double()\n",
    "    RT_all = torch.tensor(np.stack(RT_all)).double()\n",
    "    if gt_depth_dir is not None:\n",
    "        gt_depth_all = torch.tensor(np.stack(gt_depth_all)).double()\n",
    "        return depth_all, RT_all, gt_depth_all\n",
    "    return depth_all, RT_all"
   ]
  },
  {
   "cell_type": "code",
   "execution_count": 42,
   "metadata": {},
   "outputs": [],
   "source": [
    "def corrupt_depth(depth, sigma=0.1):\n",
    "    mask = (depth != depth.max())\n",
    "    depth_new = depth.clone()\n",
    "    depth_new[mask] += (np.random.randn(*depth_new.shape) * sigma)[mask]\n",
    "    return depth_new"
   ]
  },
  {
   "cell_type": "code",
   "execution_count": 20,
   "metadata": {},
   "outputs": [],
   "source": [
    "depth, extr, gt_depth = load_data(gt_depth_dir, gt_extrinsics_dir, indices=[10, 50], gt_depth_dir=gt_depth_dir)\n",
    "#depth = corrupt_depth(depth, sigma=0.1)"
   ]
  },
  {
   "cell_type": "code",
   "execution_count": 9,
   "metadata": {},
   "outputs": [
    {
     "data": {
      "text/plain": [
       "(tensor(6.1295, dtype=torch.float64), tensor(15., dtype=torch.float64))"
      ]
     },
     "execution_count": 9,
     "metadata": {},
     "output_type": "execute_result"
    }
   ],
   "source": [
    "depth[0].min(), depth[0].max()"
   ]
  },
  {
   "cell_type": "code",
   "execution_count": 10,
   "metadata": {},
   "outputs": [
    {
     "data": {
      "text/plain": [
       "(tensor(6.1523, dtype=torch.float64), tensor(15., dtype=torch.float64))"
      ]
     },
     "execution_count": 10,
     "metadata": {},
     "output_type": "execute_result"
    }
   ],
   "source": [
    "gt_depth[0].min(), gt_depth[0].max()"
   ]
  },
  {
   "cell_type": "code",
   "execution_count": 11,
   "metadata": {},
   "outputs": [
    {
     "data": {
      "text/plain": [
       "(tensor(6.1591, dtype=torch.float64), tensor(15., dtype=torch.float64))"
      ]
     },
     "execution_count": 11,
     "metadata": {},
     "output_type": "execute_result"
    }
   ],
   "source": [
    "depth[1].min(), depth[1].max()"
   ]
  },
  {
   "cell_type": "code",
   "execution_count": 12,
   "metadata": {},
   "outputs": [
    {
     "data": {
      "text/plain": [
       "(torch.Size([2, 1080, 1920]), torch.Size([2, 1080, 1920]))"
      ]
     },
     "execution_count": 12,
     "metadata": {},
     "output_type": "execute_result"
    }
   ],
   "source": [
    "depth.shape, gt_depth.shape"
   ]
  },
  {
   "cell_type": "markdown",
   "metadata": {},
   "source": [
    "### Testing visualization"
   ]
  },
  {
   "cell_type": "code",
   "execution_count": 21,
   "metadata": {},
   "outputs": [],
   "source": [
    "pc1 = Cloud.from_tensors(depth[0], K, extr[0], ignore='max')"
   ]
  },
  {
   "cell_type": "code",
   "execution_count": 22,
   "metadata": {},
   "outputs": [
    {
     "data": {
      "text/plain": [
       "tensor([[ 0.7028, -0.3325,  6.2891],\n",
       "        [ 0.7052, -0.3325,  6.2891],\n",
       "        [ 0.7071, -0.3323,  6.2852],\n",
       "        ...,\n",
       "        [ 0.0399,  0.8502,  6.6484],\n",
       "        [ 0.0424,  0.8502,  6.6484],\n",
       "        [ 0.0449,  0.8507,  6.6523]], dtype=torch.float64)"
      ]
     },
     "execution_count": 22,
     "metadata": {},
     "output_type": "execute_result"
    }
   ],
   "source": [
    "pc1.points"
   ]
  },
  {
   "cell_type": "code",
   "execution_count": 43,
   "metadata": {},
   "outputs": [],
   "source": [
    "def visualize_pcd(*cloud_objs):\n",
    "    all_pc_o3d = []\n",
    "    for cloud in cloud_objs:\n",
    "        cloud_pts = cloud.points.cpu().data.numpy()\n",
    "        pc_o3d = o3d.geometry.PointCloud(o3d.utility.Vector3dVector(cloud_pts))\n",
    "        all_pc_o3d.append(pc_o3d)\n",
    "    o3d.visualization.draw_geometries(all_pc_o3d)"
   ]
  },
  {
   "cell_type": "code",
   "execution_count": 24,
   "metadata": {},
   "outputs": [],
   "source": [
    "visualize_pcd(pc1)"
   ]
  },
  {
   "cell_type": "markdown",
   "metadata": {},
   "source": [
    "### Testing params estimation (ICP correspondence set till convergence + LM till convergence)"
   ]
  },
  {
   "cell_type": "code",
   "execution_count": 16,
   "metadata": {},
   "outputs": [],
   "source": [
    "depth, extr, gt_depth = load_data(gt_depth_dir, gt_extrinsics_dir, indices=[80, 120], gt_depth_dir=gt_depth_dir)\n",
    "depth = corrupt_depth(depth, sigma=0.01)"
   ]
  },
  {
   "cell_type": "code",
   "execution_count": 17,
   "metadata": {},
   "outputs": [],
   "source": [
    "pc0 = Cloud.from_tensors(depth[0], K, torch.eye(4), ignore='max')\n",
    "# pc1 = Cloud.from_tensors(depth[1], K, torch.eye(4), ignore='max')\n",
    "# pc0 = Cloud.from_tensors(gt_depth[0], K, torch.eye(4), ignore='max')\n",
    "pc1 = Cloud.from_tensors(gt_depth[1], K, torch.eye(4), ignore='max')"
   ]
  },
  {
   "cell_type": "code",
   "execution_count": 18,
   "metadata": {},
   "outputs": [],
   "source": [
    "visualize_pcd(pc0, pc1)"
   ]
  },
  {
   "cell_type": "code",
   "execution_count": 19,
   "metadata": {},
   "outputs": [
    {
     "name": "stdout",
     "output_type": "stream",
     "text": [
      "Correspondence set estimation...\n"
     ]
    },
    {
     "ename": "KeyboardInterrupt",
     "evalue": "",
     "output_type": "error",
     "traceback": [
      "\u001b[0;31m---------------------------------------------------------------------------\u001b[0m",
      "\u001b[0;31mKeyboardInterrupt\u001b[0m                         Traceback (most recent call last)",
      "\u001b[0;32m<ipython-input-19-b82ece6cb0d2>\u001b[0m in \u001b[0;36m<module>\u001b[0;34m\u001b[0m\n\u001b[1;32m      1\u001b[0m \u001b[0;31m# optimization step & pc0 update:\u001b[0m\u001b[0;34m\u001b[0m\u001b[0;34m\u001b[0m\u001b[0;34m\u001b[0m\u001b[0m\n\u001b[1;32m      2\u001b[0m \u001b[0;34m\u001b[0m\u001b[0m\n\u001b[0;32m----> 3\u001b[0;31m \u001b[0mparams\u001b[0m \u001b[0;34m=\u001b[0m \u001b[0moptim_step_ICP\u001b[0m\u001b[0;34m(\u001b[0m\u001b[0mpc0\u001b[0m\u001b[0;34m,\u001b[0m \u001b[0mpc1\u001b[0m\u001b[0;34m,\u001b[0m \u001b[0mmax_iter\u001b[0m\u001b[0;34m=\u001b[0m\u001b[0;36m100\u001b[0m\u001b[0;34m,\u001b[0m \u001b[0micp_max_iter\u001b[0m\u001b[0;34m=\u001b[0m\u001b[0;36m30\u001b[0m\u001b[0;34m,\u001b[0m \u001b[0mverbose\u001b[0m\u001b[0;34m=\u001b[0m\u001b[0;36m1\u001b[0m\u001b[0;34m)\u001b[0m\u001b[0;34m\u001b[0m\u001b[0;34m\u001b[0m\u001b[0m\n\u001b[0m\u001b[1;32m      4\u001b[0m \u001b[0mtransl\u001b[0m\u001b[0;34m,\u001b[0m \u001b[0mangle\u001b[0m \u001b[0;34m=\u001b[0m \u001b[0mparams\u001b[0m\u001b[0;34m.\u001b[0m\u001b[0msplit\u001b[0m\u001b[0;34m(\u001b[0m\u001b[0;34m[\u001b[0m\u001b[0;36m3\u001b[0m\u001b[0;34m,\u001b[0m \u001b[0;36m3\u001b[0m\u001b[0;34m]\u001b[0m\u001b[0;34m,\u001b[0m \u001b[0mdim\u001b[0m\u001b[0;34m=\u001b[0m\u001b[0;34m-\u001b[0m\u001b[0;36m1\u001b[0m\u001b[0;34m)\u001b[0m\u001b[0;34m\u001b[0m\u001b[0;34m\u001b[0m\u001b[0m\n\u001b[1;32m      5\u001b[0m \u001b[0mrot\u001b[0m \u001b[0;34m=\u001b[0m \u001b[0mcreate_rot_from_angle\u001b[0m\u001b[0;34m(\u001b[0m\u001b[0mangle\u001b[0m\u001b[0;34m.\u001b[0m\u001b[0munsqueeze\u001b[0m\u001b[0;34m(\u001b[0m\u001b[0;36m0\u001b[0m\u001b[0;34m)\u001b[0m\u001b[0;34m)\u001b[0m\u001b[0;34m.\u001b[0m\u001b[0msqueeze\u001b[0m\u001b[0;34m(\u001b[0m\u001b[0;36m0\u001b[0m\u001b[0;34m)\u001b[0m\u001b[0;34m\u001b[0m\u001b[0;34m\u001b[0m\u001b[0m\n",
      "\u001b[0;32m~/Документы/Сколтех, PhD/Perception in Robotics/project/repo/params_est.py\u001b[0m in \u001b[0;36moptim_step_ICP\u001b[0;34m(pc1, pc2, params_old, max_iter, icp_max_iter, verbose)\u001b[0m\n\u001b[1;32m     52\u001b[0m     \u001b[0mprint\u001b[0m\u001b[0;34m(\u001b[0m\u001b[0;34m'Correspondence set estimation...'\u001b[0m\u001b[0;34m)\u001b[0m\u001b[0;34m\u001b[0m\u001b[0;34m\u001b[0m\u001b[0m\n\u001b[1;32m     53\u001b[0m     reg_p2l = o3d.registration.registration_icp(pcA, pcB, 0.2, R,\n\u001b[0;32m---> 54\u001b[0;31m                                                 criteria=o3d.registration.ICPConvergenceCriteria(max_iteration=icp_max_iter))\n\u001b[0m\u001b[1;32m     55\u001b[0m \u001b[0;34m\u001b[0m\u001b[0m\n\u001b[1;32m     56\u001b[0m     \u001b[0mpc1_idx\u001b[0m\u001b[0;34m,\u001b[0m \u001b[0mpc2_idx\u001b[0m \u001b[0;34m=\u001b[0m \u001b[0mnp\u001b[0m\u001b[0;34m.\u001b[0m\u001b[0masarray\u001b[0m\u001b[0;34m(\u001b[0m\u001b[0mreg_p2l\u001b[0m\u001b[0;34m.\u001b[0m\u001b[0mcorrespondence_set\u001b[0m\u001b[0;34m)\u001b[0m\u001b[0;34m.\u001b[0m\u001b[0mT\u001b[0m\u001b[0;34m\u001b[0m\u001b[0;34m\u001b[0m\u001b[0m\n",
      "\u001b[0;31mKeyboardInterrupt\u001b[0m: "
     ]
    }
   ],
   "source": [
    "# optimization step & pc0 update:\n",
    "\n",
    "params = optim_step_ICP(pc0, pc1, max_iter=100, icp_max_iter=30, verbose=1)\n",
    "transl, angle = params.split([3, 3], dim=-1)\n",
    "rot = create_rot_from_angle(angle.unsqueeze(0)).squeeze(0)\n",
    "pc0.points = transform_pc(pc0.points, rot, transl).squeeze(1)\n",
    "params"
   ]
  },
  {
   "cell_type": "code",
   "execution_count": 61,
   "metadata": {},
   "outputs": [],
   "source": [
    "visualize_pcd(pc0, pc1)"
   ]
  },
  {
   "cell_type": "code",
   "execution_count": 62,
   "metadata": {},
   "outputs": [
    {
     "data": {
      "text/plain": [
       "tensor([-1.8027,  0.0821, -0.0754], dtype=torch.float64)"
      ]
     },
     "execution_count": 62,
     "metadata": {},
     "output_type": "execute_result"
    }
   ],
   "source": [
    "transl"
   ]
  },
  {
   "cell_type": "code",
   "execution_count": 63,
   "metadata": {},
   "outputs": [
    {
     "data": {
      "text/plain": [
       "tensor([[ 0.9647, -0.0272,  0.2619, -1.8027],\n",
       "        [ 0.0305,  0.9995, -0.0084,  0.0821],\n",
       "        [-0.2615,  0.0161,  0.9651, -0.0754],\n",
       "        [ 0.0000,  0.0000,  0.0000,  1.0000]], dtype=torch.float64)"
      ]
     },
     "execution_count": 63,
     "metadata": {},
     "output_type": "execute_result"
    }
   ],
   "source": [
    "extrinsics_from_rot_transl(rot, transl)"
   ]
  },
  {
   "cell_type": "code",
   "execution_count": 64,
   "metadata": {},
   "outputs": [
    {
     "data": {
      "text/plain": [
       "tensor([[ 0.9645, -0.0230,  0.2631, -1.8127],\n",
       "        [ 0.0252,  0.9997, -0.0051,  0.0583],\n",
       "        [-0.2629,  0.0116,  0.9647, -0.0723],\n",
       "        [ 0.0000,  0.0000,  0.0000,  1.0000]], dtype=torch.float64)"
      ]
     },
     "execution_count": 64,
     "metadata": {},
     "output_type": "execute_result"
    }
   ],
   "source": [
    "extr[1] @ torch.inverse(extr[0])"
   ]
  },
  {
   "cell_type": "markdown",
   "metadata": {},
   "source": [
    "### Testing params estimation ((ICP correspondence set 1 iteration + LM 1 iteration) x N_iter)"
   ]
  },
  {
   "cell_type": "code",
   "execution_count": 44,
   "metadata": {},
   "outputs": [],
   "source": [
    "depth, extr, gt_depth = load_data(gt_depth_dir, gt_extrinsics_dir, indices=[80, 120], gt_depth_dir=gt_depth_dir)\n",
    "depth = corrupt_depth(depth, sigma=0.01)"
   ]
  },
  {
   "cell_type": "code",
   "execution_count": 45,
   "metadata": {},
   "outputs": [],
   "source": [
    "pc0 = Cloud.from_tensors(depth[0], K, torch.eye(4), ignore='max')\n",
    "# pc1 = Cloud.from_tensors(depth[1], K, torch.eye(4), ignore='max')\n",
    "# pc0 = Cloud.from_tensors(gt_depth[0], K, torch.eye(4), ignore='max')\n",
    "pc1 = Cloud.from_tensors(gt_depth[1], K, torch.eye(4), ignore='max')"
   ]
  },
  {
   "cell_type": "code",
   "execution_count": 46,
   "metadata": {},
   "outputs": [],
   "source": [
    "visualize_pcd(pc0, pc1)"
   ]
  },
  {
   "cell_type": "code",
   "execution_count": 47,
   "metadata": {},
   "outputs": [],
   "source": [
    "def loss_T(T_estim, extr_first, extr_second):\n",
    "    gt_rel_extr = extr_second @ torch.inverse(extr_first)\n",
    "    loss_val = ((gt_rel_extr - T_estim) ** 2).sum()\n",
    "    return loss_val"
   ]
  },
  {
   "cell_type": "code",
   "execution_count": 48,
   "metadata": {},
   "outputs": [],
   "source": [
    "def loss_params(pred_params, extr_first, extr_second):\n",
    "    gt_rel_extr = extr_second @ torch.inverse(extr_first)\n",
    "    gt_params = get_params_from_rot_and_transl(gt_rel_extr[:3, :3], gt_rel_extr[:3, 3])\n",
    "    loss_val = ((pred_params - gt_params) ** 2).sum()\n",
    "    return loss_val"
   ]
  },
  {
   "cell_type": "code",
   "execution_count": 49,
   "metadata": {
    "scrolled": true
   },
   "outputs": [
    {
     "name": "stderr",
     "output_type": "stream",
     "text": [
      "  0%|          | 0/30 [00:00<?, ?it/s]"
     ]
    },
    {
     "name": "stdout",
     "output_type": "stream",
     "text": [
      "Correspondence set estimation...\n"
     ]
    },
    {
     "name": "stderr",
     "output_type": "stream",
     "text": [
      "  0%|          | 0/30 [00:01<?, ?it/s]\n"
     ]
    },
    {
     "ename": "NameError",
     "evalue": "name 'n_pts_A' is not defined",
     "output_type": "error",
     "traceback": [
      "\u001b[0;31m---------------------------------------------------------------------------\u001b[0m",
      "\u001b[0;31mNameError\u001b[0m                                 Traceback (most recent call last)",
      "\u001b[0;32m<ipython-input-49-e899f94a0c73>\u001b[0m in \u001b[0;36m<module>\u001b[0;34m\u001b[0m\n\u001b[1;32m      3\u001b[0m \u001b[0mT\u001b[0m \u001b[0;34m=\u001b[0m \u001b[0mtorch\u001b[0m\u001b[0;34m.\u001b[0m\u001b[0meye\u001b[0m\u001b[0;34m(\u001b[0m\u001b[0;36m4\u001b[0m\u001b[0;34m)\u001b[0m\u001b[0;34m.\u001b[0m\u001b[0mdouble\u001b[0m\u001b[0;34m(\u001b[0m\u001b[0;34m)\u001b[0m\u001b[0;34m\u001b[0m\u001b[0;34m\u001b[0m\u001b[0m\n\u001b[1;32m      4\u001b[0m \u001b[0;32mfor\u001b[0m \u001b[0mi\u001b[0m \u001b[0;32min\u001b[0m \u001b[0mtqdm\u001b[0m\u001b[0;34m(\u001b[0m\u001b[0mrange\u001b[0m\u001b[0;34m(\u001b[0m\u001b[0mgradslam_iter\u001b[0m\u001b[0;34m)\u001b[0m\u001b[0;34m)\u001b[0m\u001b[0;34m:\u001b[0m\u001b[0;34m\u001b[0m\u001b[0;34m\u001b[0m\u001b[0m\n\u001b[0;32m----> 5\u001b[0;31m     \u001b[0mparams_upd\u001b[0m \u001b[0;34m=\u001b[0m \u001b[0moptim_step_neighbors\u001b[0m\u001b[0;34m(\u001b[0m\u001b[0mpc0\u001b[0m\u001b[0;34m,\u001b[0m \u001b[0mpc1\u001b[0m\u001b[0;34m,\u001b[0m \u001b[0mmax_iter\u001b[0m\u001b[0;34m=\u001b[0m\u001b[0;36m10\u001b[0m\u001b[0;34m,\u001b[0m \u001b[0mneighbors_take_each\u001b[0m\u001b[0;34m=\u001b[0m\u001b[0;36m1000\u001b[0m\u001b[0;34m,\u001b[0m \u001b[0mverbose\u001b[0m\u001b[0;34m=\u001b[0m\u001b[0;36m0\u001b[0m\u001b[0;34m)\u001b[0m\u001b[0;34m\u001b[0m\u001b[0;34m\u001b[0m\u001b[0m\n\u001b[0m\u001b[1;32m      6\u001b[0m     \u001b[0mtransl_upd\u001b[0m\u001b[0;34m,\u001b[0m \u001b[0mangle_upd\u001b[0m \u001b[0;34m=\u001b[0m \u001b[0mparams_upd\u001b[0m\u001b[0;34m.\u001b[0m\u001b[0msplit\u001b[0m\u001b[0;34m(\u001b[0m\u001b[0;34m[\u001b[0m\u001b[0;36m3\u001b[0m\u001b[0;34m,\u001b[0m \u001b[0;36m3\u001b[0m\u001b[0;34m]\u001b[0m\u001b[0;34m,\u001b[0m \u001b[0mdim\u001b[0m\u001b[0;34m=\u001b[0m\u001b[0;34m-\u001b[0m\u001b[0;36m1\u001b[0m\u001b[0;34m)\u001b[0m\u001b[0;34m\u001b[0m\u001b[0;34m\u001b[0m\u001b[0m\n\u001b[1;32m      7\u001b[0m     \u001b[0mrot_upd\u001b[0m \u001b[0;34m=\u001b[0m \u001b[0mcreate_rot_from_angle\u001b[0m\u001b[0;34m(\u001b[0m\u001b[0mangle_upd\u001b[0m\u001b[0;34m.\u001b[0m\u001b[0munsqueeze\u001b[0m\u001b[0;34m(\u001b[0m\u001b[0;36m0\u001b[0m\u001b[0;34m)\u001b[0m\u001b[0;34m)\u001b[0m\u001b[0;34m.\u001b[0m\u001b[0msqueeze\u001b[0m\u001b[0;34m(\u001b[0m\u001b[0;36m0\u001b[0m\u001b[0;34m)\u001b[0m\u001b[0;34m\u001b[0m\u001b[0;34m\u001b[0m\u001b[0m\n",
      "\u001b[0;32m~/Документы/Сколтех, PhD/Perception in Robotics/project/repo/params_est.py\u001b[0m in \u001b[0;36moptim_step_neighbors\u001b[0;34m(pc1, pc2, params_old, max_iter, neighbors_take_each, verbose)\u001b[0m\n\u001b[1;32m    112\u001b[0m     \u001b[0mreg_p2l\u001b[0m \u001b[0;34m=\u001b[0m \u001b[0mtorch\u001b[0m\u001b[0;34m.\u001b[0m\u001b[0margmin\u001b[0m\u001b[0;34m(\u001b[0m\u001b[0mcdist\u001b[0m\u001b[0;34m,\u001b[0m \u001b[0maxis\u001b[0m\u001b[0;34m=\u001b[0m\u001b[0;36m1\u001b[0m\u001b[0;34m)\u001b[0m\u001b[0;34m\u001b[0m\u001b[0;34m\u001b[0m\u001b[0m\n\u001b[1;32m    113\u001b[0m \u001b[0;34m\u001b[0m\u001b[0m\n\u001b[0;32m--> 114\u001b[0;31m     \u001b[0mpc1_idx\u001b[0m \u001b[0;34m=\u001b[0m \u001b[0mtorch\u001b[0m\u001b[0;34m.\u001b[0m\u001b[0marange\u001b[0m\u001b[0;34m(\u001b[0m\u001b[0mn_pts_A\u001b[0m\u001b[0;34m)\u001b[0m\u001b[0;34m[\u001b[0m\u001b[0;34m:\u001b[0m\u001b[0;34m:\u001b[0m\u001b[0mneighbors_take_each\u001b[0m\u001b[0;34m]\u001b[0m\u001b[0;34m\u001b[0m\u001b[0;34m\u001b[0m\u001b[0m\n\u001b[0m\u001b[1;32m    115\u001b[0m     \u001b[0mpc2_idx\u001b[0m \u001b[0;34m=\u001b[0m \u001b[0mreg_p2l\u001b[0m\u001b[0;34m\u001b[0m\u001b[0;34m\u001b[0m\u001b[0m\n\u001b[1;32m    116\u001b[0m \u001b[0;34m\u001b[0m\u001b[0m\n",
      "\u001b[0;31mNameError\u001b[0m: name 'n_pts_A' is not defined"
     ]
    }
   ],
   "source": [
    "gradslam_iter = 30\n",
    "\n",
    "T = torch.eye(4).double()\n",
    "for i in tqdm(range(gradslam_iter)):\n",
    "    params_upd = optim_step_neighbors(pc0, pc1, max_iter=10, neighbors_take_each=1000, verbose=0)\n",
    "    transl_upd, angle_upd = params_upd.split([3, 3], dim=-1)\n",
    "    rot_upd = create_rot_from_angle(angle_upd.unsqueeze(0)).squeeze(0)\n",
    "    pc0.points = transform_pc(pc0.points, rot_upd, transl_upd).squeeze(1)\n",
    "    \n",
    "    T_upd = extrinsics_from_rot_transl(rot_upd, transl_upd).double()\n",
    "    T = T_upd @ T\n",
    "    rot, transl = T[:3, :3], T[:3, 3]\n",
    "    params = get_params_from_rot_and_transl(rot, transl)\n",
    "    # print('loss', loss_T(T, extr[0], extr[1]))\n",
    "    print('loss', loss_params(params, extr[0], extr[1]))\n",
    "\n",
    "params"
   ]
  },
  {
   "cell_type": "markdown",
   "metadata": {},
   "source": [
    "### GradOdometry"
   ]
  },
  {
   "cell_type": "code",
   "execution_count": 26,
   "metadata": {},
   "outputs": [],
   "source": [
    "depth, extr, gt_depth = load_data(gt_depth_dir, gt_extrinsics_dir, indices=[80, 100], gt_depth_dir=gt_depth_dir)\n",
    "depth = corrupt_depth(depth, sigma=0.3)\n",
    "# depth = depth.requires_grad_()\n",
    "depth_first = depth[0].clone()\n",
    "depth_second = gt_depth[1].clone()\n",
    "_ = depth_first.requires_grad_()"
   ]
  },
  {
   "cell_type": "code",
   "execution_count": 27,
   "metadata": {},
   "outputs": [
    {
     "data": {
      "text/plain": [
       "(tensor(5.1976, dtype=torch.float64, grad_fn=<MinBackward1>),\n",
       " tensor(15., dtype=torch.float64, grad_fn=<MaxBackward1>))"
      ]
     },
     "execution_count": 27,
     "metadata": {},
     "output_type": "execute_result"
    }
   ],
   "source": [
    "depth_first.min(), depth_first.max()"
   ]
  },
  {
   "cell_type": "code",
   "execution_count": 28,
   "metadata": {},
   "outputs": [],
   "source": [
    "pc0 = Cloud.from_tensors(depth_first, K, torch.eye(4), ignore='max')\n",
    "# pc1 = Cloud.from_tensors(depth_second, K, torch.eye(4), ignore='max')\n",
    "# pc0 = Cloud.from_tensors(gt_depth[0], K, torch.eye(4), ignore='max')\n",
    "pc1 = Cloud.from_tensors(gt_depth[1], K, torch.eye(4), ignore='max')"
   ]
  },
  {
   "cell_type": "code",
   "execution_count": 29,
   "metadata": {},
   "outputs": [],
   "source": [
    "gt_pc0 = Cloud.from_tensors(gt_depth[0], K, torch.eye(4), ignore='max')\n",
    "gt_pc1 = Cloud.from_tensors(gt_depth[1], K, torch.eye(4), ignore='max')"
   ]
  },
  {
   "cell_type": "code",
   "execution_count": 30,
   "metadata": {},
   "outputs": [],
   "source": [
    "# pc0.mask = gt_pc0.mask\n",
    "# pc1.mask = gt_pc1.mask\n",
    "# pc0.update_data(pc0.depth, pc0.intrinsic, pc0.extrinsic, update_mask=False)\n",
    "# pc0.update_data(pc1.depth, pc1.intrinsic, pc1.extrinsic, update_mask=False)"
   ]
  },
  {
   "cell_type": "code",
   "execution_count": 31,
   "metadata": {},
   "outputs": [],
   "source": [
    "# visualize_pcd(pc0, pc1)\n",
    "visualize_pcd(pc0)"
   ]
  },
  {
   "cell_type": "code",
   "execution_count": 32,
   "metadata": {},
   "outputs": [],
   "source": [
    "def loss_T(T_estim, extr_first, extr_second):\n",
    "    gt_rel_extr = extr_second @ torch.inverse(extr_first)\n",
    "    loss_val = ((gt_rel_extr - T_estim) ** 2).sum()\n",
    "    return loss_val"
   ]
  },
  {
   "cell_type": "code",
   "execution_count": 33,
   "metadata": {},
   "outputs": [],
   "source": [
    "def loss_params(pred_params, extr_first, extr_second):\n",
    "    gt_rel_extr = extr_second @ torch.inverse(extr_first)\n",
    "    gt_params = get_params_from_rot_and_transl(gt_rel_extr[:3, :3], gt_rel_extr[:3, 3])\n",
    "    loss_val = ((pred_params - gt_params) ** 2).sum()\n",
    "    return loss_val"
   ]
  },
  {
   "cell_type": "code",
   "execution_count": 34,
   "metadata": {
    "scrolled": true
   },
   "outputs": [
    {
     "name": "stderr",
     "output_type": "stream",
     "text": [
      "  0%|          | 0/30 [00:00<?, ?it/s]"
     ]
    },
    {
     "name": "stdout",
     "output_type": "stream",
     "text": [
      "L1 between depth_first pic with motion blur and GT: 0.01704908272121904\n",
      "L1 between pc0 xyz and GT pc0 xyz: tensor(0.0887, dtype=torch.float64, grad_fn=<MeanBackward0>)\n",
      "Correspondence set estimation...\n",
      "Extrinsics estimation...\n",
      "Did not converge with required tolerance.\n",
      "loss tensor(0.7935, dtype=torch.float64)\n",
      "Correspondence set estimation...\n",
      "Extrinsics estimation...\n",
      "Did not converge with required tolerance.\n",
      "loss tensor(0.7613, dtype=torch.float64)\n",
      "Correspondence set estimation...\n",
      "Extrinsics estimation...\n",
      "Did not converge with required tolerance.\n",
      "loss tensor(0.7356, dtype=torch.float64)\n",
      "Correspondence set estimation...\n",
      "Extrinsics estimation...\n",
      "Did not converge with required tolerance.\n",
      "loss tensor(0.7408, dtype=torch.float64)\n",
      "Correspondence set estimation...\n",
      "Extrinsics estimation...\n",
      "Did not converge with required tolerance.\n",
      "loss tensor(0.7382, dtype=torch.float64)\n",
      "Correspondence set estimation...\n",
      "Extrinsics estimation...\n",
      "Did not converge with required tolerance.\n",
      "loss tensor(0.7415, dtype=torch.float64)\n",
      "Correspondence set estimation...\n",
      "Extrinsics estimation...\n",
      "Did not converge with required tolerance.\n",
      "loss tensor(0.7440, dtype=torch.float64)\n",
      "Correspondence set estimation...\n",
      "Extrinsics estimation...\n",
      "Did not converge with required tolerance.\n",
      "loss tensor(0.7493, dtype=torch.float64)\n",
      "Correspondence set estimation...\n",
      "Extrinsics estimation...\n",
      "Did not converge with required tolerance.\n",
      "loss tensor(0.7435, dtype=torch.float64)\n",
      "Correspondence set estimation...\n",
      "Extrinsics estimation...\n",
      "Did not converge with required tolerance.\n",
      "loss tensor(0.7421, dtype=torch.float64)\n",
      "loss tensor(0.7421, dtype=torch.float64, grad_fn=<SumBackward0>)\n"
     ]
    },
    {
     "name": "stderr",
     "output_type": "stream",
     "text": [
      "  3%|▎         | 1/30 [00:23<11:32, 23.89s/it]"
     ]
    },
    {
     "name": "stdout",
     "output_type": "stream",
     "text": [
      "L1 between depth_first pic with motion blur and GT: 0.017049054705269056\n",
      "L1 between pc0 xyz and GT pc0 xyz: tensor(0.1039, dtype=torch.float64, grad_fn=<MeanBackward0>)\n",
      "Correspondence set estimation...\n",
      "Extrinsics estimation...\n",
      "Did not converge with required tolerance.\n",
      "loss tensor(0.7699, dtype=torch.float64)\n",
      "Correspondence set estimation...\n",
      "Extrinsics estimation...\n",
      "Did not converge with required tolerance.\n",
      "loss tensor(0.7425, dtype=torch.float64)\n",
      "Correspondence set estimation...\n",
      "Extrinsics estimation...\n",
      "Did not converge with required tolerance.\n",
      "loss tensor(0.7144, dtype=torch.float64)\n",
      "Correspondence set estimation...\n",
      "Extrinsics estimation...\n",
      "Did not converge with required tolerance.\n",
      "loss tensor(0.7063, dtype=torch.float64)\n",
      "Correspondence set estimation...\n",
      "Extrinsics estimation...\n",
      "Did not converge with required tolerance.\n",
      "loss tensor(0.6967, dtype=torch.float64)\n",
      "Correspondence set estimation...\n",
      "Extrinsics estimation...\n",
      "Did not converge with required tolerance.\n",
      "loss tensor(0.6865, dtype=torch.float64)\n",
      "Correspondence set estimation...\n",
      "Extrinsics estimation...\n",
      "Did not converge with required tolerance.\n",
      "loss tensor(0.6845, dtype=torch.float64)\n",
      "Correspondence set estimation...\n",
      "Extrinsics estimation...\n",
      "Did not converge with required tolerance.\n",
      "loss tensor(0.6851, dtype=torch.float64)\n",
      "Correspondence set estimation...\n",
      "Extrinsics estimation...\n",
      "Did not converge with required tolerance.\n",
      "loss tensor(0.6858, dtype=torch.float64)\n",
      "Correspondence set estimation...\n",
      "Extrinsics estimation...\n",
      "Did not converge with required tolerance.\n",
      "loss tensor(0.6861, dtype=torch.float64)\n",
      "loss tensor(0.6861, dtype=torch.float64, grad_fn=<SumBackward0>)\n"
     ]
    },
    {
     "name": "stderr",
     "output_type": "stream",
     "text": [
      "  7%|▋         | 2/30 [00:47<11:08, 23.88s/it]"
     ]
    },
    {
     "name": "stdout",
     "output_type": "stream",
     "text": [
      "L1 between depth_first pic with motion blur and GT: 0.017049028519384085\n",
      "L1 between pc0 xyz and GT pc0 xyz: tensor(0.1034, dtype=torch.float64, grad_fn=<MeanBackward0>)\n",
      "Correspondence set estimation...\n",
      "Extrinsics estimation...\n",
      "Did not converge with required tolerance.\n",
      "loss tensor(0.7569, dtype=torch.float64)\n",
      "Correspondence set estimation...\n",
      "Extrinsics estimation...\n",
      "Did not converge with required tolerance.\n",
      "loss tensor(0.7232, dtype=torch.float64)\n",
      "Correspondence set estimation...\n",
      "Extrinsics estimation...\n",
      "Did not converge with required tolerance.\n",
      "loss tensor(0.6910, dtype=torch.float64)\n",
      "Correspondence set estimation...\n",
      "Extrinsics estimation...\n",
      "Did not converge with required tolerance.\n",
      "loss tensor(0.6805, dtype=torch.float64)\n",
      "Correspondence set estimation...\n",
      "Extrinsics estimation...\n",
      "Did not converge with required tolerance.\n",
      "loss tensor(0.6521, dtype=torch.float64)\n",
      "Correspondence set estimation...\n",
      "Extrinsics estimation...\n",
      "Did not converge with required tolerance.\n",
      "loss tensor(0.6458, dtype=torch.float64)\n",
      "Correspondence set estimation...\n",
      "Extrinsics estimation...\n",
      "Did not converge with required tolerance.\n",
      "loss tensor(0.6491, dtype=torch.float64)\n",
      "Correspondence set estimation...\n",
      "Extrinsics estimation...\n",
      "Did not converge with required tolerance.\n",
      "loss tensor(0.6503, dtype=torch.float64)\n",
      "Correspondence set estimation...\n",
      "Extrinsics estimation...\n",
      "Did not converge with required tolerance.\n",
      "loss tensor(0.6514, dtype=torch.float64)\n",
      "Correspondence set estimation...\n",
      "Extrinsics estimation...\n",
      "Did not converge with required tolerance.\n",
      "loss tensor(0.6514, dtype=torch.float64)\n",
      "loss tensor(0.6514, dtype=torch.float64, grad_fn=<SumBackward0>)\n"
     ]
    },
    {
     "name": "stderr",
     "output_type": "stream",
     "text": [
      " 10%|█         | 3/30 [01:10<10:35, 23.55s/it]"
     ]
    },
    {
     "name": "stdout",
     "output_type": "stream",
     "text": [
      "L1 between depth_first pic with motion blur and GT: 0.017049005190462662\n",
      "L1 between pc0 xyz and GT pc0 xyz: tensor(0.1033, dtype=torch.float64, grad_fn=<MeanBackward0>)\n",
      "Correspondence set estimation...\n",
      "Extrinsics estimation...\n",
      "Did not converge with required tolerance.\n",
      "loss tensor(0.7254, dtype=torch.float64)\n",
      "Correspondence set estimation...\n",
      "Extrinsics estimation...\n",
      "Did not converge with required tolerance.\n",
      "loss tensor(0.6911, dtype=torch.float64)\n",
      "Correspondence set estimation...\n",
      "Extrinsics estimation...\n",
      "Did not converge with required tolerance.\n",
      "loss tensor(0.6643, dtype=torch.float64)\n",
      "Correspondence set estimation...\n",
      "Extrinsics estimation...\n",
      "Did not converge with required tolerance.\n",
      "loss tensor(0.6466, dtype=torch.float64)\n",
      "Correspondence set estimation...\n",
      "Extrinsics estimation...\n",
      "Did not converge with required tolerance.\n",
      "loss tensor(0.6245, dtype=torch.float64)\n",
      "Correspondence set estimation...\n",
      "Extrinsics estimation...\n",
      "Did not converge with required tolerance.\n",
      "loss tensor(0.6180, dtype=torch.float64)\n",
      "Correspondence set estimation...\n",
      "Extrinsics estimation...\n",
      "Did not converge with required tolerance.\n",
      "loss tensor(0.6172, dtype=torch.float64)\n",
      "Correspondence set estimation...\n",
      "Extrinsics estimation...\n",
      "Did not converge with required tolerance.\n",
      "loss tensor(0.5978, dtype=torch.float64)\n",
      "Correspondence set estimation...\n",
      "Extrinsics estimation...\n",
      "Did not converge with required tolerance.\n",
      "loss tensor(0.5929, dtype=torch.float64)\n",
      "Correspondence set estimation...\n",
      "Extrinsics estimation...\n",
      "Did not converge with required tolerance.\n",
      "loss tensor(0.5922, dtype=torch.float64)\n",
      "loss tensor(0.5922, dtype=torch.float64, grad_fn=<SumBackward0>)\n"
     ]
    },
    {
     "name": "stderr",
     "output_type": "stream",
     "text": [
      " 13%|█▎        | 4/30 [01:33<10:06, 23.33s/it]"
     ]
    },
    {
     "name": "stdout",
     "output_type": "stream",
     "text": [
      "L1 between depth_first pic with motion blur and GT: 0.017048982031300307\n",
      "L1 between pc0 xyz and GT pc0 xyz: tensor(0.1035, dtype=torch.float64, grad_fn=<MeanBackward0>)\n",
      "Correspondence set estimation...\n",
      "Extrinsics estimation...\n",
      "Did not converge with required tolerance.\n",
      "loss tensor(0.6990, dtype=torch.float64)\n",
      "Correspondence set estimation...\n",
      "Extrinsics estimation...\n",
      "Did not converge with required tolerance.\n",
      "loss tensor(0.6641, dtype=torch.float64)\n",
      "Correspondence set estimation...\n",
      "Extrinsics estimation...\n",
      "Did not converge with required tolerance.\n",
      "loss tensor(0.6299, dtype=torch.float64)\n",
      "Correspondence set estimation...\n",
      "Extrinsics estimation...\n",
      "Did not converge with required tolerance.\n",
      "loss tensor(0.5998, dtype=torch.float64)\n",
      "Correspondence set estimation...\n",
      "Extrinsics estimation...\n",
      "Did not converge with required tolerance.\n",
      "loss tensor(0.5939, dtype=torch.float64)\n",
      "Correspondence set estimation...\n",
      "Extrinsics estimation...\n",
      "Did not converge with required tolerance.\n",
      "loss tensor(0.5796, dtype=torch.float64)\n",
      "Correspondence set estimation...\n",
      "Extrinsics estimation...\n",
      "Did not converge with required tolerance.\n",
      "loss tensor(0.5779, dtype=torch.float64)\n",
      "Correspondence set estimation...\n",
      "Extrinsics estimation...\n",
      "Did not converge with required tolerance.\n",
      "loss tensor(0.5766, dtype=torch.float64)\n",
      "Correspondence set estimation...\n",
      "Extrinsics estimation...\n",
      "Did not converge with required tolerance.\n",
      "loss tensor(0.5765, dtype=torch.float64)\n",
      "Correspondence set estimation...\n",
      "Extrinsics estimation...\n",
      "Did not converge with required tolerance.\n",
      "loss tensor(0.5762, dtype=torch.float64)\n",
      "loss tensor(0.5762, dtype=torch.float64, grad_fn=<SumBackward0>)\n"
     ]
    },
    {
     "name": "stderr",
     "output_type": "stream",
     "text": [
      " 17%|█▋        | 5/30 [01:56<09:38, 23.15s/it]"
     ]
    },
    {
     "name": "stdout",
     "output_type": "stream",
     "text": [
      "L1 between depth_first pic with motion blur and GT: 0.01704895889394575\n",
      "L1 between pc0 xyz and GT pc0 xyz: tensor(0.1038, dtype=torch.float64, grad_fn=<MeanBackward0>)\n",
      "Correspondence set estimation...\n",
      "Extrinsics estimation...\n",
      "Did not converge with required tolerance.\n",
      "loss tensor(0.6807, dtype=torch.float64)\n",
      "Correspondence set estimation...\n",
      "Extrinsics estimation...\n",
      "Did not converge with required tolerance.\n",
      "loss tensor(0.6381, dtype=torch.float64)\n",
      "Correspondence set estimation...\n",
      "Extrinsics estimation...\n",
      "Did not converge with required tolerance.\n",
      "loss tensor(0.6071, dtype=torch.float64)\n",
      "Correspondence set estimation...\n",
      "Extrinsics estimation...\n",
      "Did not converge with required tolerance.\n",
      "loss tensor(0.5748, dtype=torch.float64)\n",
      "Correspondence set estimation...\n",
      "Extrinsics estimation...\n",
      "Did not converge with required tolerance.\n",
      "loss tensor(0.5507, dtype=torch.float64)\n",
      "Correspondence set estimation...\n",
      "Extrinsics estimation...\n",
      "Did not converge with required tolerance.\n",
      "loss tensor(0.5383, dtype=torch.float64)\n",
      "Correspondence set estimation...\n",
      "Extrinsics estimation...\n",
      "Did not converge with required tolerance.\n",
      "loss tensor(0.5364, dtype=torch.float64)\n",
      "Correspondence set estimation...\n",
      "Extrinsics estimation...\n",
      "Did not converge with required tolerance.\n",
      "loss tensor(0.5364, dtype=torch.float64)\n",
      "Correspondence set estimation...\n",
      "Extrinsics estimation...\n",
      "Did not converge with required tolerance.\n",
      "loss tensor(0.5365, dtype=torch.float64)\n",
      "Correspondence set estimation...\n",
      "Extrinsics estimation...\n",
      "Did not converge with required tolerance.\n",
      "loss tensor(0.5363, dtype=torch.float64)\n",
      "loss tensor(0.5363, dtype=torch.float64, grad_fn=<SumBackward0>)\n"
     ]
    },
    {
     "name": "stderr",
     "output_type": "stream",
     "text": [
      " 20%|██        | 6/30 [02:19<09:14, 23.10s/it]"
     ]
    },
    {
     "name": "stdout",
     "output_type": "stream",
     "text": [
      "L1 between depth_first pic with motion blur and GT: 0.01704893581206959\n",
      "L1 between pc0 xyz and GT pc0 xyz: tensor(0.1046, dtype=torch.float64, grad_fn=<MeanBackward0>)\n",
      "Correspondence set estimation...\n",
      "Extrinsics estimation...\n",
      "Did not converge with required tolerance.\n",
      "loss tensor(0.7021, dtype=torch.float64)\n",
      "Correspondence set estimation...\n",
      "Extrinsics estimation...\n",
      "Did not converge with required tolerance.\n",
      "loss tensor(0.6267, dtype=torch.float64)\n",
      "Correspondence set estimation...\n",
      "Extrinsics estimation...\n",
      "Did not converge with required tolerance.\n",
      "loss tensor(0.5903, dtype=torch.float64)\n",
      "Correspondence set estimation...\n",
      "Extrinsics estimation...\n",
      "Did not converge with required tolerance.\n",
      "loss tensor(0.5452, dtype=torch.float64)\n",
      "Correspondence set estimation...\n",
      "Extrinsics estimation...\n",
      "Did not converge with required tolerance.\n",
      "loss tensor(0.5300, dtype=torch.float64)\n",
      "Correspondence set estimation...\n",
      "Extrinsics estimation...\n",
      "Did not converge with required tolerance.\n",
      "loss tensor(0.5270, dtype=torch.float64)\n",
      "Correspondence set estimation...\n",
      "Extrinsics estimation...\n",
      "Did not converge with required tolerance.\n",
      "loss tensor(0.5246, dtype=torch.float64)\n",
      "Correspondence set estimation...\n",
      "Extrinsics estimation...\n",
      "Did not converge with required tolerance.\n",
      "loss tensor(0.5240, dtype=torch.float64)\n",
      "Correspondence set estimation...\n",
      "Extrinsics estimation...\n",
      "Did not converge with required tolerance.\n",
      "loss tensor(0.5242, dtype=torch.float64)\n",
      "Correspondence set estimation...\n",
      "Extrinsics estimation...\n",
      "Did not converge with required tolerance.\n",
      "loss tensor(0.5242, dtype=torch.float64)\n",
      "loss tensor(0.5242, dtype=torch.float64, grad_fn=<SumBackward0>)\n"
     ]
    },
    {
     "name": "stderr",
     "output_type": "stream",
     "text": [
      " 23%|██▎       | 7/30 [02:41<08:45, 22.85s/it]"
     ]
    },
    {
     "name": "stdout",
     "output_type": "stream",
     "text": [
      "L1 between depth_first pic with motion blur and GT: 0.01704891478917381\n",
      "L1 between pc0 xyz and GT pc0 xyz: tensor(0.1043, dtype=torch.float64, grad_fn=<MeanBackward0>)\n",
      "Correspondence set estimation...\n",
      "Extrinsics estimation...\n",
      "Did not converge with required tolerance.\n",
      "loss tensor(0.6828, dtype=torch.float64)\n",
      "Correspondence set estimation...\n",
      "Extrinsics estimation...\n",
      "Did not converge with required tolerance.\n",
      "loss tensor(0.5985, dtype=torch.float64)\n",
      "Correspondence set estimation...\n",
      "Extrinsics estimation...\n",
      "Did not converge with required tolerance.\n",
      "loss tensor(0.5612, dtype=torch.float64)\n",
      "Correspondence set estimation...\n",
      "Extrinsics estimation...\n",
      "Did not converge with required tolerance.\n",
      "loss tensor(0.5136, dtype=torch.float64)\n",
      "Correspondence set estimation...\n",
      "Extrinsics estimation...\n",
      "Did not converge with required tolerance.\n",
      "loss tensor(0.4947, dtype=torch.float64)\n",
      "Correspondence set estimation...\n",
      "Extrinsics estimation...\n",
      "Did not converge with required tolerance.\n",
      "loss tensor(0.4935, dtype=torch.float64)\n",
      "Correspondence set estimation...\n",
      "Extrinsics estimation...\n",
      "Did not converge with required tolerance.\n",
      "loss tensor(0.4850, dtype=torch.float64)\n",
      "Correspondence set estimation...\n",
      "Extrinsics estimation...\n",
      "Did not converge with required tolerance.\n",
      "loss tensor(0.4860, dtype=torch.float64)\n",
      "Correspondence set estimation...\n",
      "Extrinsics estimation...\n",
      "Did not converge with required tolerance.\n",
      "loss tensor(0.4877, dtype=torch.float64)\n",
      "Correspondence set estimation...\n",
      "Extrinsics estimation...\n",
      "Did not converge with required tolerance.\n",
      "loss tensor(0.4946, dtype=torch.float64)\n",
      "loss tensor(0.4946, dtype=torch.float64, grad_fn=<SumBackward0>)\n"
     ]
    },
    {
     "name": "stderr",
     "output_type": "stream",
     "text": [
      " 27%|██▋       | 8/30 [03:02<08:14, 22.47s/it]"
     ]
    },
    {
     "name": "stdout",
     "output_type": "stream",
     "text": [
      "L1 between depth_first pic with motion blur and GT: 0.017048894711389814\n",
      "L1 between pc0 xyz and GT pc0 xyz: tensor(0.1051, dtype=torch.float64, grad_fn=<MeanBackward0>)\n",
      "Correspondence set estimation...\n",
      "Extrinsics estimation...\n",
      "Did not converge with required tolerance.\n",
      "loss tensor(0.6705, dtype=torch.float64)\n",
      "Correspondence set estimation...\n",
      "Extrinsics estimation...\n",
      "Did not converge with required tolerance.\n",
      "loss tensor(0.5906, dtype=torch.float64)\n",
      "Correspondence set estimation...\n",
      "Extrinsics estimation...\n",
      "Did not converge with required tolerance.\n",
      "loss tensor(0.5334, dtype=torch.float64)\n",
      "Correspondence set estimation...\n",
      "Extrinsics estimation...\n",
      "Did not converge with required tolerance.\n",
      "loss tensor(0.4810, dtype=torch.float64)\n",
      "Correspondence set estimation...\n",
      "Extrinsics estimation...\n",
      "Did not converge with required tolerance.\n",
      "loss tensor(0.4615, dtype=torch.float64)\n",
      "Correspondence set estimation...\n",
      "Extrinsics estimation...\n",
      "Did not converge with required tolerance.\n",
      "loss tensor(0.4592, dtype=torch.float64)\n",
      "Correspondence set estimation...\n",
      "Extrinsics estimation...\n",
      "Did not converge with required tolerance.\n",
      "loss tensor(0.4641, dtype=torch.float64)\n",
      "Correspondence set estimation...\n",
      "Extrinsics estimation...\n",
      "Did not converge with required tolerance.\n",
      "loss tensor(0.4583, dtype=torch.float64)\n",
      "Correspondence set estimation...\n",
      "Extrinsics estimation...\n",
      "Did not converge with required tolerance.\n",
      "loss tensor(0.4608, dtype=torch.float64)\n",
      "Correspondence set estimation...\n",
      "Extrinsics estimation...\n",
      "Did not converge with required tolerance.\n",
      "loss tensor(0.4613, dtype=torch.float64)\n",
      "loss tensor(0.4613, dtype=torch.float64, grad_fn=<SumBackward0>)\n"
     ]
    },
    {
     "name": "stderr",
     "output_type": "stream",
     "text": [
      " 30%|███       | 9/30 [03:24<07:48, 22.29s/it]"
     ]
    },
    {
     "name": "stdout",
     "output_type": "stream",
     "text": [
      "L1 between depth_first pic with motion blur and GT: 0.017048877010840745\n",
      "L1 between pc0 xyz and GT pc0 xyz: tensor(0.1047, dtype=torch.float64, grad_fn=<MeanBackward0>)\n",
      "Correspondence set estimation...\n",
      "Extrinsics estimation...\n",
      "Did not converge with required tolerance.\n",
      "loss tensor(0.6523, dtype=torch.float64)\n",
      "Correspondence set estimation...\n",
      "Extrinsics estimation...\n",
      "Did not converge with required tolerance.\n",
      "loss tensor(0.5671, dtype=torch.float64)\n",
      "Correspondence set estimation...\n",
      "Extrinsics estimation...\n",
      "Did not converge with required tolerance.\n",
      "loss tensor(0.5081, dtype=torch.float64)\n",
      "Correspondence set estimation...\n",
      "Extrinsics estimation...\n",
      "Did not converge with required tolerance.\n",
      "loss tensor(0.4519, dtype=torch.float64)\n",
      "Correspondence set estimation...\n",
      "Extrinsics estimation...\n",
      "Did not converge with required tolerance.\n",
      "loss tensor(0.4343, dtype=torch.float64)\n",
      "Correspondence set estimation...\n",
      "Extrinsics estimation...\n",
      "Did not converge with required tolerance.\n",
      "loss tensor(0.4242, dtype=torch.float64)\n",
      "Correspondence set estimation...\n",
      "Extrinsics estimation...\n",
      "Did not converge with required tolerance.\n",
      "loss tensor(0.4251, dtype=torch.float64)\n",
      "Correspondence set estimation...\n",
      "Extrinsics estimation...\n",
      "Did not converge with required tolerance.\n",
      "loss tensor(0.4262, dtype=torch.float64)\n",
      "Correspondence set estimation...\n",
      "Extrinsics estimation...\n",
      "Did not converge with required tolerance.\n",
      "loss tensor(0.4267, dtype=torch.float64)\n",
      "Correspondence set estimation...\n",
      "Extrinsics estimation...\n",
      "Did not converge with required tolerance.\n",
      "loss tensor(0.4275, dtype=torch.float64)\n",
      "loss tensor(0.4275, dtype=torch.float64, grad_fn=<SumBackward0>)\n"
     ]
    },
    {
     "name": "stderr",
     "output_type": "stream",
     "text": [
      " 33%|███▎      | 10/30 [03:48<07:32, 22.61s/it]"
     ]
    },
    {
     "name": "stdout",
     "output_type": "stream",
     "text": [
      "L1 between depth_first pic with motion blur and GT: 0.017048862860640935\n",
      "L1 between pc0 xyz and GT pc0 xyz: tensor(0.1049, dtype=torch.float64, grad_fn=<MeanBackward0>)\n",
      "Correspondence set estimation...\n",
      "Extrinsics estimation...\n",
      "Did not converge with required tolerance.\n",
      "loss tensor(0.6377, dtype=torch.float64)\n",
      "Correspondence set estimation...\n",
      "Extrinsics estimation...\n",
      "Did not converge with required tolerance.\n",
      "loss tensor(0.5454, dtype=torch.float64)\n",
      "Correspondence set estimation...\n",
      "Extrinsics estimation...\n",
      "Did not converge with required tolerance.\n",
      "loss tensor(0.4857, dtype=torch.float64)\n",
      "Correspondence set estimation...\n",
      "Extrinsics estimation...\n",
      "Did not converge with required tolerance.\n",
      "loss tensor(0.4321, dtype=torch.float64)\n",
      "Correspondence set estimation...\n",
      "Extrinsics estimation...\n",
      "Did not converge with required tolerance.\n",
      "loss tensor(0.4081, dtype=torch.float64)\n",
      "Correspondence set estimation...\n",
      "Extrinsics estimation...\n",
      "Did not converge with required tolerance.\n",
      "loss tensor(0.3891, dtype=torch.float64)\n",
      "Correspondence set estimation...\n",
      "Extrinsics estimation...\n",
      "Did not converge with required tolerance.\n",
      "loss tensor(0.3518, dtype=torch.float64)\n",
      "Correspondence set estimation...\n",
      "Extrinsics estimation...\n",
      "Did not converge with required tolerance.\n",
      "loss tensor(0.3352, dtype=torch.float64)\n",
      "Correspondence set estimation...\n",
      "Extrinsics estimation...\n",
      "Did not converge with required tolerance.\n",
      "loss tensor(0.3348, dtype=torch.float64)\n",
      "Correspondence set estimation...\n",
      "Extrinsics estimation...\n",
      "Did not converge with required tolerance.\n",
      "loss tensor(0.3348, dtype=torch.float64)\n",
      "loss tensor(0.3348, dtype=torch.float64, grad_fn=<SumBackward0>)\n"
     ]
    },
    {
     "name": "stderr",
     "output_type": "stream",
     "text": [
      " 37%|███▋      | 11/30 [04:10<07:08, 22.56s/it]"
     ]
    },
    {
     "name": "stdout",
     "output_type": "stream",
     "text": [
      "L1 between depth_first pic with motion blur and GT: 0.01704885202534995\n",
      "L1 between pc0 xyz and GT pc0 xyz: tensor(0.1057, dtype=torch.float64, grad_fn=<MeanBackward0>)\n",
      "Correspondence set estimation...\n",
      "Extrinsics estimation...\n",
      "Did not converge with required tolerance.\n",
      "loss tensor(0.6196, dtype=torch.float64)\n",
      "Correspondence set estimation...\n",
      "Extrinsics estimation...\n",
      "Did not converge with required tolerance.\n",
      "loss tensor(0.5184, dtype=torch.float64)\n",
      "Correspondence set estimation...\n",
      "Extrinsics estimation...\n",
      "Did not converge with required tolerance.\n",
      "loss tensor(0.4504, dtype=torch.float64)\n",
      "Correspondence set estimation...\n",
      "Extrinsics estimation...\n",
      "Did not converge with required tolerance.\n",
      "loss tensor(0.3941, dtype=torch.float64)\n",
      "Correspondence set estimation...\n",
      "Extrinsics estimation...\n",
      "Did not converge with required tolerance.\n",
      "loss tensor(0.3868, dtype=torch.float64)\n",
      "Correspondence set estimation...\n",
      "Extrinsics estimation...\n",
      "Did not converge with required tolerance.\n",
      "loss tensor(0.3698, dtype=torch.float64)\n",
      "Correspondence set estimation...\n",
      "Extrinsics estimation...\n",
      "Did not converge with required tolerance.\n",
      "loss tensor(0.3343, dtype=torch.float64)\n",
      "Correspondence set estimation...\n",
      "Extrinsics estimation...\n",
      "Did not converge with required tolerance.\n",
      "loss tensor(0.3170, dtype=torch.float64)\n",
      "Correspondence set estimation...\n",
      "Extrinsics estimation...\n",
      "Did not converge with required tolerance.\n",
      "loss tensor(0.3136, dtype=torch.float64)\n",
      "Correspondence set estimation...\n",
      "Extrinsics estimation...\n",
      "Did not converge with required tolerance.\n",
      "loss tensor(0.3047, dtype=torch.float64)\n",
      "loss tensor(0.3047, dtype=torch.float64, grad_fn=<SumBackward0>)\n"
     ]
    },
    {
     "name": "stderr",
     "output_type": "stream",
     "text": [
      " 40%|████      | 12/30 [04:34<06:53, 22.99s/it]"
     ]
    },
    {
     "name": "stdout",
     "output_type": "stream",
     "text": [
      "L1 between depth_first pic with motion blur and GT: 0.017048843838646757\n",
      "L1 between pc0 xyz and GT pc0 xyz: tensor(0.1059, dtype=torch.float64, grad_fn=<MeanBackward0>)\n",
      "Correspondence set estimation...\n",
      "Extrinsics estimation...\n",
      "Did not converge with required tolerance.\n",
      "loss tensor(0.6001, dtype=torch.float64)\n",
      "Correspondence set estimation...\n",
      "Extrinsics estimation...\n",
      "Did not converge with required tolerance.\n",
      "loss tensor(0.4978, dtype=torch.float64)\n",
      "Correspondence set estimation...\n",
      "Extrinsics estimation...\n",
      "Did not converge with required tolerance.\n",
      "loss tensor(0.4198, dtype=torch.float64)\n",
      "Correspondence set estimation...\n",
      "Extrinsics estimation...\n",
      "Did not converge with required tolerance.\n",
      "loss tensor(0.3687, dtype=torch.float64)\n",
      "Correspondence set estimation...\n",
      "Extrinsics estimation...\n",
      "Did not converge with required tolerance.\n",
      "loss tensor(0.3350, dtype=torch.float64)\n",
      "Correspondence set estimation...\n",
      "Extrinsics estimation...\n",
      "Did not converge with required tolerance.\n",
      "loss tensor(0.3072, dtype=torch.float64)\n",
      "Correspondence set estimation...\n",
      "Extrinsics estimation...\n",
      "Did not converge with required tolerance.\n",
      "loss tensor(0.2919, dtype=torch.float64)\n",
      "Correspondence set estimation...\n",
      "Extrinsics estimation...\n",
      "Did not converge with required tolerance.\n",
      "loss tensor(0.2756, dtype=torch.float64)\n",
      "Correspondence set estimation...\n",
      "Extrinsics estimation...\n",
      "Did not converge with required tolerance.\n",
      "loss tensor(0.2687, dtype=torch.float64)\n",
      "Correspondence set estimation...\n",
      "Extrinsics estimation...\n",
      "Did not converge with required tolerance.\n",
      "loss tensor(0.2668, dtype=torch.float64)\n",
      "loss tensor(0.2668, dtype=torch.float64, grad_fn=<SumBackward0>)\n"
     ]
    },
    {
     "name": "stderr",
     "output_type": "stream",
     "text": [
      " 43%|████▎     | 13/30 [05:08<07:28, 26.39s/it]"
     ]
    },
    {
     "name": "stdout",
     "output_type": "stream",
     "text": [
      "L1 between depth_first pic with motion blur and GT: 0.017048835927820707\n",
      "L1 between pc0 xyz and GT pc0 xyz: tensor(0.1067, dtype=torch.float64, grad_fn=<MeanBackward0>)\n",
      "Correspondence set estimation...\n",
      "Extrinsics estimation...\n",
      "Did not converge with required tolerance.\n",
      "loss tensor(0.5759, dtype=torch.float64)\n",
      "Correspondence set estimation...\n",
      "Extrinsics estimation...\n",
      "Did not converge with required tolerance.\n",
      "loss tensor(0.4734, dtype=torch.float64)\n",
      "Correspondence set estimation...\n",
      "Extrinsics estimation...\n",
      "Did not converge with required tolerance.\n",
      "loss tensor(0.3849, dtype=torch.float64)\n",
      "Correspondence set estimation...\n",
      "Extrinsics estimation...\n",
      "Did not converge with required tolerance.\n",
      "loss tensor(0.3478, dtype=torch.float64)\n",
      "Correspondence set estimation...\n",
      "Extrinsics estimation...\n",
      "Did not converge with required tolerance.\n",
      "loss tensor(0.3116, dtype=torch.float64)\n",
      "Correspondence set estimation...\n",
      "Extrinsics estimation...\n",
      "Did not converge with required tolerance.\n",
      "loss tensor(0.2856, dtype=torch.float64)\n",
      "Correspondence set estimation...\n",
      "Extrinsics estimation...\n",
      "Did not converge with required tolerance.\n",
      "loss tensor(0.2731, dtype=torch.float64)\n",
      "Correspondence set estimation...\n",
      "Extrinsics estimation...\n",
      "Did not converge with required tolerance.\n",
      "loss tensor(0.2524, dtype=torch.float64)\n",
      "Correspondence set estimation...\n",
      "Extrinsics estimation...\n",
      "Did not converge with required tolerance.\n",
      "loss tensor(0.2417, dtype=torch.float64)\n",
      "Correspondence set estimation...\n",
      "Extrinsics estimation...\n",
      "Did not converge with required tolerance.\n",
      "loss tensor(0.2352, dtype=torch.float64)\n",
      "loss tensor(0.2352, dtype=torch.float64, grad_fn=<SumBackward0>)\n"
     ]
    },
    {
     "name": "stderr",
     "output_type": "stream",
     "text": [
      " 47%|████▋     | 14/30 [05:37<07:15, 27.19s/it]"
     ]
    },
    {
     "name": "stdout",
     "output_type": "stream",
     "text": [
      "L1 between depth_first pic with motion blur and GT: 0.017048832488065175\n",
      "L1 between pc0 xyz and GT pc0 xyz: tensor(0.1072, dtype=torch.float64, grad_fn=<MeanBackward0>)\n",
      "Correspondence set estimation...\n",
      "Extrinsics estimation...\n",
      "Did not converge with required tolerance.\n",
      "loss tensor(0.5501, dtype=torch.float64)\n",
      "Correspondence set estimation...\n",
      "Extrinsics estimation...\n",
      "Did not converge with required tolerance.\n",
      "loss tensor(0.4390, dtype=torch.float64)\n",
      "Correspondence set estimation...\n",
      "Extrinsics estimation...\n",
      "Did not converge with required tolerance.\n",
      "loss tensor(0.3525, dtype=torch.float64)\n",
      "Correspondence set estimation...\n",
      "Extrinsics estimation...\n",
      "Did not converge with required tolerance.\n",
      "loss tensor(0.3338, dtype=torch.float64)\n",
      "Correspondence set estimation...\n",
      "Extrinsics estimation...\n",
      "Did not converge with required tolerance.\n",
      "loss tensor(0.2918, dtype=torch.float64)\n",
      "Correspondence set estimation...\n",
      "Extrinsics estimation...\n",
      "Did not converge with required tolerance.\n",
      "loss tensor(0.2714, dtype=torch.float64)\n",
      "Correspondence set estimation...\n",
      "Extrinsics estimation...\n",
      "Did not converge with required tolerance.\n",
      "loss tensor(0.2533, dtype=torch.float64)\n",
      "Correspondence set estimation...\n",
      "Extrinsics estimation...\n",
      "Did not converge with required tolerance.\n",
      "loss tensor(0.2524, dtype=torch.float64)\n",
      "Correspondence set estimation...\n",
      "Extrinsics estimation...\n",
      "Did not converge with required tolerance.\n",
      "loss tensor(0.2453, dtype=torch.float64)\n",
      "Correspondence set estimation...\n",
      "Extrinsics estimation...\n",
      "Did not converge with required tolerance.\n",
      "loss tensor(0.2383, dtype=torch.float64)\n",
      "loss tensor(0.2383, dtype=torch.float64, grad_fn=<SumBackward0>)\n"
     ]
    },
    {
     "name": "stderr",
     "output_type": "stream",
     "text": [
      " 50%|█████     | 15/30 [06:22<08:05, 32.40s/it]"
     ]
    },
    {
     "name": "stdout",
     "output_type": "stream",
     "text": [
      "L1 between depth_first pic with motion blur and GT: 0.017048834478769204\n",
      "L1 between pc0 xyz and GT pc0 xyz: tensor(0.1068, dtype=torch.float64, grad_fn=<MeanBackward0>)\n",
      "Correspondence set estimation...\n",
      "Extrinsics estimation...\n",
      "Did not converge with required tolerance.\n",
      "loss tensor(0.5358, dtype=torch.float64)\n",
      "Correspondence set estimation...\n",
      "Extrinsics estimation...\n",
      "Did not converge with required tolerance.\n",
      "loss tensor(0.4215, dtype=torch.float64)\n",
      "Correspondence set estimation...\n",
      "Extrinsics estimation...\n",
      "Did not converge with required tolerance.\n",
      "loss tensor(0.3368, dtype=torch.float64)\n",
      "Correspondence set estimation...\n",
      "Extrinsics estimation...\n",
      "Did not converge with required tolerance.\n",
      "loss tensor(0.3117, dtype=torch.float64)\n",
      "Correspondence set estimation...\n",
      "Extrinsics estimation...\n",
      "Did not converge with required tolerance.\n",
      "loss tensor(0.2682, dtype=torch.float64)\n",
      "Correspondence set estimation...\n",
      "Extrinsics estimation...\n",
      "Did not converge with required tolerance.\n",
      "loss tensor(0.2461, dtype=torch.float64)\n",
      "Correspondence set estimation...\n",
      "Extrinsics estimation...\n",
      "Did not converge with required tolerance.\n",
      "loss tensor(0.2345, dtype=torch.float64)\n",
      "Correspondence set estimation...\n",
      "Extrinsics estimation...\n",
      "Did not converge with required tolerance.\n",
      "loss tensor(0.2333, dtype=torch.float64)\n",
      "Correspondence set estimation...\n",
      "Extrinsics estimation...\n",
      "Did not converge with required tolerance.\n",
      "loss tensor(0.2348, dtype=torch.float64)\n",
      "Correspondence set estimation...\n",
      "Extrinsics estimation...\n",
      "Did not converge with required tolerance.\n",
      "loss tensor(0.2345, dtype=torch.float64)\n",
      "loss tensor(0.2345, dtype=torch.float64, grad_fn=<SumBackward0>)\n"
     ]
    },
    {
     "name": "stderr",
     "output_type": "stream",
     "text": [
      " 53%|█████▎    | 16/30 [07:03<08:08, 34.86s/it]"
     ]
    },
    {
     "name": "stdout",
     "output_type": "stream",
     "text": [
      "L1 between depth_first pic with motion blur and GT: 0.01704884136069387\n",
      "L1 between pc0 xyz and GT pc0 xyz: tensor(0.1070, dtype=torch.float64, grad_fn=<MeanBackward0>)\n",
      "Correspondence set estimation...\n",
      "Extrinsics estimation...\n",
      "Did not converge with required tolerance.\n",
      "loss tensor(0.5254, dtype=torch.float64)\n",
      "Correspondence set estimation...\n",
      "Extrinsics estimation...\n",
      "Did not converge with required tolerance.\n",
      "loss tensor(0.4018, dtype=torch.float64)\n",
      "Correspondence set estimation...\n",
      "Extrinsics estimation...\n",
      "Did not converge with required tolerance.\n",
      "loss tensor(0.3194, dtype=torch.float64)\n",
      "Correspondence set estimation...\n",
      "Extrinsics estimation...\n",
      "Did not converge with required tolerance.\n",
      "loss tensor(0.2703, dtype=torch.float64)\n",
      "Correspondence set estimation...\n",
      "Extrinsics estimation...\n",
      "Did not converge with required tolerance.\n",
      "loss tensor(0.2389, dtype=torch.float64)\n",
      "Correspondence set estimation...\n",
      "Extrinsics estimation...\n",
      "Did not converge with required tolerance.\n",
      "loss tensor(0.2189, dtype=torch.float64)\n",
      "Correspondence set estimation...\n",
      "Extrinsics estimation...\n",
      "Did not converge with required tolerance.\n",
      "loss tensor(0.2157, dtype=torch.float64)\n",
      "Correspondence set estimation...\n",
      "Extrinsics estimation...\n",
      "Did not converge with required tolerance.\n",
      "loss tensor(0.2179, dtype=torch.float64)\n",
      "Correspondence set estimation...\n",
      "Extrinsics estimation...\n",
      "Did not converge with required tolerance.\n",
      "loss tensor(0.2183, dtype=torch.float64)\n",
      "Correspondence set estimation...\n",
      "Extrinsics estimation...\n",
      "Did not converge with required tolerance.\n",
      "loss tensor(0.2184, dtype=torch.float64)\n",
      "loss tensor(0.2184, dtype=torch.float64, grad_fn=<SumBackward0>)\n"
     ]
    },
    {
     "name": "stderr",
     "output_type": "stream",
     "text": [
      " 57%|█████▋    | 17/30 [07:49<08:18, 38.34s/it]"
     ]
    },
    {
     "name": "stdout",
     "output_type": "stream",
     "text": [
      "L1 between depth_first pic with motion blur and GT: 0.017048849656099912\n",
      "L1 between pc0 xyz and GT pc0 xyz: tensor(0.1070, dtype=torch.float64, grad_fn=<MeanBackward0>)\n",
      "Correspondence set estimation...\n",
      "Extrinsics estimation...\n",
      "Did not converge with required tolerance.\n",
      "loss tensor(0.5337, dtype=torch.float64)\n",
      "Correspondence set estimation...\n",
      "Extrinsics estimation...\n",
      "Did not converge with required tolerance.\n",
      "loss tensor(0.3895, dtype=torch.float64)\n",
      "Correspondence set estimation...\n",
      "Extrinsics estimation...\n",
      "Did not converge with required tolerance.\n",
      "loss tensor(0.3039, dtype=torch.float64)\n",
      "Correspondence set estimation...\n",
      "Extrinsics estimation...\n",
      "Did not converge with required tolerance.\n",
      "loss tensor(0.2563, dtype=torch.float64)\n",
      "Correspondence set estimation...\n",
      "Extrinsics estimation...\n",
      "Did not converge with required tolerance.\n",
      "loss tensor(0.2255, dtype=torch.float64)\n",
      "Correspondence set estimation...\n",
      "Extrinsics estimation...\n",
      "Did not converge with required tolerance.\n",
      "loss tensor(0.2021, dtype=torch.float64)\n",
      "Correspondence set estimation...\n",
      "Extrinsics estimation...\n",
      "Did not converge with required tolerance.\n",
      "loss tensor(0.2038, dtype=torch.float64)\n",
      "Correspondence set estimation...\n",
      "Extrinsics estimation...\n",
      "Did not converge with required tolerance.\n",
      "loss tensor(0.2035, dtype=torch.float64)\n",
      "Correspondence set estimation...\n",
      "Extrinsics estimation...\n",
      "Did not converge with required tolerance.\n",
      "loss tensor(0.2039, dtype=torch.float64)\n",
      "Correspondence set estimation...\n",
      "Extrinsics estimation...\n",
      "Did not converge with required tolerance.\n",
      "loss tensor(0.2039, dtype=torch.float64)\n",
      "loss tensor(0.2039, dtype=torch.float64, grad_fn=<SumBackward0>)\n"
     ]
    },
    {
     "name": "stderr",
     "output_type": "stream",
     "text": [
      " 60%|██████    | 18/30 [08:30<07:50, 39.19s/it]"
     ]
    },
    {
     "name": "stdout",
     "output_type": "stream",
     "text": [
      "L1 between depth_first pic with motion blur and GT: 0.01704886130020427\n",
      "L1 between pc0 xyz and GT pc0 xyz: tensor(0.1072, dtype=torch.float64, grad_fn=<MeanBackward0>)\n",
      "Correspondence set estimation...\n",
      "Extrinsics estimation...\n",
      "Did not converge with required tolerance.\n",
      "loss tensor(0.5240, dtype=torch.float64)\n",
      "Correspondence set estimation...\n",
      "Extrinsics estimation...\n",
      "Did not converge with required tolerance.\n",
      "loss tensor(0.3759, dtype=torch.float64)\n",
      "Correspondence set estimation...\n",
      "Extrinsics estimation...\n",
      "Did not converge with required tolerance.\n",
      "loss tensor(0.2893, dtype=torch.float64)\n",
      "Correspondence set estimation...\n",
      "Extrinsics estimation...\n",
      "Did not converge with required tolerance.\n",
      "loss tensor(0.2416, dtype=torch.float64)\n",
      "Correspondence set estimation...\n",
      "Extrinsics estimation...\n",
      "Did not converge with required tolerance.\n",
      "loss tensor(0.2092, dtype=torch.float64)\n",
      "Correspondence set estimation...\n",
      "Extrinsics estimation...\n",
      "Did not converge with required tolerance.\n",
      "loss tensor(0.1881, dtype=torch.float64)\n",
      "Correspondence set estimation...\n",
      "Extrinsics estimation...\n",
      "Did not converge with required tolerance.\n",
      "loss tensor(0.1847, dtype=torch.float64)\n",
      "Correspondence set estimation...\n",
      "Extrinsics estimation...\n",
      "Did not converge with required tolerance.\n",
      "loss tensor(0.1844, dtype=torch.float64)\n",
      "Correspondence set estimation...\n",
      "Extrinsics estimation...\n",
      "Did not converge with required tolerance.\n",
      "loss tensor(0.1844, dtype=torch.float64)\n",
      "Correspondence set estimation...\n",
      "Extrinsics estimation...\n",
      "Did not converge with required tolerance.\n",
      "loss tensor(0.1889, dtype=torch.float64)\n",
      "loss tensor(0.1889, dtype=torch.float64, grad_fn=<SumBackward0>)\n"
     ]
    },
    {
     "name": "stderr",
     "output_type": "stream",
     "text": [
      " 63%|██████▎   | 19/30 [09:02<06:45, 36.89s/it]"
     ]
    },
    {
     "name": "stdout",
     "output_type": "stream",
     "text": [
      "L1 between depth_first pic with motion blur and GT: 0.017048872332685473\n",
      "L1 between pc0 xyz and GT pc0 xyz: tensor(0.1072, dtype=torch.float64, grad_fn=<MeanBackward0>)\n",
      "Correspondence set estimation...\n",
      "Extrinsics estimation...\n",
      "Did not converge with required tolerance.\n",
      "loss tensor(0.5160, dtype=torch.float64)\n",
      "Correspondence set estimation...\n",
      "Extrinsics estimation...\n",
      "Did not converge with required tolerance.\n",
      "loss tensor(0.3683, dtype=torch.float64)\n",
      "Correspondence set estimation...\n",
      "Extrinsics estimation...\n",
      "Did not converge with required tolerance.\n",
      "loss tensor(0.2931, dtype=torch.float64)\n",
      "Correspondence set estimation...\n",
      "Extrinsics estimation...\n",
      "Did not converge with required tolerance.\n",
      "loss tensor(0.2336, dtype=torch.float64)\n",
      "Correspondence set estimation...\n",
      "Extrinsics estimation...\n",
      "Did not converge with required tolerance.\n",
      "loss tensor(0.1978, dtype=torch.float64)\n",
      "Correspondence set estimation...\n",
      "Extrinsics estimation...\n",
      "Did not converge with required tolerance.\n",
      "loss tensor(0.1793, dtype=torch.float64)\n",
      "Correspondence set estimation...\n",
      "Extrinsics estimation...\n",
      "Did not converge with required tolerance.\n",
      "loss tensor(0.1756, dtype=torch.float64)\n",
      "Correspondence set estimation...\n",
      "Extrinsics estimation...\n",
      "Did not converge with required tolerance.\n",
      "loss tensor(0.1728, dtype=torch.float64)\n",
      "Correspondence set estimation...\n",
      "Extrinsics estimation...\n",
      "Did not converge with required tolerance.\n",
      "loss tensor(0.1712, dtype=torch.float64)\n",
      "Correspondence set estimation...\n",
      "Extrinsics estimation...\n",
      "Did not converge with required tolerance.\n",
      "loss tensor(0.1699, dtype=torch.float64)\n",
      "loss tensor(0.1699, dtype=torch.float64, grad_fn=<SumBackward0>)\n"
     ]
    },
    {
     "name": "stderr",
     "output_type": "stream",
     "text": [
      " 67%|██████▋   | 20/30 [09:38<06:07, 36.73s/it]"
     ]
    },
    {
     "name": "stdout",
     "output_type": "stream",
     "text": [
      "L1 between depth_first pic with motion blur and GT: 0.01704888292177195\n",
      "L1 between pc0 xyz and GT pc0 xyz: tensor(0.1076, dtype=torch.float64, grad_fn=<MeanBackward0>)\n",
      "Correspondence set estimation...\n",
      "Extrinsics estimation...\n",
      "Did not converge with required tolerance.\n",
      "loss tensor(0.5122, dtype=torch.float64)\n",
      "Correspondence set estimation...\n",
      "Extrinsics estimation...\n",
      "Did not converge with required tolerance.\n",
      "loss tensor(0.3566, dtype=torch.float64)\n",
      "Correspondence set estimation...\n",
      "Extrinsics estimation...\n",
      "Did not converge with required tolerance.\n",
      "loss tensor(0.2627, dtype=torch.float64)\n",
      "Correspondence set estimation...\n",
      "Extrinsics estimation...\n",
      "Did not converge with required tolerance.\n",
      "loss tensor(0.2104, dtype=torch.float64)\n",
      "Correspondence set estimation...\n",
      "Extrinsics estimation...\n",
      "Did not converge with required tolerance.\n",
      "loss tensor(0.1778, dtype=torch.float64)\n",
      "Correspondence set estimation...\n",
      "Extrinsics estimation...\n",
      "Did not converge with required tolerance.\n",
      "loss tensor(0.1586, dtype=torch.float64)\n",
      "Correspondence set estimation...\n",
      "Extrinsics estimation...\n",
      "Did not converge with required tolerance.\n",
      "loss tensor(0.1489, dtype=torch.float64)\n",
      "Correspondence set estimation...\n",
      "Extrinsics estimation...\n",
      "Did not converge with required tolerance.\n",
      "loss tensor(0.1217, dtype=torch.float64)\n",
      "Correspondence set estimation...\n",
      "Extrinsics estimation...\n",
      "Did not converge with required tolerance.\n",
      "loss tensor(0.1136, dtype=torch.float64)\n",
      "Correspondence set estimation...\n",
      "Extrinsics estimation...\n",
      "Did not converge with required tolerance.\n",
      "loss tensor(0.1102, dtype=torch.float64)\n",
      "loss tensor(0.1102, dtype=torch.float64, grad_fn=<SumBackward0>)\n"
     ]
    },
    {
     "name": "stderr",
     "output_type": "stream",
     "text": [
      " 70%|███████   | 21/30 [10:13<05:26, 36.32s/it]"
     ]
    },
    {
     "name": "stdout",
     "output_type": "stream",
     "text": [
      "L1 between depth_first pic with motion blur and GT: 0.017048893578570628\n",
      "L1 between pc0 xyz and GT pc0 xyz: tensor(0.1101, dtype=torch.float64, grad_fn=<MeanBackward0>)\n",
      "Correspondence set estimation...\n",
      "Extrinsics estimation...\n",
      "Did not converge with required tolerance.\n",
      "loss tensor(0.4985, dtype=torch.float64)\n",
      "Correspondence set estimation...\n",
      "Extrinsics estimation...\n",
      "Did not converge with required tolerance.\n",
      "loss tensor(0.3473, dtype=torch.float64)\n",
      "Correspondence set estimation...\n",
      "Extrinsics estimation...\n",
      "Did not converge with required tolerance.\n",
      "loss tensor(0.2540, dtype=torch.float64)\n",
      "Correspondence set estimation...\n",
      "Extrinsics estimation...\n",
      "Did not converge with required tolerance.\n",
      "loss tensor(0.1979, dtype=torch.float64)\n",
      "Correspondence set estimation...\n",
      "Extrinsics estimation...\n",
      "Did not converge with required tolerance.\n",
      "loss tensor(0.1682, dtype=torch.float64)\n",
      "Correspondence set estimation...\n",
      "Extrinsics estimation...\n",
      "Did not converge with required tolerance.\n",
      "loss tensor(0.1490, dtype=torch.float64)\n",
      "Correspondence set estimation...\n",
      "Extrinsics estimation...\n",
      "Did not converge with required tolerance.\n",
      "loss tensor(0.1139, dtype=torch.float64)\n",
      "Correspondence set estimation...\n",
      "Extrinsics estimation...\n",
      "Did not converge with required tolerance.\n",
      "loss tensor(0.1039, dtype=torch.float64)\n",
      "Correspondence set estimation...\n",
      "Extrinsics estimation...\n",
      "Did not converge with required tolerance.\n",
      "loss tensor(0.0958, dtype=torch.float64)\n",
      "Correspondence set estimation...\n",
      "Extrinsics estimation...\n",
      "Did not converge with required tolerance.\n",
      "loss tensor(0.0860, dtype=torch.float64)\n",
      "loss tensor(0.0860, dtype=torch.float64, grad_fn=<SumBackward0>)\n"
     ]
    },
    {
     "name": "stderr",
     "output_type": "stream",
     "text": [
      " 73%|███████▎  | 22/30 [10:57<05:08, 38.58s/it]"
     ]
    },
    {
     "name": "stdout",
     "output_type": "stream",
     "text": [
      "L1 between depth_first pic with motion blur and GT: 0.01704890421707801\n",
      "L1 between pc0 xyz and GT pc0 xyz: tensor(0.1110, dtype=torch.float64, grad_fn=<MeanBackward0>)\n",
      "Correspondence set estimation...\n",
      "Extrinsics estimation...\n",
      "Did not converge with required tolerance.\n",
      "loss tensor(0.4835, dtype=torch.float64)\n",
      "Correspondence set estimation...\n",
      "Extrinsics estimation...\n",
      "Did not converge with required tolerance.\n",
      "loss tensor(0.3288, dtype=torch.float64)\n",
      "Correspondence set estimation...\n",
      "Extrinsics estimation...\n",
      "Did not converge with required tolerance.\n",
      "loss tensor(0.2371, dtype=torch.float64)\n",
      "Correspondence set estimation...\n",
      "Extrinsics estimation...\n",
      "Did not converge with required tolerance.\n",
      "loss tensor(0.1868, dtype=torch.float64)\n",
      "Correspondence set estimation...\n",
      "Extrinsics estimation...\n",
      "Did not converge with required tolerance.\n",
      "loss tensor(0.1507, dtype=torch.float64)\n",
      "Correspondence set estimation...\n",
      "Extrinsics estimation...\n",
      "Did not converge with required tolerance.\n",
      "loss tensor(0.1304, dtype=torch.float64)\n",
      "Correspondence set estimation...\n",
      "Extrinsics estimation...\n",
      "Did not converge with required tolerance.\n",
      "loss tensor(0.1056, dtype=torch.float64)\n",
      "Correspondence set estimation...\n",
      "Extrinsics estimation...\n",
      "Did not converge with required tolerance.\n",
      "loss tensor(0.0961, dtype=torch.float64)\n",
      "Correspondence set estimation...\n",
      "Extrinsics estimation...\n",
      "Did not converge with required tolerance.\n",
      "loss tensor(0.0930, dtype=torch.float64)\n",
      "Correspondence set estimation...\n",
      "Extrinsics estimation...\n",
      "Did not converge with required tolerance.\n",
      "loss tensor(0.0849, dtype=torch.float64)\n",
      "loss tensor(0.0849, dtype=torch.float64, grad_fn=<SumBackward0>)\n"
     ]
    },
    {
     "name": "stderr",
     "output_type": "stream",
     "text": [
      " 77%|███████▋  | 23/30 [11:39<04:35, 39.41s/it]"
     ]
    },
    {
     "name": "stdout",
     "output_type": "stream",
     "text": [
      "L1 between depth_first pic with motion blur and GT: 0.017048914735298577\n",
      "L1 between pc0 xyz and GT pc0 xyz: tensor(0.1103, dtype=torch.float64, grad_fn=<MeanBackward0>)\n",
      "Correspondence set estimation...\n",
      "Extrinsics estimation...\n",
      "Did not converge with required tolerance.\n",
      "loss tensor(0.4748, dtype=torch.float64)\n",
      "Correspondence set estimation...\n",
      "Extrinsics estimation...\n",
      "Did not converge with required tolerance.\n",
      "loss tensor(0.3157, dtype=torch.float64)\n",
      "Correspondence set estimation...\n",
      "Extrinsics estimation...\n",
      "Did not converge with required tolerance.\n",
      "loss tensor(0.2277, dtype=torch.float64)\n",
      "Correspondence set estimation...\n",
      "Extrinsics estimation...\n",
      "Did not converge with required tolerance.\n",
      "loss tensor(0.1775, dtype=torch.float64)\n",
      "Correspondence set estimation...\n",
      "Extrinsics estimation...\n",
      "Did not converge with required tolerance.\n",
      "loss tensor(0.1394, dtype=torch.float64)\n",
      "Correspondence set estimation...\n",
      "Extrinsics estimation...\n",
      "Did not converge with required tolerance.\n",
      "loss tensor(0.1213, dtype=torch.float64)\n",
      "Correspondence set estimation...\n",
      "Extrinsics estimation...\n",
      "Did not converge with required tolerance.\n",
      "loss tensor(0.0980, dtype=torch.float64)\n",
      "Correspondence set estimation...\n",
      "Extrinsics estimation...\n",
      "Did not converge with required tolerance.\n",
      "loss tensor(0.0862, dtype=torch.float64)\n",
      "Correspondence set estimation...\n",
      "Extrinsics estimation...\n",
      "Did not converge with required tolerance.\n",
      "loss tensor(0.0823, dtype=torch.float64)\n",
      "Correspondence set estimation...\n",
      "Extrinsics estimation...\n",
      "Did not converge with required tolerance.\n",
      "loss tensor(0.0769, dtype=torch.float64)\n",
      "loss tensor(0.0769, dtype=torch.float64, grad_fn=<SumBackward0>)\n"
     ]
    },
    {
     "name": "stderr",
     "output_type": "stream",
     "text": [
      " 80%|████████  | 24/30 [12:25<04:09, 41.53s/it]"
     ]
    },
    {
     "name": "stdout",
     "output_type": "stream",
     "text": [
      "L1 between depth_first pic with motion blur and GT: 0.01704892508548574\n",
      "L1 between pc0 xyz and GT pc0 xyz: tensor(0.1108, dtype=torch.float64, grad_fn=<MeanBackward0>)\n",
      "Correspondence set estimation...\n",
      "Extrinsics estimation...\n",
      "Did not converge with required tolerance.\n",
      "loss tensor(0.4683, dtype=torch.float64)\n",
      "Correspondence set estimation...\n",
      "Extrinsics estimation...\n",
      "Did not converge with required tolerance.\n",
      "loss tensor(0.3066, dtype=torch.float64)\n",
      "Correspondence set estimation...\n",
      "Extrinsics estimation...\n",
      "Did not converge with required tolerance.\n",
      "loss tensor(0.2159, dtype=torch.float64)\n",
      "Correspondence set estimation...\n",
      "Extrinsics estimation...\n",
      "Did not converge with required tolerance.\n",
      "loss tensor(0.1681, dtype=torch.float64)\n",
      "Correspondence set estimation...\n",
      "Extrinsics estimation...\n",
      "Did not converge with required tolerance.\n",
      "loss tensor(0.1375, dtype=torch.float64)\n",
      "Correspondence set estimation...\n",
      "Extrinsics estimation...\n",
      "Did not converge with required tolerance.\n",
      "loss tensor(0.1197, dtype=torch.float64)\n",
      "Correspondence set estimation...\n",
      "Extrinsics estimation...\n",
      "Did not converge with required tolerance.\n",
      "loss tensor(0.1096, dtype=torch.float64)\n",
      "Correspondence set estimation...\n",
      "Extrinsics estimation...\n",
      "Did not converge with required tolerance.\n",
      "loss tensor(0.0906, dtype=torch.float64)\n",
      "Correspondence set estimation...\n",
      "Extrinsics estimation...\n",
      "Did not converge with required tolerance.\n",
      "loss tensor(0.0828, dtype=torch.float64)\n",
      "Correspondence set estimation...\n",
      "Extrinsics estimation...\n",
      "Did not converge with required tolerance.\n",
      "loss tensor(0.0790, dtype=torch.float64)\n",
      "loss tensor(0.0790, dtype=torch.float64, grad_fn=<SumBackward0>)\n"
     ]
    },
    {
     "name": "stderr",
     "output_type": "stream",
     "text": [
      " 83%|████████▎ | 25/30 [12:57<03:13, 38.62s/it]"
     ]
    },
    {
     "name": "stdout",
     "output_type": "stream",
     "text": [
      "L1 between depth_first pic with motion blur and GT: 0.017048935248618904\n",
      "L1 between pc0 xyz and GT pc0 xyz: tensor(0.1112, dtype=torch.float64, grad_fn=<MeanBackward0>)\n",
      "Correspondence set estimation...\n",
      "Extrinsics estimation...\n",
      "Did not converge with required tolerance.\n",
      "loss tensor(0.4520, dtype=torch.float64)\n",
      "Correspondence set estimation...\n",
      "Extrinsics estimation...\n",
      "Did not converge with required tolerance.\n",
      "loss tensor(0.2914, dtype=torch.float64)\n",
      "Correspondence set estimation...\n",
      "Extrinsics estimation...\n",
      "Did not converge with required tolerance.\n",
      "loss tensor(0.2083, dtype=torch.float64)\n",
      "Correspondence set estimation...\n",
      "Extrinsics estimation...\n",
      "Did not converge with required tolerance.\n",
      "loss tensor(0.1585, dtype=torch.float64)\n",
      "Correspondence set estimation...\n",
      "Extrinsics estimation...\n",
      "Did not converge with required tolerance.\n",
      "loss tensor(0.1322, dtype=torch.float64)\n",
      "Correspondence set estimation...\n",
      "Extrinsics estimation...\n",
      "Did not converge with required tolerance.\n",
      "loss tensor(0.1202, dtype=torch.float64)\n",
      "Correspondence set estimation...\n",
      "Extrinsics estimation...\n",
      "Did not converge with required tolerance.\n",
      "loss tensor(0.1168, dtype=torch.float64)\n",
      "Correspondence set estimation...\n",
      "Extrinsics estimation...\n",
      "Did not converge with required tolerance.\n",
      "loss tensor(0.1123, dtype=torch.float64)\n",
      "Correspondence set estimation...\n",
      "Extrinsics estimation...\n",
      "Did not converge with required tolerance.\n",
      "loss tensor(0.1042, dtype=torch.float64)\n",
      "Correspondence set estimation...\n",
      "Extrinsics estimation...\n",
      "Did not converge with required tolerance.\n",
      "loss tensor(0.0846, dtype=torch.float64)\n",
      "loss tensor(0.0846, dtype=torch.float64, grad_fn=<SumBackward0>)\n"
     ]
    },
    {
     "name": "stderr",
     "output_type": "stream",
     "text": [
      " 87%|████████▋ | 26/30 [13:32<02:30, 37.59s/it]"
     ]
    },
    {
     "name": "stdout",
     "output_type": "stream",
     "text": [
      "L1 between depth_first pic with motion blur and GT: 0.017048946591220523\n",
      "L1 between pc0 xyz and GT pc0 xyz: tensor(0.1119, dtype=torch.float64, grad_fn=<MeanBackward0>)\n",
      "Correspondence set estimation...\n",
      "Extrinsics estimation...\n",
      "Did not converge with required tolerance.\n",
      "loss tensor(0.4608, dtype=torch.float64)\n",
      "Correspondence set estimation...\n",
      "Extrinsics estimation...\n",
      "Did not converge with required tolerance.\n",
      "loss tensor(0.3012, dtype=torch.float64)\n",
      "Correspondence set estimation...\n",
      "Extrinsics estimation...\n",
      "Did not converge with required tolerance.\n",
      "loss tensor(0.2115, dtype=torch.float64)\n",
      "Correspondence set estimation...\n",
      "Extrinsics estimation...\n",
      "Did not converge with required tolerance.\n",
      "loss tensor(0.1509, dtype=torch.float64)\n",
      "Correspondence set estimation...\n",
      "Extrinsics estimation...\n",
      "Did not converge with required tolerance.\n",
      "loss tensor(0.1180, dtype=torch.float64)\n",
      "Correspondence set estimation...\n",
      "Extrinsics estimation...\n",
      "Did not converge with required tolerance.\n",
      "loss tensor(0.0991, dtype=torch.float64)\n",
      "Correspondence set estimation...\n",
      "Extrinsics estimation...\n",
      "Did not converge with required tolerance.\n",
      "loss tensor(0.0770, dtype=torch.float64)\n",
      "Correspondence set estimation...\n",
      "Extrinsics estimation...\n",
      "Did not converge with required tolerance.\n",
      "loss tensor(0.0738, dtype=torch.float64)\n",
      "Correspondence set estimation...\n",
      "Extrinsics estimation...\n",
      "Did not converge with required tolerance.\n",
      "loss tensor(0.0689, dtype=torch.float64)\n",
      "Correspondence set estimation...\n",
      "Extrinsics estimation...\n",
      "Did not converge with required tolerance.\n",
      "loss tensor(0.0637, dtype=torch.float64)\n",
      "loss tensor(0.0637, dtype=torch.float64, grad_fn=<SumBackward0>)\n"
     ]
    },
    {
     "name": "stderr",
     "output_type": "stream",
     "text": [
      " 90%|█████████ | 27/30 [14:13<01:55, 38.42s/it]"
     ]
    },
    {
     "name": "stdout",
     "output_type": "stream",
     "text": [
      "L1 between depth_first pic with motion blur and GT: 0.017048960009698414\n",
      "L1 between pc0 xyz and GT pc0 xyz: tensor(0.1126, dtype=torch.float64, grad_fn=<MeanBackward0>)\n",
      "Correspondence set estimation...\n",
      "Extrinsics estimation...\n",
      "Did not converge with required tolerance.\n",
      "loss tensor(0.4692, dtype=torch.float64)\n",
      "Correspondence set estimation...\n",
      "Extrinsics estimation...\n",
      "Did not converge with required tolerance.\n",
      "loss tensor(0.2950, dtype=torch.float64)\n",
      "Correspondence set estimation...\n",
      "Extrinsics estimation...\n",
      "Did not converge with required tolerance.\n",
      "loss tensor(0.2030, dtype=torch.float64)\n",
      "Correspondence set estimation...\n",
      "Extrinsics estimation...\n",
      "Did not converge with required tolerance.\n",
      "loss tensor(0.1438, dtype=torch.float64)\n",
      "Correspondence set estimation...\n",
      "Extrinsics estimation...\n",
      "Did not converge with required tolerance.\n",
      "loss tensor(0.1125, dtype=torch.float64)\n",
      "Correspondence set estimation...\n",
      "Extrinsics estimation...\n",
      "Did not converge with required tolerance.\n",
      "loss tensor(0.0971, dtype=torch.float64)\n",
      "Correspondence set estimation...\n",
      "Extrinsics estimation...\n",
      "Did not converge with required tolerance.\n",
      "loss tensor(0.0723, dtype=torch.float64)\n",
      "Correspondence set estimation...\n",
      "Extrinsics estimation...\n",
      "Did not converge with required tolerance.\n",
      "loss tensor(0.0662, dtype=torch.float64)\n",
      "Correspondence set estimation...\n",
      "Extrinsics estimation...\n",
      "Did not converge with required tolerance.\n",
      "loss tensor(0.0581, dtype=torch.float64)\n",
      "Correspondence set estimation...\n",
      "Extrinsics estimation...\n",
      "Did not converge with required tolerance.\n",
      "loss tensor(0.0548, dtype=torch.float64)\n",
      "loss tensor(0.0548, dtype=torch.float64, grad_fn=<SumBackward0>)\n"
     ]
    },
    {
     "name": "stderr",
     "output_type": "stream",
     "text": [
      " 93%|█████████▎| 28/30 [14:47<01:14, 37.23s/it]"
     ]
    },
    {
     "name": "stdout",
     "output_type": "stream",
     "text": [
      "L1 between depth_first pic with motion blur and GT: 0.017048973258365966\n",
      "L1 between pc0 xyz and GT pc0 xyz: tensor(0.1131, dtype=torch.float64, grad_fn=<MeanBackward0>)\n",
      "Correspondence set estimation...\n",
      "Extrinsics estimation...\n",
      "Did not converge with required tolerance.\n",
      "loss tensor(0.4538, dtype=torch.float64)\n",
      "Correspondence set estimation...\n",
      "Extrinsics estimation...\n",
      "Did not converge with required tolerance.\n",
      "loss tensor(0.2837, dtype=torch.float64)\n",
      "Correspondence set estimation...\n",
      "Extrinsics estimation...\n",
      "Did not converge with required tolerance.\n",
      "loss tensor(0.2025, dtype=torch.float64)\n",
      "Correspondence set estimation...\n",
      "Extrinsics estimation...\n",
      "Did not converge with required tolerance.\n",
      "loss tensor(0.1379, dtype=torch.float64)\n",
      "Correspondence set estimation...\n",
      "Extrinsics estimation...\n",
      "Did not converge with required tolerance.\n",
      "loss tensor(0.1037, dtype=torch.float64)\n",
      "Correspondence set estimation...\n",
      "Extrinsics estimation...\n",
      "Did not converge with required tolerance.\n",
      "loss tensor(0.0865, dtype=torch.float64)\n",
      "Correspondence set estimation...\n",
      "Extrinsics estimation...\n",
      "Did not converge with required tolerance.\n",
      "loss tensor(0.0645, dtype=torch.float64)\n",
      "Correspondence set estimation...\n",
      "Extrinsics estimation...\n",
      "Did not converge with required tolerance.\n",
      "loss tensor(0.0538, dtype=torch.float64)\n",
      "Correspondence set estimation...\n",
      "Extrinsics estimation...\n",
      "Did not converge with required tolerance.\n",
      "loss tensor(0.0493, dtype=torch.float64)\n",
      "Correspondence set estimation...\n",
      "Extrinsics estimation...\n",
      "Did not converge with required tolerance.\n",
      "loss tensor(0.0477, dtype=torch.float64)\n",
      "loss tensor(0.0477, dtype=torch.float64, grad_fn=<SumBackward0>)\n"
     ]
    },
    {
     "name": "stderr",
     "output_type": "stream",
     "text": [
      " 97%|█████████▋| 29/30 [15:21<00:36, 36.29s/it]"
     ]
    },
    {
     "name": "stdout",
     "output_type": "stream",
     "text": [
      "L1 between depth_first pic with motion blur and GT: 0.01704898670774357\n",
      "L1 between pc0 xyz and GT pc0 xyz: tensor(0.1133, dtype=torch.float64, grad_fn=<MeanBackward0>)\n",
      "Correspondence set estimation...\n",
      "Extrinsics estimation...\n",
      "Did not converge with required tolerance.\n",
      "loss tensor(0.4433, dtype=torch.float64)\n",
      "Correspondence set estimation...\n",
      "Extrinsics estimation...\n",
      "Did not converge with required tolerance.\n",
      "loss tensor(0.2782, dtype=torch.float64)\n",
      "Correspondence set estimation...\n",
      "Extrinsics estimation...\n",
      "Did not converge with required tolerance.\n",
      "loss tensor(0.1950, dtype=torch.float64)\n",
      "Correspondence set estimation...\n",
      "Extrinsics estimation...\n",
      "Did not converge with required tolerance.\n",
      "loss tensor(0.1341, dtype=torch.float64)\n",
      "Correspondence set estimation...\n",
      "Extrinsics estimation...\n",
      "Did not converge with required tolerance.\n",
      "loss tensor(0.1028, dtype=torch.float64)\n",
      "Correspondence set estimation...\n",
      "Extrinsics estimation...\n",
      "Did not converge with required tolerance.\n",
      "loss tensor(0.0883, dtype=torch.float64)\n",
      "Correspondence set estimation...\n",
      "Extrinsics estimation...\n",
      "Did not converge with required tolerance.\n",
      "loss tensor(0.0615, dtype=torch.float64)\n",
      "Correspondence set estimation...\n",
      "Extrinsics estimation...\n",
      "Did not converge with required tolerance.\n",
      "loss tensor(0.0438, dtype=torch.float64)\n",
      "Correspondence set estimation...\n",
      "Extrinsics estimation...\n",
      "Did not converge with required tolerance.\n",
      "loss tensor(0.0383, dtype=torch.float64)\n",
      "Correspondence set estimation...\n",
      "Extrinsics estimation...\n",
      "Did not converge with required tolerance.\n",
      "loss tensor(0.0378, dtype=torch.float64)\n",
      "loss tensor(0.0378, dtype=torch.float64, grad_fn=<SumBackward0>)\n"
     ]
    },
    {
     "name": "stderr",
     "output_type": "stream",
     "text": [
      "100%|██████████| 30/30 [15:54<00:00, 31.83s/it]"
     ]
    },
    {
     "name": "stdout",
     "output_type": "stream",
     "text": [
      "L1 between depth_first pic with motion blur and GT: 0.017049000486638634\n",
      "L1 between pc0 xyz and GT pc0 xyz: tensor(0.1145, dtype=torch.float64, grad_fn=<MeanBackward0>)\n"
     ]
    },
    {
     "name": "stderr",
     "output_type": "stream",
     "text": [
      "\n"
     ]
    }
   ],
   "source": [
    "visualize_pcdlam_iter = 30\n",
    "internal_iter = 10\n",
    "opt = optim.Adam([depth_first], lr=3e-3)\n",
    "\n",
    "depth_history = []\n",
    "loss_history = []\n",
    "internal_loss_history = []\n",
    "l1_depth_history = []\n",
    "l1_xyz_history = []\n",
    "\n",
    "depth_first_img = depth_first.cpu().data.numpy()\n",
    "depth_first_img_gt = gt_depth[0].cpu().data.numpy()\n",
    "depth_history.append(depth_first_img)\n",
    "# plt.figure(figsize=(10, 5))\n",
    "# plt.imshow(depth_first_img, cmap=plt.cm.Greys_r)\n",
    "# plt.colorbar()\n",
    "# plt.show()\n",
    "print('L1 between depth_first pic with motion blur and GT:', (np.abs(depth_first_img - depth_first_img_gt).mean()))\n",
    "print('L1 between pc0 xyz and GT pc0 xyz:', (torch.abs(pc0.points - gt_pc0.points).mean()))\n",
    "\n",
    "for i in tqdm(range(gradslam_iter)):\n",
    "    pc0 = Cloud.from_tensors(depth_first, K, torch.eye(4), ignore='max')\n",
    "    pc1 = Cloud.from_tensors(depth_second, K, torch.eye(4), ignore='max')\n",
    "    \n",
    "    T = torch.eye(4).double()\n",
    "    \n",
    "    # visualize_pcd(pc0)\n",
    "  \n",
    "    for j in range(internal_iter):\n",
    "        # params_upd = optim_step_ICP(pc0, pc1, max_iter=10, icp_max_iter=1, verbose=0)\n",
    "        params_upd = optim_step_neighbors(pc0, pc1, max_iter=10, neighbors_take_each=1000, verbose=0)\n",
    "        transl_upd, angle_upd = params_upd.split([3, 3], dim=-1)\n",
    "        rot_upd = create_rot_from_angle(angle_upd.unsqueeze(0)).squeeze(0)\n",
    "        pc0.points = transform_pc(pc0.points, rot_upd, transl_upd).squeeze(1)\n",
    "\n",
    "        T_upd = extrinsics_from_rot_transl(rot_upd, transl_upd).double()\n",
    "        T = T_upd @ T\n",
    "        rot, transl = T[:3, :3], T[:3, 3]\n",
    "        params = get_params_from_rot_and_transl(rot, transl)\n",
    "        # print('loss', loss_T(T, extr[0], extr[1]))\n",
    "        # print('loss', loss_params(params, extr[0], extr[1]))\n",
    "        loss_val = loss_params(params, extr[0], extr[1]).detach()\n",
    "        internal_loss_history.append(loss_val.item())\n",
    "        print('loss', loss_val)\n",
    "    \n",
    "    opt.zero_grad()\n",
    "    loss_val = loss_params(params, extr[0], extr[1])\n",
    "    loss_history.append(loss_val.item())\n",
    "    print('loss', loss_val)\n",
    "    loss_val.backward()\n",
    "    opt.step()\n",
    "    \n",
    "#     if i % 5 == 0:\n",
    "#         visualize_pcd(pc0, pc1)\n",
    "    \n",
    "    depth_first_img = depth_first.cpu().data.numpy()\n",
    "    depth_first_img_gt = gt_depth[0].cpu().data.numpy()\n",
    "    depth_history.append(depth_first_img)\n",
    "#     plt.figure(figsize=(10, 5))\n",
    "#     plt.imshow(depth_first_img, cmap=plt.cm.Greys_r)\n",
    "#     plt.colorbar()\n",
    "#     plt.show()\n",
    "    l1_depth_history.append(np.abs(depth_first_img - depth_first_img_gt).mean())\n",
    "    l1_xyz_history.append(torch.abs(pc0.points - gt_pc0.points).mean())\n",
    "    print('L1 between depth_first pic with motion blur and GT:', (np.abs(depth_first_img - depth_first_img_gt).mean()))\n",
    "    print('L1 between pc0 xyz and GT pc0 xyz:', (torch.abs(pc0.points - gt_pc0.points).mean()))"
   ]
  },
  {
   "cell_type": "code",
   "execution_count": 20,
   "metadata": {},
   "outputs": [],
   "source": [
    "plot_counter += 1"
   ]
  },
  {
   "cell_type": "code",
   "execution_count": 21,
   "metadata": {},
   "outputs": [
    {
     "data": {
      "image/png": "[encoded data removed]",
      "text/plain": [
       "<Figure size 432x288 with 1 Axes>"
      ]
     },
     "metadata": {
      "needs_background": "light"
     },
     "output_type": "display_data"
    }
   ],
   "source": [
    "plt.plot(loss_history)\n",
    "plt.savefig(f'loss_history_{plot_counter}.pdf')\n",
    "np.save(f'loss_history_{plot_counter}.npy', loss_history)"
   ]
  },
  {
   "cell_type": "code",
   "execution_count": 22,
   "metadata": {},
   "outputs": [
    {
     "data": {
      "image/png": "[encoded data removed]",
      "text/plain": [
       "<Figure size 432x288 with 1 Axes>"
      ]
     },
     "metadata": {
      "needs_background": "light"
     },
     "output_type": "display_data"
    }
   ],
   "source": [
    "plt.plot(internal_loss_history)\n",
    "plt.savefig(f'internal_loss_history_{plot_counter}.pdf')\n",
    "np.save(f'internal_loss_history_{plot_counter}.npy', loss_history)"
   ]
  },
  {
   "cell_type": "code",
   "execution_count": 23,
   "metadata": {},
   "outputs": [
    {
     "data": {
      "image/png": "[encoded data removed]",
      "text/plain": [
       "<Figure size 720x360 with 1 Axes>"
      ]
     },
     "metadata": {
      "needs_background": "light"
     },
     "output_type": "display_data"
    }
   ],
   "source": [
    "plt.figure(figsize=(10, 5))\n",
    "plt.semilogy(np.arange(len(loss_history)) * internal_iter + internal_iter - 1, loss_history, '-*', label='Full step loss')\n",
    "plt.semilogy(np.arange(len(internal_loss_history)), internal_loss_history, '--', label='Losses during LM optimization')\n",
    "plt.legend()\n",
    "plt.savefig(f'internal_and_full_{plot_counter}.pdf')\n",
    "plt.savefig(f'internal_and_full_{plot_counter}.png')"
   ]
  },
  {
   "cell_type": "code",
   "execution_count": 24,
   "metadata": {},
   "outputs": [],
   "source": [
    "visualize_pcd(pc0)"
   ]
  },
  {
   "cell_type": "code",
   "execution_count": 72,
   "metadata": {},
   "outputs": [
    {
     "data": {
      "text/plain": [
       "(tensor(6.1311, dtype=torch.float64, grad_fn=<MinBackward1>),\n",
       " tensor(15., dtype=torch.float64, grad_fn=<MaxBackward1>))"
      ]
     },
     "execution_count": 72,
     "metadata": {},
     "output_type": "execute_result"
    }
   ],
   "source": [
    "depth_first.min(), depth_first.max()"
   ]
  },
  {
   "cell_type": "code",
   "execution_count": 73,
   "metadata": {},
   "outputs": [
    {
     "data": {
      "text/plain": [
       "(6.15234375, 15.0)"
      ]
     },
     "execution_count": 73,
     "metadata": {},
     "output_type": "execute_result"
    }
   ],
   "source": [
    "depth_first_img_gt.min(), depth_first_img_gt.max()"
   ]
  },
  {
   "cell_type": "code",
   "execution_count": 56,
   "metadata": {},
   "outputs": [
    {
     "data": {
      "text/plain": [
       "<matplotlib.colorbar.Colorbar at 0x7f10a3aafe10>"
      ]
     },
     "execution_count": 56,
     "metadata": {},
     "output_type": "execute_result"
    },
    {
     "data": {
      "image/png": "[encoded data removed]",
      "text/plain": [
       "<Figure size 432x288 with 2 Axes>"
      ]
     },
     "metadata": {
      "needs_background": "light"
     },
     "output_type": "display_data"
    }
   ],
   "source": [
    "visualize_pcd(pc0, pc1)"
   ]
  },
  {
   "cell_type": "code",
   "execution_count": null,
   "metadata": {},
   "outputs": [],
   "source": []
  }
 ],
 "metadata": {
  "kernelspec": {
   "display_name": "Python 3",
   "language": "python",
   "name": "python3"
  },
  "language_info": {
   "codemirror_mode": {
    "name": "ipython",
    "version": 3
   },
   "file_extension": ".py",
   "mimetype": "text/x-python",
   "name": "python",
   "nbconvert_exporter": "python",
   "pygments_lexer": "ipython3",
   "version": "3.7.4"
  }
 },
 "nbformat": 4,
 "nbformat_minor": 4
}
